{
 "cells": [
  {
   "cell_type": "markdown",
   "id": "12eec9ab",
   "metadata": {},
   "source": [
    "### PROJECTION DEMOGRAPHIQUE NIAYES2040"
   ]
  },
  {
   "cell_type": "markdown",
   "id": "837ca073",
   "metadata": {},
   "source": [
    "#### 1- Les fonctions"
   ]
  },
  {
   "cell_type": "markdown",
   "id": "a1c6b8f4",
   "metadata": {},
   "source": [
    "- création de dossiers"
   ]
  },
  {
   "cell_type": "code",
   "execution_count": 1,
   "id": "f312cfc9",
   "metadata": {},
   "outputs": [],
   "source": [
    "create_folder=function(x,path=getwd()){\n",
    "    \n",
    "        for (f in x){\n",
    "            \n",
    "            folder<-file.path(path, f)\n",
    "\n",
    "        if (!dir.exists(folder)){\n",
    "            dir.create(folder)\n",
    "            print(paste(f,\"has been created!\"))\n",
    "        } else {\n",
    "        print(paste(folder,\"already exists!\"))}\n",
    "        }\n",
    "}"
   ]
  },
  {
   "cell_type": "markdown",
   "id": "8321e189",
   "metadata": {},
   "source": [
    "- lecture automatique de fichiers csv"
   ]
  },
  {
   "cell_type": "code",
   "execution_count": 2,
   "id": "b8ec3eca",
   "metadata": {},
   "outputs": [],
   "source": [
    "rcsv_sep=function(file_path){\n",
    "    L <- readLines(file_path, n = 1)\n",
    "    if (grepl(\";\", L)) read.csv2(file_path) else read.csv(file_path)\n",
    "    }"
   ]
  },
  {
   "cell_type": "markdown",
   "id": "be9ec319",
   "metadata": {},
   "source": [
    "- tranposer la base de données"
   ]
  },
  {
   "cell_type": "code",
   "execution_count": 3,
   "id": "be3885ec",
   "metadata": {},
   "outputs": [],
   "source": [
    "tanspo_proj=function(file_path){\n",
    "\n",
    "    data<-rcsv_sep(file_path)\n",
    "    #data$RGPHAE<- stringr::str_replace_all(data$RGPHAE, \" \", \"_\")\n",
    "    #data<-data[1:(length(names(data))-2)]\n",
    "    data<-setNames(data.frame(t(data[,-1])), data[,1])[,1:((dim(data)[1])-1)]\n",
    "    data<-data.table::setDT(data, keep.rownames = TRUE)[]\n",
    "    names(data)[1]<-\"years\"\n",
    "    data$years<-as.numeric((stringr::str_remove_all(unlist(data[,1]), \"X\")))\n",
    "    return(data)\n",
    "}"
   ]
  },
  {
   "cell_type": "markdown",
   "id": "0b804605",
   "metadata": {},
   "source": [
    "- Les taux de croissance moyen (tmc)"
   ]
  },
  {
   "cell_type": "markdown",
   "id": "6096649a",
   "metadata": {},
   "source": [
    "     taux de croissance moyen calcul log:"
   ]
  },
  {
   "cell_type": "code",
   "execution_count": 4,
   "id": "084b71b7",
   "metadata": {},
   "outputs": [],
   "source": [
    "tmc_log<-function(values,years=NULL){\n",
    "\n",
    "    values<-values\n",
    "    years<-years\n",
    "    \n",
    "        if(is.null(years) & is.null(dim(values))){\n",
    "            print(\"Error!! pour résoudre le problème:\")\n",
    "            print(\"- Donnez le vecteur des dates puis celui des valeurs\")\n",
    "            print(\"Ou \")\n",
    "            print(\"- Donnez une data.frame df[years,values]\")\n",
    "        }\n",
    "        \n",
    "        if(is.null(years) & !is.null(dim(values))){\n",
    "            \n",
    "            if(dim(values)[2]==1)stop(\n",
    "\"Error!! pour résoudre le problème:\n",
    "Donnez le vecteur des dates puis celui des valeurs\n",
    "Ou;\n",
    "Donnez une data.frame df[years,values]\")\n",
    "\n",
    "            \n",
    "            years<-values[,1]\n",
    "            values<-values[,2]}\n",
    "    \n",
    "    n<-years[length(unlist(years))]-years[1]\n",
    "    to<-(1/n)*log((values[length(unlist(values))]/values[1]))\n",
    "return(to)\n",
    "}"
   ]
  },
  {
   "cell_type": "markdown",
   "id": "299da6d1",
   "metadata": {},
   "source": [
    "     taux de croissance moyen calcul racine-n-èime:"
   ]
  },
  {
   "cell_type": "code",
   "execution_count": 5,
   "id": "bc559241",
   "metadata": {},
   "outputs": [],
   "source": [
    "tmc_racine_n<-function(values,years=NULL){\n",
    "\n",
    "    values<-values\n",
    "    years<-years\n",
    "    \n",
    "        if(is.null(years) & is.null(dim(values))){\n",
    "            print(\"Error!! pour résoudre le problème:\")\n",
    "            print(\"- Donnez le vecteur des dates puis celui des valeurs\")\n",
    "            print(\"Ou \")\n",
    "            print(\"- Donnez une data.frame df[years,values]\")\n",
    "        }\n",
    "        \n",
    "        if(is.null(years) & !is.null(dim(values))){\n",
    "            \n",
    "            if(dim(values)[2]==1)stop(\n",
    "\"Error!! pour résoudre le problème:\n",
    "Donnez le vecteur des dates puis celui des valeurs\n",
    "Ou;\n",
    "Donnez une data.frame df[years,values]\")\n",
    "\n",
    "            \n",
    "            years<-values[,1]\n",
    "            values<-values[,2]}\n",
    "    \n",
    "    n<-years[length(unlist(years))]-years[1]\n",
    "    to<-((values[length(unlist(values))]/values[1])^(1/n))-1\n",
    "return(to)\n",
    "}"
   ]
  },
  {
   "cell_type": "markdown",
   "id": "ef6fde25",
   "metadata": {},
   "source": [
    "- tableaux de taux de croissance"
   ]
  },
  {
   "cell_type": "code",
   "execution_count": 6,
   "id": "c8e350e7",
   "metadata": {},
   "outputs": [],
   "source": [
    "list_tmc=function(df,com,outpath=\"projection_demographique_niayes2040\"){\n",
    "\n",
    "    #if (is.null(com)){com<-names(df)}\n",
    "    \n",
    "    tmc<-data.frame(row.names = com)\n",
    "    tmc[c(\"tmc_log\",\"tmc_racine_n\")]<-NA\n",
    "    \n",
    "    for (c in com){\n",
    "        tmc[c,\"tmc_log\"]<-tmc_log(subset(df,select=c(\"years\",c)))\n",
    "        tmc[c,\"tmc_racine_n\"]<-tmc_racine_n(subset(df,select=c(\"years\",c)))\n",
    "    }\n",
    "    write.csv2(tmc,file.path(outpath,\"taux_moyen_croissance.csv\"))\n",
    "    return(tmc)\n",
    "}"
   ]
  },
  {
   "cell_type": "markdown",
   "id": "bf2f84cb",
   "metadata": {},
   "source": [
    "- Projection demographique"
   ]
  },
  {
   "cell_type": "markdown",
   "id": "16524d70",
   "metadata": {},
   "source": [
    "    a- methode1: croissance geométrique"
   ]
  },
  {
   "cell_type": "code",
   "execution_count": 7,
   "id": "2775d8f2",
   "metadata": {},
   "outputs": [],
   "source": [
    "proj_geom=function(df,list_tmc,future=2040,methode=\"tmc_racine_n\"){\n",
    "    \n",
    "    #reporduire les données de base\n",
    "    if (is.null(future)){\n",
    "        \n",
    "        years<-df$years\n",
    "        pj<-df[1,]\n",
    "        len_y0<-length((years))\n",
    "        last_y0<-years[len_y0]\n",
    "        n<-((last_y0-years[1]))\n",
    "        for (t in 1:n){\n",
    "            pj[1+t,1]<-pj[1,1]+t\n",
    "            for (nm in names(pj)){\n",
    "                pj[1+t,nm]<-pj[1,nm]*(1+list_tmc[nm,methode])^t}\n",
    "        }\n",
    "        return(pj)\n",
    "    }\n",
    "    \n",
    "    #projection vers le future\n",
    "    if(!is.null(future)){\n",
    "        \n",
    "        years<-df$years\n",
    "        pj<-df\n",
    "        len_y0<-length(years)\n",
    "        last_y0<-(years[len_y0])\n",
    "        n<-future-last_y0\n",
    "        for (t in 1:n){\n",
    "            \n",
    "            \n",
    "            de<-data.frame(matrix(ncol=length(names(pj))))\n",
    "            names(de)<-names(pj)\n",
    "            \n",
    "            pe<-pj[len_y0,\"years\"]+t\n",
    "            de[\"years\"]<-pe\n",
    "\n",
    "            pj<-data.frame(rbind(pj,de))\n",
    "\n",
    "            for (nm in names(pj)[2:length(names(pj))]){\n",
    "                pj[len_y0+t,nm]<-round(pj[1,nm]*(1+list_tmc[nm,methode])^(t+len_y0))\n",
    "                pj[len_y0+t,\"years\"]<-pe}\n",
    "        }\n",
    "    }\n",
    "    outpath<-file.path(\"projection_demographique_niayes2040\")\n",
    "    write.csv2(pj,file.path(outpath,paste(\"projection_geometrique\",\"_\",future,\".csv\",sep=\"\")))\n",
    "    return(pj)\n",
    "}"
   ]
  },
  {
   "cell_type": "markdown",
   "id": "35d23ebf",
   "metadata": {},
   "source": [
    "    b- methode2: croissance exponentielle"
   ]
  },
  {
   "cell_type": "code",
   "execution_count": 8,
   "id": "38fc5183",
   "metadata": {},
   "outputs": [],
   "source": [
    "proj_expo=function(df,list_tmc,future=2040,methode=\"tmc_racine_n\"){\n",
    "    \n",
    "    #reporduire les données de base\n",
    "    if (is.null(future)){\n",
    "        \n",
    "        years<-df$years\n",
    "        pj<-df[1,]\n",
    "        len_y0<-length(years)\n",
    "        last_y0<-years[len_y0]\n",
    "        n<-((last_y0-years[1]))\n",
    "        for (t in 1:n){\n",
    "            pj[1+t,1]<-pj[1,1]+t\n",
    "            \n",
    "            for (nm in names(pj)[2:length(names(pj))]){\n",
    "                pj[1+t,nm]<-pj[1,nm]*(1+list_tmc[nm,methode])^t\n",
    "                pj[1+t,nm]<-pj[1,nm]*exp((t)*(list_tmc[nm,methode]))}\n",
    "        }\n",
    "        return(pj)\n",
    "    }\n",
    "    \n",
    "    #projection vers le future\n",
    "    if(!is.null(future)){\n",
    "        \n",
    "        years<-df$years\n",
    "        pj<-df\n",
    "        len_y0<-length((years))\n",
    "        last_y0<-years[len_y0]\n",
    "        n<-(future-last_y0)\n",
    "        for (t in 1:n){\n",
    "            de<-data.frame(matrix(ncol=length(names(pj))))\n",
    "            names(de)<-names(pj)\n",
    "            pe<-pj[len_y0,\"years\"]+t\n",
    "            de[\"years\"]<-pe\n",
    "            pj<-data.frame(rbind(pj,de))\n",
    "            \n",
    "            for (nm in names(pj)[2:length(names(pj))]){\n",
    "                pj[len_y0+t,nm]<-round(pj[1,nm]*exp((t+len_y0)*(list_tmc[nm,methode])))\n",
    "                pj[len_y0+t,\"years\"]<-pe}\n",
    "        }\n",
    "    }\n",
    "    outpath<-file.path(\"projection_demographique_niayes2040\")\n",
    "    write.csv2(pj,file.path(outpath,paste(\"projection_exponentielle\",\"_\",future,\".csv\",sep=\"\")))\n",
    "    return(pj)\n",
    "}"
   ]
  },
  {
   "cell_type": "markdown",
   "id": "66dc52b8",
   "metadata": {},
   "source": [
    "- Rétro-Projection demographique"
   ]
  },
  {
   "cell_type": "markdown",
   "id": "14481d1a",
   "metadata": {},
   "source": [
    "        a- methode1: croissance geométrique"
   ]
  },
  {
   "cell_type": "code",
   "execution_count": 9,
   "id": "4a2f5e71",
   "metadata": {},
   "outputs": [],
   "source": [
    "Re_proj_geom=function(df,list_tmc,passee=2006,methode=\"tmc_racine_n\"){\n",
    "    \n",
    "        years<-df$years\n",
    "        pj<-df\n",
    "        first_y0<-(years[1])\n",
    "        n<-first_y0-passee\n",
    "        for (t in 1:n){\n",
    "              \n",
    "            de<-data.frame(matrix(ncol=length(names(pj))))\n",
    "            names(de)<-names(pj)\n",
    "            \n",
    "            pe<-(pj[(pj$years==first_y0),])$years-t\n",
    "            de[\"years\"]<-pe\n",
    "\n",
    "            pj<-data.frame(rbind(de,pj))\n",
    "\n",
    "            for (nm in names(pj)[2:length(names(pj))]){\n",
    "                pj[(pj$years==pe),nm]<-round(pj[(pj$years==first_y0),nm]/((1+list_tmc[nm,methode])^(t)))\n",
    "                #pj[1,\"years\"]<-pe\n",
    "            }\n",
    "        }\n",
    "\n",
    "    outpath<-file.path(\"projection_demographique_niayes2040\")\n",
    "    write.csv2(pj,file.path(outpath,paste(\"Retro_projection_geometrique\",\"_\",passee,\".csv\",sep=\"\")))\n",
    "    return(pj)\n",
    "}"
   ]
  },
  {
   "cell_type": "markdown",
   "id": "e7b9d23d",
   "metadata": {},
   "source": [
    "        b- methode2: croissance exponentielle"
   ]
  },
  {
   "cell_type": "code",
   "execution_count": 10,
   "id": "27fe09ff",
   "metadata": {},
   "outputs": [],
   "source": [
    "Re_proj_expo=function(df,list_tmc,passee=2006,methode=\"tmc_racine_n\"){\n",
    "    \n",
    "\n",
    "       \n",
    "        years<-df$years\n",
    "        pj<-df\n",
    "        first_y0<-(years[1])\n",
    "        n<-first_y0-passee\n",
    "        for (t in 1:n){\n",
    "              \n",
    "            de<-data.frame(matrix(ncol=length(names(pj))))\n",
    "            names(de)<-names(pj)\n",
    "            \n",
    "            pe<-(pj[(pj$years==first_y0),])$years-t\n",
    "            de[\"years\"]<-pe\n",
    "\n",
    "            pj<-data.frame(rbind(de,pj))\n",
    "\n",
    "            for (nm in names(pj)[2:length(names(pj))]){\n",
    "\n",
    "                pj[(pj$years==pe),nm]<-round(pj[(pj$years==first_y0),nm]/(exp((t)*(list_tmc[nm,methode]))))\n",
    "                #pj[1,\"years\"]<-pe\n",
    "            }\n",
    "        }\n",
    "\n",
    "    outpath<-file.path(\"projection_demographique_niayes2040\")\n",
    "    write.csv2(pj,file.path(outpath,paste(\"Retro_projection_exponentielle\",\"_\",passee,\".csv\",sep=\"\")))\n",
    "    return(pj)\n",
    "}"
   ]
  },
  {
   "cell_type": "markdown",
   "id": "306a11d8",
   "metadata": {},
   "source": [
    "- Projection"
   ]
  },
  {
   "cell_type": "code",
   "execution_count": 11,
   "id": "78ada867",
   "metadata": {},
   "outputs": [],
   "source": [
    "projection=function(file_path,future=NULL,passee=NULL,com=NULL){\n",
    "    \n",
    "    \n",
    "    df<-tanspo_proj(file_path)\n",
    "    outpath<-file.path(\"projection_demographique_niayes2040\")\n",
    "    create_folder(outpath)\n",
    "    if (is.null(com)){\n",
    "        com<-names(df)\n",
    "        com<-com[2:length(com)]\n",
    "        df<-df}else{df<-subset(df,select=c(\"years\",com))}\n",
    "    \n",
    "    names(df)<-((stringr::str_remove_all(names(df), \"X\")))\n",
    "    \n",
    "    tmcList<-list_tmc(df,com)\n",
    "    \n",
    "    pjg<-proj_geom(df,tmcList,future)\n",
    "    pje<-proj_expo(df,tmcList,future)\n",
    "    rpjg<-Re_proj_geom(df,tmcList,passee)\n",
    "    rpje<-Re_proj_expo(df,tmcList,passee)\n",
    "}"
   ]
  },
  {
   "cell_type": "raw",
   "id": "0e956473",
   "metadata": {},
   "source": [
    "file_path<-\"C:/Users/kouno/Desktop/Programme_Crésus/projection_demographique_niayes2040/proj_RGPHAE_2013_arron.csv\"\n",
    "commune<-c(\"keur.moussa\",\"meouane\",\"ndande\",\"pambal\")\n",
    "com<-commune\n",
    "future=2040"
   ]
  },
  {
   "cell_type": "code",
   "execution_count": 12,
   "id": "c97e5e86",
   "metadata": {},
   "outputs": [
    {
     "name": "stdout",
     "output_type": "stream",
     "text": [
      "[1] \"projection_demographique_niayes2040 has been created!\"\n"
     ]
    }
   ],
   "source": [
    "projection(\"C:/Users/kouno/Desktop/Programme_Crésus/projection_demographique_niayes2040/RGPHAE_2013_extrait.csv\",2040,2000)"
   ]
  },
  {
   "cell_type": "code",
   "execution_count": 13,
   "id": "0369c757",
   "metadata": {},
   "outputs": [
    {
     "ename": "ERROR",
     "evalue": "Error in parse(text = x, srcfile = src): <text>:2:0: fin d'entrée inattendue\n1: stop>\n   ^\n",
     "output_type": "error",
     "traceback": [
      "Error in parse(text = x, srcfile = src): <text>:2:0: fin d'entrée inattendue\n1: stop>\n   ^\nTraceback:\n"
     ]
    }
   ],
   "source": [
    "stop!"
   ]
  },
  {
   "cell_type": "raw",
   "id": "d7f6127f",
   "metadata": {},
   "source": [
    "df<-tanspo_proj(\"projection_demographique_niayes2040/RGPHAE_2013.csv\")\n",
    "future=2040\n",
    "passee=2000\n",
    "methode=\"tmc_racine_n\"\n",
    "com<-names(df)\n",
    "com<-com[2:length(com)]"
   ]
  },
  {
   "cell_type": "raw",
   "id": "cdd4022e",
   "metadata": {},
   "source": [
    "tmcList<-list_tmc(df,com)"
   ]
  },
  {
   "cell_type": "raw",
   "id": "660e4747",
   "metadata": {},
   "source": [
    "commune<-c(\"DEPARTEMENT THIES\",\"COM. POUT\",\"COM. CAYAR\",\"ARRONDISSEMNT  KEUR MOUSSA\",\"CR.  DIENDER GUEDJI\",\n",
    "           \"CR.  FANDENE\",\"CR.  KEUR MOUSSA\",\"ARRONDISSEMENT THIES NORD\",\"CA. THIES NORD\",\"ARRONDISSEMENT THIES SUD\",\n",
    "          \"CA. THIES EST\",\"CA. THIES OUEST\",\"DEPARTEMENT  TIVAOUANE\",\"COM. MEKHE\",\"COM. TIVAOUANE\",\"COM. M’BORO\",\n",
    "          \"ARRONDISSEMENT  MEOUANE\",\"CR.  MEOUANE\",\"CR.  TAIBA N’DIAYE\",\"CR.  DAROU KHOUDOSS\",\n",
    "           \"ARRONDISSEMENT  PAMBAL\",\"CR.  CHERIF LÖ\",\"CR.  MONT- ROLLAND\",\"CR.  NOTTO GOUYE DIAMA\",\n",
    "          \"CR.  PIRE GOUREYE\",\"CR. PAMBAL\",\"COM. KEBEMER\",\"ARRONDISSEMENT NDANDE\",\"CR.  BADEGNE OUOLOF\",\n",
    "          \"CR.  DIOKOUL DIAWRIGNE\",\"CR.  KAB GAYE\",\"CR.  NDANDE\",\"CR.  THIEPPE\")"
   ]
  },
  {
   "cell_type": "raw",
   "id": "7cf2583b",
   "metadata": {},
   "source": [
    "commune<- iconv(commune, from = 'UTF-8', to = 'ASCII//TRANSLIT')\n",
    "commune<- stringr::str_replace_all(commune, \" \", \"_\")\n",
    "commune<- stringr::str_replace_all(commune, \"/\", \"_\")\n",
    "commune<- stringr::str_replace_all(commune, \"  \", \"_\")\n",
    "commune<- stringr::str_replace_all(commune, \"'\", \".\")\n",
    "commune<- stringr::str_replace_all(commune, \"-\", \"_\")\n",
    "\n",
    "commune<-stringr::str_trim(commune)\n",
    "commune<-stringr::str_to_lower(commune)\n",
    "commune<- stringr::str_replace_all(commune, \"_urbain\", \"urbain\")\n",
    "commune<- stringr::str_replace_all(commune, \"_rural\", \"rural\")\n",
    "commune<- stringr::str_replace_all(commune, \"(nord)\", \"nord\")"
   ]
  },
  {
   "cell_type": "code",
   "execution_count": null,
   "id": "632f8bef",
   "metadata": {},
   "outputs": [],
   "source": []
  }
 ],
 "metadata": {
  "kernelspec": {
   "display_name": "R",
   "language": "R",
   "name": "ir"
  },
  "language_info": {
   "codemirror_mode": "r",
   "file_extension": ".r",
   "mimetype": "text/x-r-source",
   "name": "R",
   "pygments_lexer": "r",
   "version": "4.1.1"
  }
 },
 "nbformat": 4,
 "nbformat_minor": 5
}
