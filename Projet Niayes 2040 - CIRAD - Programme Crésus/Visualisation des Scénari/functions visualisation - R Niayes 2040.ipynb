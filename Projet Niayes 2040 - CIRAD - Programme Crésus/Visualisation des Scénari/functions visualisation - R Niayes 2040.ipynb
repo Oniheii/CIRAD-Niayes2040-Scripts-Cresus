{
 "cells": [
  {
   "cell_type": "markdown",
   "id": "c63ede86",
   "metadata": {},
   "source": [
    "# FONCTIONS PERSONNALISEES R-NIAYES 2040"
   ]
  },
  {
   "cell_type": "markdown",
   "id": "1a4ebd0a",
   "metadata": {},
   "source": [
    "##### GRAPHIQUE PAR SIMULATION"
   ]
  },
  {
   "cell_type": "markdown",
   "id": "f8cb47eb",
   "metadata": {},
   "source": [
    "- création de dossiers voulus lorsqu'ils n'existent pas"
   ]
  },
  {
   "cell_type": "code",
   "execution_count": 1,
   "id": "a1f466d9",
   "metadata": {},
   "outputs": [],
   "source": [
    "\n",
    "create_folder=function(x,path=getwd()){\n",
    "  \n",
    "  for (f in x){\n",
    "    \n",
    "    folder<-file.path(path, f)\n",
    "    \n",
    "    if (!dir.exists(folder)){\n",
    "      dir.create(folder)\n",
    "      print(paste(f,\"has been created!\"))\n",
    "    } else {\n",
    "      print(paste(folder,\"already exists!\"))}\n",
    "  }\n",
    "}"
   ]
  },
  {
   "cell_type": "markdown",
   "id": "d49ca5fa",
   "metadata": {},
   "source": [
    "- split bar"
   ]
  },
  {
   "cell_type": "code",
   "execution_count": 2,
   "id": "c1ecf323",
   "metadata": {},
   "outputs": [],
   "source": [
    "split_bar<-function(x){\n",
    "    as.list(strsplit(tools::file_path_sans_ext(x),\n",
    "                     '/')[[1]])[-1]\n",
    "}"
   ]
  },
  {
   "cell_type": "code",
   "execution_count": 3,
   "id": "7e82f01b",
   "metadata": {},
   "outputs": [],
   "source": [
    "split_bar8<-function(x){\n",
    "    as.list(strsplit(tools::file_path_sans_ext(x),\n",
    "                     '_')[[1]])[-1]\n",
    "}"
   ]
  },
  {
   "cell_type": "markdown",
   "id": "7755158b",
   "metadata": {},
   "source": [
    "- rechercher les fichiers voulu dans le répertoire initial"
   ]
  },
  {
   "cell_type": "code",
   "execution_count": 4,
   "id": "9f39aace",
   "metadata": {},
   "outputs": [],
   "source": [
    "find_myfiles=function(files=NULL,ext=NULL,\n",
    "                      patt=NULL,dir=NULL,\n",
    "                      fold=NULL){\n",
    "    initdir<-getwd()\n",
    "    \n",
    "    if (is.null(dir)){dir<-getwd()}\n",
    "    if (!is.null(fold)){dir<-file.path(dir,fold)}\n",
    "    \n",
    "    setwd(dir)\n",
    "    \n",
    "    #tous les dossiers du repertoire de travail\n",
    "    all_work_dir<-list.dirs(path = \".\",\n",
    "    full.names = TRUE, recursive = TRUE)\n",
    "\n",
    "    #list des chemins des fichiers recherchés\n",
    "    list_path<-c()\n",
    "    \n",
    "   #si le nom du fichier est précisé\n",
    "    if (!is.null(files)){\n",
    "        for (file in files){\n",
    "            \n",
    "            ##si l'extension du fichier est donnée\n",
    "            \n",
    "            if(!is.null(ext)){\n",
    "                file<-tools::file_path_sans_ext(file)\n",
    "                \n",
    "                files_path<-reader::find.file(paste(file,\n",
    "                ext,sep=\"\"),dir=dir,dirs=all_work_dir)\n",
    "                \n",
    "                #si un pattern est donné\n",
    "                \n",
    "                if (!is.null(patt)){\n",
    "                    \n",
    "                    files_path<-\n",
    "                    Filter(function(x) grepl(paste(ext,\n",
    "                                    \"$\",sep=\"\"), x),\n",
    "                           list.files(files_path,\n",
    "                                      pattern = patt,\n",
    "                                      full.names=T))}\n",
    "                \n",
    "                list_path<-c(list_path,files_path)\n",
    "            }\n",
    "            \n",
    "            ##si l'extension n'est pas donnée \n",
    "            #et que l'extension n'est pas dans le nom\n",
    "            \n",
    "            if(is.null(ext) & (tools::file_ext(file)==\"\")){\n",
    "                \n",
    "                print(\"Ajoutez l'extension au nom du fichier!!\")\n",
    "                print(\"Si le problème, \n",
    "                persiste alors le fichier n'existe probablement \n",
    "                pas dans ce répertoire!!\")}\n",
    "            \n",
    "            ##si l'extension n'est pas donnée \n",
    "            #et que l'extension est dans le nom\n",
    "            \n",
    "            if(is.null(ext) & (tools::file_ext(file)!=\"\")){\n",
    "                \n",
    "                ext<-tools::file_ext(file)\n",
    "                files_path<-reader::find.file(file,\n",
    "                            dir=dir,dirs=all_work_dir)\n",
    "                \n",
    "                #si un pattern est donné\n",
    "                \n",
    "                if (!is.null(patt)){\n",
    "                    \n",
    "                    files_path<-list.files(files_path,\n",
    "                                           pattern = patt)}\n",
    "            }\n",
    "        }\n",
    "        list_path<-c(list_path,files_path)\n",
    "    }\n",
    "        \n",
    "           #si le nom du fichier n'est pas précisé\n",
    "    \n",
    "    if(is.null(files)){\n",
    "        print(\"pas de nom fichier\")\n",
    "        \n",
    "        ##si l'extension du fichier n'est pas donnée\n",
    "        \n",
    "        if(is.null(ext) & (!is.null(patt))){\n",
    "            \n",
    "            for (di in all_work_dir){\n",
    "                p<-list.files(di,pattern = patt,full.names=T)\n",
    "                list_path<-c(list_path,p)}\n",
    "        }\n",
    "        \n",
    "        if(is.null(ext) & (is.null(patt))){\n",
    "            \n",
    "            for (di in all_work_dir){\n",
    "                p<-list.files(di)\n",
    "                list_path<-c(list_path,p,full.names=T)}\n",
    "        }\n",
    "        \n",
    "        ##si l'extension du fichier est donnée\n",
    "        \n",
    "        if(!is.null(ext) & (!is.null(patt))){\n",
    "            \n",
    "            for (di in all_work_dir){\n",
    "                p<-list.files(di,pattern = patt,full.names=T)\n",
    "                p<-Filter(function(x) grepl(paste(ext,\n",
    "                                    \"$\",sep=\"\"), x),p)\n",
    "                          list_path<-c(list_path,p)}\n",
    "                          }\n",
    "                          \n",
    "            if(is.null(ext) & (is.null(patt))){\n",
    "                \n",
    "                for (di in all_work_dir){\n",
    "                    p<-list.files(di,full.names=T)\n",
    "                    p<-Filter(function(x) grepl(paste(ext,\n",
    "                                        \"$\",sep=\"\"),x),p)\n",
    "                    list_path<-c(list_path,p)}\n",
    "                              }\n",
    "                    list_path}\n",
    "                    setwd(initdir)\n",
    "    return(list_path)}"
   ]
  },
  {
   "cell_type": "markdown",
   "id": "8ed94412",
   "metadata": {},
   "source": [
    "- copier ou déplacer des données dans les bons dossiers à partir des sorties brutes"
   ]
  },
  {
   "cell_type": "code",
   "execution_count": 5,
   "id": "9f66f405",
   "metadata": {},
   "outputs": [],
   "source": [
    "rename_rfile <- function (file=file,updat=file,\n",
    "                          cdir=NULL,dir=NULL){\n",
    "    \n",
    "    if(!is.null(dir)){file<-file.path(dir,file)\n",
    "                      updat<-file.path(dir,updat)}\n",
    "    \n",
    "    if (file.exists(file)) {\n",
    "        file.rename(file,updat)\n",
    "\n",
    "    } else {\n",
    "        cat(\"The file does not exist\")\n",
    "    }\n",
    "}"
   ]
  },
  {
   "cell_type": "markdown",
   "id": "38eec494",
   "metadata": {},
   "source": [
    "- copier ou déplacer des données dans les bons dossiers à partir des sorties brutes"
   ]
  },
  {
   "cell_type": "code",
   "execution_count": 6,
   "id": "cc75b22e",
   "metadata": {},
   "outputs": [],
   "source": [
    "tranf_scenario=function(full.pth,\n",
    "                        new_f=\"scenarios\",\n",
    "                        methode=\"copy\"){\n",
    "    \n",
    "    full.pth<-gsub(\"^./\",\"data/simulations/\",full.pth)\n",
    "\n",
    "    d<-split_bar(full.pth)\n",
    "\n",
    "    current_f<-paste(d[-length(d)],collapse=\"/\")\n",
    "    \n",
    "    file<-paste(d[[length(d)]],\".csv\",sep=\"\")\n",
    "    \n",
    "     if (methode==\"copy\"){ \n",
    "         file.copy(file.path(\"data\",\n",
    "                            current_f,file),new_f)\n",
    "         \n",
    "         \n",
    "     }\n",
    "    \n",
    "    if (methode==\"move\"){\n",
    "         filesstrings::file.move(file.path(\"data\",\n",
    "                    current_f,file),new_f)\n",
    "     }\n",
    "    \n",
    "    #n1<-split_bar8(d[[2]])[[6]]\n",
    "    #n2<-split_bar8(d[[2]])[[8]]\n",
    "    \n",
    "    updat<-gsub(d[[3]],\n",
    "                paste(c(\"scenario\",d[[2]],\n",
    "                d[[length(d)]]),collapse=\"_\"),\n",
    "                d[[3]])\n",
    "    \n",
    "    updat<-paste(updat,\".csv\",sep=\"\")\n",
    "\n",
    "     \n",
    "     rename_rfile(dir=new_f,file=file,updat=updat)\n",
    " }"
   ]
  },
  {
   "cell_type": "markdown",
   "id": "36590710",
   "metadata": {},
   "source": [
    "- Récuperer les données Scénarios Simulée pour les copier dans le dossier prévu pour"
   ]
  },
  {
   "cell_type": "code",
   "execution_count": 7,
   "id": "74e4e9d7",
   "metadata": {},
   "outputs": [],
   "source": [
    "get_My_scenario<-function(scenario=\"piezo\",\n",
    "                          dir=\"data\",\n",
    "                          fold=\"simulations\",\n",
    "                          ext=\".csv\",\n",
    "                          f=\"scenarios\"){\n",
    "    new_f<-file.path(f,scenario)\n",
    "    create_folder(new_f)\n",
    "    create_folder(f)\n",
    "    \n",
    "    \n",
    "    scenario_dir<-find_myfiles(patt=scenario,\n",
    "                               ext=ext,\n",
    "                               fold=fold,\n",
    "                               dir=dir)\n",
    "    \n",
    "    for (ri in scenario_dir){\n",
    "        tranf_scenario(ri,new_f=new_f)}\n",
    "}"
   ]
  },
  {
   "cell_type": "markdown",
   "id": "ef81bccb",
   "metadata": {},
   "source": [
    "- lecture tableau excel/csv..."
   ]
  },
  {
   "cell_type": "code",
   "execution_count": 8,
   "id": "86c95750",
   "metadata": {},
   "outputs": [],
   "source": [
    "rcsv_sep=function(file_path){\n",
    "    L <- readLines(file_path, n = 1)\n",
    "    if (grepl(\";\", L)) read.csv2(file_path) else read.csv(file_path)\n",
    "    }"
   ]
  },
  {
   "cell_type": "markdown",
   "id": "1700ff66",
   "metadata": {},
   "source": [
    "#### Visualisation scénarios Piezo"
   ]
  },
  {
   "cell_type": "markdown",
   "id": "d3805c9b",
   "metadata": {},
   "source": [
    "RMSE des scénarios"
   ]
  },
  {
   "cell_type": "code",
   "execution_count": 9,
   "id": "aeeba73c",
   "metadata": {},
   "outputs": [],
   "source": [
    "rmse=function(x,y){\n",
    "    sqrt( sum((x-y)^2,na.rm=TRUE )/length(y))\n",
    "}"
   ]
  },
  {
   "cell_type": "code",
   "execution_count": 10,
   "id": "0a5f7a9d",
   "metadata": {},
   "outputs": [],
   "source": [
    "rmse_agg_dgpz=function(obs,simul,cell){\n",
    "    \n",
    "    #calcule du RMSE moyen\n",
    "    r<-c()\n",
    "    dg<-c()\n",
    "    for (cel in unique(cell)){\n",
    "        \n",
    "        a<-rmse(obs[which(cell==cel)],\n",
    "               simul[which(cell==cel)])\n",
    "        r<-c(r,a)\n",
    "        dg<-c(dg,cel)\n",
    "    }\n",
    "    \n",
    "    \n",
    "    g1<-mean(r[which(grepl('DGPZ',dg))],na.rm=TRUE)\n",
    "    g2<-mean(r[!which(grepl('DGPZ',dg))],na.rm=TRUE)\n",
    "    \n",
    "    res<-mean(c(g1,g2),na.rm=TRUE)\n",
    "    return(res)\n",
    "}"
   ]
  },
  {
   "cell_type": "markdown",
   "id": "f603c1b5",
   "metadata": {},
   "source": [
    "Nash-efficiency"
   ]
  },
  {
   "cell_type": "code",
   "execution_count": 11,
   "id": "c295974c",
   "metadata": {},
   "outputs": [],
   "source": [
    "denom_nash=function(x){\n",
    "    m<-mean(x,na.rm=TRUE )\n",
    "    sqrt( sum((x-m)^2,na.rm=TRUE )/length(x))\n",
    "}"
   ]
  },
  {
   "cell_type": "code",
   "execution_count": 12,
   "id": "31521d92",
   "metadata": {},
   "outputs": [],
   "source": [
    "nash_sutcliffe=function(obs,simul,cell){\n",
    "    \n",
    "    #calcule du RMSE moyen\n",
    "    r<-c()\n",
    "    dg<-c()\n",
    "    for (cel in unique(cell)){\n",
    "        \n",
    "        a<-rmse(obs[which(cell==cel)],\n",
    "               simul[which(cell==cel)])\n",
    "        \n",
    "        dn<-denom_nash(obs[which(cell==cel)])\n",
    "        \n",
    "        a<-1-(a/dn)\n",
    "        r<-c(r,a)\n",
    "        dg<-c(dg,cel)\n",
    "    }\n",
    "    \n",
    "    \n",
    "    g1<-mean(r[which(grepl('DGPZ',dg))],na.rm=TRUE)\n",
    "    g2<-mean(r[!which(grepl('DGPZ',dg))],na.rm=TRUE)\n",
    "    \n",
    "    res<-mean(c(g1,g2),na.rm=TRUE)\n",
    "    return(res)\n",
    "    \n",
    "}"
   ]
  },
  {
   "cell_type": "markdown",
   "id": "0ba227c7",
   "metadata": {},
   "source": [
    "- formatage tableau de rimulation"
   ]
  },
  {
   "cell_type": "code",
   "execution_count": 13,
   "id": "c0249071",
   "metadata": {},
   "outputs": [],
   "source": [
    "format_simul=function(data,start=NULL,end=NULL,cel=-1){\n",
    "    \n",
    "    if (is.null(start)){\n",
    "        start=\"2008-01-01\"}\n",
    "    if (is.null(end)){\n",
    "        end=\"2018-12-31\"}\n",
    "    \n",
    "    if (end==\"max\"|end==\"m\"){\n",
    "        end=max(data$date)}\n",
    "            \n",
    "    data<-subset(data,select=c(\"id\",\"date\",\"piezo\"))\n",
    "    data<- transform(data, id = as.numeric(id))\n",
    "    data<- transform(data, piezo = as.numeric(piezo))\n",
    "    \n",
    "    n<-(nchar(data$date[1])-6)\n",
    "    if (n>4){\n",
    "        data$date <-stringr::str_sub(data$date,1,\n",
    "        nchar(data$date)-6)}\n",
    "\n",
    "    data$date <-lubridate::parse_date_time(data$date,\n",
    "                orders = c(\"ymd\",\"dmy\",\"mdy\"),tz=\"GMT\")\n",
    "    \n",
    "    #stations out of analysis\n",
    "    out<-c(\"THIOUCOUGNE\",\"PETIE\",\"BENDIOUGA\",\"TEBENE Pz\")\n",
    "    \n",
    "    raster <- rcsv_sep(list.files(file.path(\"data\",\n",
    "                                  \"id_cellule_station\"),\n",
    "                                  full.names = TRUE))\n",
    "    \n",
    "    raster<-raster[!(raster$stations %in% out),]\n",
    "   \n",
    "    library(dplyr)\n",
    "    piezo<-left_join(data,raster,by = c(\"id\" = \"cellules\"))\n",
    "    \n",
    "    raster<-raster %>%\n",
    "            group_by(cellules) %>% \n",
    "            summarize(zone = paste(sort(unique(stations)),\n",
    "            collapse=\"_\"))\n",
    "\n",
    "    data<-left_join(data,raster,by = c(\"id\" = \"cellules\"))\n",
    "    \n",
    "    names(data)[names(data)=='id']<-\"cellules\"\n",
    "    \n",
    "    data<-data[which(data$cellules>cel),]\n",
    "    data<-data[which(data$date>=start&data$date<=end),]\n",
    "    \n",
    "    return(data)}"
   ]
  },
  {
   "cell_type": "markdown",
   "id": "32873428",
   "metadata": {},
   "source": [
    "- formatage tableau d'observation"
   ]
  },
  {
   "cell_type": "code",
   "execution_count": 14,
   "id": "5becab44",
   "metadata": {},
   "outputs": [],
   "source": [
    "format_observ=function(data,start=NULL,end=NULL,\n",
    "                       station=TRUE,cel=0){\n",
    "    \n",
    "    if (is.null(start)){\n",
    "        start=\"2008-01-01\"}\n",
    "    if (is.null(end)){\n",
    "        end=\"2018-12-31\"}\n",
    "    if (end==\"max\"|end==\"m\"){\n",
    "        end=max(data$date)}\n",
    "    \n",
    "    data<-subset(data,select=c(\"stations\",\"date\",\n",
    "                               \"piezostation\"))\n",
    "    \n",
    "    if (!is.numeric(data$piezostation)){\n",
    "        data<- transform(data,\n",
    "               piezostation=as.numeric(piezostation))}\n",
    "    \n",
    "    n<-(nchar(data$date[1])-6)\n",
    "    if (n>4){\n",
    "        data$date <-stringr::str_sub(data$date,1,\n",
    "        nchar(data$date)-6)}\n",
    "\n",
    "        data$date <-lubridate::parse_date_time(data$date,\n",
    "                orders = c(\"ymd\",\"dmy\",\"mdy\"),tz=\"GMT\")\n",
    "    \n",
    "    if (station!=TRUE){\n",
    "        #stations out of analysis\n",
    "        out<-c(\"THIOUCOUGNE\",\"PETIE\",\"BENDIOUGA\",\"TEBENE Pz\")\n",
    "    \n",
    "        raster <- rcsv_sep(list.files(file.path(\"data\",\n",
    "                                      \"id_cellule_station\"),\n",
    "                                      full.names = TRUE))\n",
    "    \n",
    "        raster<-raster[!(raster$stations %in% out),]\n",
    "   \n",
    "        library(dplyr)\n",
    "        piezo<-left_join(data,raster,by = c(\"id\" = \"cellules\"))\n",
    "    \n",
    "        raster<-raster %>%\n",
    "            group_by(cellules) %>% \n",
    "            summarize(zone = paste(sort(unique(stations)),\n",
    "            collapse=\"_\"))\n",
    "\n",
    "        raster<-left_join(data,raster,by = c(\"id\" = \"cellules\"))\n",
    "    \n",
    "        names(data)[names(data)=='id']<-\"cellules\"}\n",
    "\n",
    "    data<-data[which(data$piezostation>cel),]\n",
    "    data<-data[which(data$date>=start&data$date<=end),]\n",
    "    \n",
    "    return(data)}"
   ]
  },
  {
   "cell_type": "markdown",
   "id": "cd49914d",
   "metadata": {},
   "source": [
    "- fonction de création d'un tableau complet a partir des scénarios et observations"
   ]
  },
  {
   "cell_type": "code",
   "execution_count": 15,
   "id": "3d23323a",
   "metadata": {},
   "outputs": [],
   "source": [
    "tableau_complet=function(dir_senario=\"scenarios\",\n",
    "                         dir_observation=\"data/observations\",\n",
    "                        obs=TRUE,rf=FALSE,simul=TRUE,\n",
    "                        start=NULL,end=NULL,\n",
    "                         ref.patt=\"15\"){\n",
    "    \n",
    "    list.path.scen<-list.files(file.path(dir_senario,\n",
    "                                         \"piezo\"),\n",
    "                               full.names = TRUE)\n",
    "    \n",
    "    if(rf==TRUE){\n",
    "        \n",
    "        print(paste(\"L'option rf = TRUE requiert \n",
    "       une simulation de référence à tracer\"))\n",
    "        \n",
    "        path.ref<-list.files(dir_senario,full.names = TRUE,\n",
    "                             pattern=ref.patt)\n",
    "        print(path.ref)\n",
    "        \n",
    "        ref<-rcsv_sep(path.ref)\n",
    "        \n",
    "        ref<-format_simul(rcsv_sep(path.ref),\n",
    "                           start=start,end=end)\n",
    "        \n",
    "        ref<-subset(ref,\n",
    "        select=c(\"zone\",\"date\",\"piezo\"))\n",
    "\n",
    "        names(ref)[names(ref)=='zone']<-\"stations\"\n",
    "        \n",
    "        p<-split_bar(path.ref)\n",
    "        names(ref)[which(names(ref)==\"piezo\")]<-\n",
    "        tools::file_path_sans_ext(p[[length(p)]])}\n",
    "    \n",
    "    list.scen<-list()\n",
    "    if (simul==TRUE){\n",
    "        for (i in 1:length(list.path.scen)){\n",
    "\n",
    "            #path.scen<-Filter(function(x) grepl(i,x),list.path.scen)\n",
    "\n",
    "            path.scen<-list.path.scen[i]\n",
    "\n",
    "            scen<-format_simul(rcsv_sep(path.scen),\n",
    "                               start=start,end=end)\n",
    "\n",
    "            scen<-subset(scen,\n",
    "            select=c(\"zone\",\"date\",\"piezo\"))\n",
    "\n",
    "            names(scen)[names(scen)=='zone']<-\"stations\"\n",
    "\n",
    "            q<-split_bar(path.scen)\n",
    "            names(scen)[which(names(scen)==\"piezo\")]<-\n",
    "            tools::file_path_sans_ext(q[[length(q)]])\n",
    "            #\"simulation\"\n",
    "            #tools::file_path_sans_ext(q[[length(q)]])\n",
    "\n",
    "            list.scen[[i]]<-scen\n",
    "\n",
    "            max_date<-unlist(lapply(list.scen,function(x) max(x$date)))\n",
    "            list.scen<-list.scen[order(-unlist(max_date))] \n",
    "\n",
    "        }\n",
    "\n",
    "        library(tidyverse)\n",
    "        df<-list.scen %>% reduce(left_join, by = c(\"date\",\"stations\"))\n",
    "                            }else{df<-ref}\n",
    "    \n",
    "    if((rf==TRUE) & (simul==TRUE)){df<-dplyr::left_join(df,ref,\n",
    "        by = c(\"stations\"=\"stations\",\"date\"=\"date\"))}\n",
    "    \n",
    "    \n",
    "    if(obs==TRUE){\n",
    "        \n",
    "        print(paste(\"L'option obs = TRUE les \n",
    "       observations seront tracées\"))\n",
    "        \n",
    "        path.observ<-list.files(\"data/observations\",\n",
    "                                pattern=\"piezostation\",\n",
    "                                full.names = TRUE)\n",
    "        observ<-rcsv_sep(path.observ)\n",
    "        observ<-format_observ(observ,start=start,end=end)\n",
    "\n",
    "        df<-dplyr::left_join(df, observ,\n",
    "        by = c(\"stations\"=\"stations\",\"date\"=\"date\"))\n",
    "        df<-df[which(!is.na(df$piezostation)),]}\n",
    "                                \n",
    "        write.csv2(df,\"table_complet.csv\")\n",
    "        \n",
    "        obs<-df$piezostation\n",
    "        cell<-df$stations\n",
    "        \n",
    "        \n",
    "        rms<-c()\n",
    "        rm<-c()\n",
    "        for (l in 3:dim(df)[2]){\n",
    "            r<-rmse_agg_dgpz(obs,unlist(df[l]),cell)\n",
    "            rs<-nash_sutcliffe(obs,unlist(df[l]),cell)\n",
    "            rm<-c(rm,r)\n",
    "            rms<-c(rms,rs)}\n",
    "                                \n",
    "        trmse<-df[which(df$stations==\"lci\"),\n",
    "                  3:dim(df)[2]]\n",
    "                                \n",
    "        for (li in 1:length(rms)){\n",
    "            trmse[\"rmse_agg_dgpz\",li]<-rm[li]\n",
    "            trmse[\"nash_sutcliffe\",li]<-rms[li]}\n",
    "        \n",
    "        write.csv2(trmse,\"rmse_scenarios.csv\")\n",
    "                           \n",
    "    return(df)\n",
    "}"
   ]
  },
  {
   "cell_type": "code",
   "execution_count": 16,
   "id": "1bfb1472",
   "metadata": {},
   "outputs": [],
   "source": [
    "        sf<-function(x){\n",
    "\n",
    "            v<-unlist(split_bar8(x))\n",
    "            print(x)\n",
    "            print(v)\n",
    "            vn<-paste(3:length(v),collapse=\"_\")\n",
    "            vm<-gsub(\"simul\",\"\",vn)\n",
    "            vm}"
   ]
  },
  {
   "cell_type": "markdown",
   "id": "b822d7fe",
   "metadata": {},
   "source": [
    "- fonction de visulation des scénarios: Simulation vs Observation"
   ]
  },
  {
   "cell_type": "code",
   "execution_count": 17,
   "id": "cd83f33e",
   "metadata": {},
   "outputs": [],
   "source": [
    "visualisation=function(ncol=3,nrow=3,out=NULL,\n",
    "                       save.name=\"visualisation\",\n",
    "                       y.lim=NULL,x.lim=NULL,\n",
    "                       obs=TRUE, rf=FALSE,simul=TRUE,\n",
    "                       dir_senario=\"scenarios\",\n",
    "                       dir_observation=\"observations\",\n",
    "                       start=NULL,end=NULL,\n",
    "                       ref.patt=\"15\"){\n",
    "    options(warn = -1)\n",
    "    library(ggplot2)\n",
    "    library(ggpubr)\n",
    "    \n",
    "    df<-tableau_complet(obs=obs,rf=rf,ref.patt=ref.patt,\n",
    "                       dir_senario=dir_senario,\n",
    "                       dir_observation=dir_observation,\n",
    "                       start=start,end=end,simul=simul)\n",
    "    if (is.null(out)){\n",
    "        out<-c('DGPZ049','DGPZ045','DGPZ051','DGPZ114',\n",
    "               'DGPZ050','DGPZ110','DGPZ111','DGPZ042',\n",
    "               'DGPZ112','DGPZ038','DGPZ043','DGPZ109',\n",
    "               'DGPZ041','DGPZ039','DGPZ119')}\n",
    "    \n",
    "    nout<-na.omit(unique(df$stations))\n",
    "    nout<-na.omit(nout[!nout%in%out])\n",
    "    \n",
    "    print(paste(\"sur les graphs on aura la station:\",\n",
    "               out))\n",
    "    \n",
    "    #limit axes Y\n",
    "    if (is.null(y.lim)){\n",
    "        \n",
    "        y.lim <- list()\n",
    "\n",
    "        for (r in 1:length(nout)){\n",
    "            y.lim[[r]] <- c(0,7)\n",
    "        }\n",
    "    }\n",
    "    \n",
    "    plot_list<-list()\n",
    "\n",
    "    for (j in 1:length(nout)){\n",
    "\n",
    "        dt = df[which(df$stations==nout[j]),]\n",
    "        # reformat the data\n",
    "        data_long = data.frame(x = numeric(),\n",
    "                    y = numeric(),curve=character())\n",
    "\n",
    "        for(i in 3:length(dt)){\n",
    "          y = dt[i][[1]]\n",
    "          x = dt$date\n",
    "          \n",
    "          #if ((names(dt)[i])!=\"simulation_15\" &\n",
    "            # (names(dt)[i])!=\"piezostation\"){\n",
    "          #b<-names(dt)[i]\n",
    "          #vm<-sf(b)}else{vm<-names(dt)[i]}\n",
    "            \n",
    "            vm<-names(dt)[i]\n",
    "            \n",
    "            vm[which(vm==\"piezostation\")]<-\"données station\"\n",
    "            vm[which(vm==\"industrie_seule\")]<-\"simulation\"\n",
    "            \n",
    "\n",
    "            \n",
    "          data_long = rbind(data_long,data.frame(x,y,\n",
    "                                    curve=vm))\n",
    "        }\n",
    "        data_long$curve = factor(data_long$curve)\n",
    "\n",
    "        \n",
    "        #limit axes X\n",
    "        \n",
    "        if( is.null(x.lim)){\n",
    "            x.lim <- list()\n",
    "            \n",
    "            for (s in 1:length(nout)){\n",
    "                x.lim[[s]] <- c(min(dt$date),\n",
    "                                max(dt$date))}\n",
    "        }\n",
    "        # create plot\n",
    "\n",
    "        \n",
    "        if (y.lim==\"flottant\"|y.lim==\"f\"){\n",
    "            \n",
    "            a<-ggplot(data_long,aes(x,y,color=curve))+\n",
    "            geom_line()+theme_bw()+\n",
    "            labs(title=nout[j],x =\"date\",\n",
    "                 y = \"piezometrie (m)\")+ \n",
    "            #theme(axis.ticks.x = element_blank(),\n",
    "            #axis.text.x = element_blank())+ \n",
    "            expand_limits(x=x.lim[[j]])\n",
    "            plot_list[[j]]<-a}\n",
    "        \n",
    "        if (y.lim!=\"flottant\" & y.lim!=\"f\"){\n",
    "             a<-ggplot(data_long,aes(x,y,color=curve))+\n",
    "                geom_line()+theme_bw()+\n",
    "                labs(title=nout[j],x =\"date\",\n",
    "                     y = \"piezometrie (m)\")+ \n",
    "                #theme(axis.ticks.x = element_blank(),\n",
    "                     # axis.text.x = element_blank())+\n",
    "                expand_limits(x=x.lim[[j]],y=y.lim[[j]])\n",
    "\n",
    "                plot_list[[j]]<-a}\n",
    "    }\n",
    "    \n",
    "    figure <- ggarrange(plotlist = plot_list,ncol=ncol, \n",
    "                        nrow=nrow,common.legend = TRUE)\n",
    "    # Export to a pdf file\n",
    "    ggexport(figure, filename =paste(save.name,\".tiff\",sep=\"\"))\n",
    "    print(figure)\n",
    "    \n",
    "    #return(figure)\n",
    "    return(figure)\n",
    "}"
   ]
  },
  {
   "cell_type": "markdown",
   "id": "af4f06c4",
   "metadata": {},
   "source": [
    "- pattern name typo"
   ]
  },
  {
   "cell_type": "code",
   "execution_count": 18,
   "id": "d49d2f64",
   "metadata": {},
   "outputs": [],
   "source": [
    "pat=function(x){\n",
    "    ker<-split_bar(x)\n",
    "    ker<-ker[[length(ker)]]\n",
    "    kern<-unlist(split_bar8(ker))\n",
    "    kern<-unlist(split_bar8(ker))[-1]\n",
    "    kern<-paste(kern[],collapse=\"_\")\n",
    "    return(kern)}"
   ]
  },
  {
   "cell_type": "code",
   "execution_count": 19,
   "id": "783aa0b9",
   "metadata": {},
   "outputs": [],
   "source": [
    "#get_My_scenario(scenario=\"piezo\")\n",
    "#get_My_scenario(scenario=\"exploitations\")"
   ]
  },
  {
   "cell_type": "code",
   "execution_count": 22,
   "id": "bd8700b1",
   "metadata": {},
   "outputs": [
    {
     "name": "stdout",
     "output_type": "stream",
     "text": [
      " [1] \"sur les graphs on aura la station: DGPZ049\"\n",
      " [2] \"sur les graphs on aura la station: DGPZ045\"\n",
      " [3] \"sur les graphs on aura la station: DGPZ051\"\n",
      " [4] \"sur les graphs on aura la station: DGPZ114\"\n",
      " [5] \"sur les graphs on aura la station: DGPZ050\"\n",
      " [6] \"sur les graphs on aura la station: DGPZ110\"\n",
      " [7] \"sur les graphs on aura la station: DGPZ111\"\n",
      " [8] \"sur les graphs on aura la station: DGPZ042\"\n",
      " [9] \"sur les graphs on aura la station: DGPZ112\"\n",
      "[10] \"sur les graphs on aura la station: DGPZ038\"\n",
      "[11] \"sur les graphs on aura la station: DGPZ043\"\n",
      "[12] \"sur les graphs on aura la station: DGPZ109\"\n",
      "[13] \"sur les graphs on aura la station: DGPZ041\"\n",
      "[14] \"sur les graphs on aura la station: DGPZ039\"\n",
      "[15] \"sur les graphs on aura la station: DGPZ119\"\n",
      "[1] \"visualisation%03d.tiff\"\n"
     ]
    },
    {
     "name": "stderr",
     "output_type": "stream",
     "text": [
      "file saved to visualisation%03d.tiff\n",
      "\n"
     ]
    },
    {
     "name": "stdout",
     "output_type": "stream",
     "text": [
      "$`1`\n",
      "\n",
      "$`2`\n"
     ]
    },
    {
     "data": {
      "image/png": "[encoded data removed]",
      "text/plain": [
       "plot without title"
      ]
     },
     "metadata": {
      "image/png": {
       "height": 420,
       "width": 420
      }
     },
     "output_type": "display_data"
    },
    {
     "name": "stdout",
     "output_type": "stream",
     "text": [
      "\n",
      "attr(,\"class\")\n",
      "[1] \"list\"      \"ggarrange\"\n"
     ]
    },
    {
     "data": {
      "image/png": "[encoded data removed]",
      "text/plain": [
       "plot without title"
      ]
     },
     "metadata": {
      "image/png": {
       "height": 420,
       "width": 420
      }
     },
     "output_type": "display_data"
    }
   ],
   "source": [
    "visuel <-visualisation(obs=FALSE,end=\"2040-12-31\")"
   ]
  },
  {
   "cell_type": "code",
   "execution_count": 23,
   "id": "ffde9c04",
   "metadata": {},
   "outputs": [
    {
     "name": "stdout",
     "output_type": "stream",
     "text": [
      " [1] \"sur les graphs on aura la station: DGPZ049\"\n",
      " [2] \"sur les graphs on aura la station: DGPZ045\"\n",
      " [3] \"sur les graphs on aura la station: DGPZ051\"\n",
      " [4] \"sur les graphs on aura la station: DGPZ114\"\n",
      " [5] \"sur les graphs on aura la station: DGPZ050\"\n",
      " [6] \"sur les graphs on aura la station: DGPZ110\"\n",
      " [7] \"sur les graphs on aura la station: DGPZ111\"\n",
      " [8] \"sur les graphs on aura la station: DGPZ042\"\n",
      " [9] \"sur les graphs on aura la station: DGPZ112\"\n",
      "[10] \"sur les graphs on aura la station: DGPZ038\"\n",
      "[11] \"sur les graphs on aura la station: DGPZ043\"\n",
      "[12] \"sur les graphs on aura la station: DGPZ109\"\n",
      "[13] \"sur les graphs on aura la station: DGPZ041\"\n",
      "[14] \"sur les graphs on aura la station: DGPZ039\"\n",
      "[15] \"sur les graphs on aura la station: DGPZ119\"\n",
      "[1] \"visualisation%03d.tiff\"\n"
     ]
    },
    {
     "name": "stderr",
     "output_type": "stream",
     "text": [
      "file saved to visualisation%03d.tiff\n",
      "\n"
     ]
    },
    {
     "name": "stdout",
     "output_type": "stream",
     "text": [
      "$`1`\n",
      "\n",
      "$`2`\n"
     ]
    },
    {
     "data": {
      "image/png": "[encoded data removed]",
      "text/plain": [
       "plot without title"
      ]
     },
     "metadata": {
      "image/png": {
       "height": 420,
       "width": 420
      }
     },
     "output_type": "display_data"
    },
    {
     "name": "stdout",
     "output_type": "stream",
     "text": [
      "\n",
      "attr(,\"class\")\n",
      "[1] \"list\"      \"ggarrange\"\n"
     ]
    },
    {
     "data": {
      "image/png": "[encoded data removed]",
      "text/plain": [
       "plot without title"
      ]
     },
     "metadata": {
      "image/png": {
       "height": 420,
       "width": 420
      }
     },
     "output_type": "display_data"
    }
   ],
   "source": [
    "visuel <-visualisation(obs=FALSE,end=\"2040-12-31\",y.lim=\"f\")"
   ]
  },
  {
   "cell_type": "markdown",
   "id": "a3885ccd",
   "metadata": {},
   "source": [
    "### Visualisation Scénario Typologie"
   ]
  },
  {
   "cell_type": "code",
   "execution_count": 19,
   "id": "5ca5186d",
   "metadata": {},
   "outputs": [],
   "source": [
    "dir_senario=\"scenarios\""
   ]
  },
  {
   "cell_type": "code",
   "execution_count": 20,
   "id": "1d34dea2",
   "metadata": {},
   "outputs": [],
   "source": [
    "list.path.scen<-list.files(file.path(dir_senario,\n",
    "                \"exploitations\"),full.names = TRUE)\n",
    "\n",
    "var<-c(\"prod_tomate_tot\",\"chou\",\"aubergine\",\n",
    "       \"carotte\",\"oignon\",\"piment\",\"recette_tot\")\n",
    "\n",
    "noy<-unlist(unique(lapply(list.path.scen,pat)))\n",
    "noy<-gsub(\"simul\",\"\",noy)\n",
    "noy<-gsub(\"exploitations\",\"\",noy)"
   ]
  },
  {
   "cell_type": "code",
   "execution_count": 22,
   "id": "eab03bc4",
   "metadata": {},
   "outputs": [
    {
     "name": "stderr",
     "output_type": "stream",
     "text": [
      "-- \u001b[1mAttaching packages\u001b[22m ------------------------------------------------------------------------------- tidyverse 1.3.1 --\n",
      "\n",
      "\u001b[32mv\u001b[39m \u001b[34mggplot2\u001b[39m 3.3.5     \u001b[32mv\u001b[39m \u001b[34mpurrr  \u001b[39m 0.3.4\n",
      "\u001b[32mv\u001b[39m \u001b[34mtibble \u001b[39m 3.1.3     \u001b[32mv\u001b[39m \u001b[34mdplyr  \u001b[39m 1.0.7\n",
      "\u001b[32mv\u001b[39m \u001b[34mtidyr  \u001b[39m 1.1.3     \u001b[32mv\u001b[39m \u001b[34mstringr\u001b[39m 1.4.0\n",
      "\u001b[32mv\u001b[39m \u001b[34mreadr  \u001b[39m 1.4.0     \u001b[32mv\u001b[39m \u001b[34mforcats\u001b[39m 0.5.1\n",
      "\n",
      "-- \u001b[1mConflicts\u001b[22m ---------------------------------------------------------------------------------- tidyverse_conflicts() --\n",
      "\u001b[31mx\u001b[39m \u001b[34mdplyr\u001b[39m::\u001b[32mfilter()\u001b[39m masks \u001b[34mstats\u001b[39m::filter()\n",
      "\u001b[31mx\u001b[39m \u001b[34mdplyr\u001b[39m::\u001b[32mlag()\u001b[39m    masks \u001b[34mstats\u001b[39m::lag()\n",
      "\n"
     ]
    }
   ],
   "source": [
    "lp<-list()\n",
    "for (i in 1:length(noy)){\n",
    "    \n",
    "    s<-split_bar8(noy[[i]])\n",
    "    s<-paste(s[-length(s)],collapse=\"_\")\n",
    "    \n",
    "    p<-Filter(function(x) grepl(s,x),\n",
    "              list.path.scen)\n",
    "    \n",
    "    \n",
    "    list.scen<-list()\n",
    "    for (j in 1:length(p)){\n",
    "        path.scen<-p[j]\n",
    "        scen<-rcsv_sep(path.scen)\n",
    "        scen<-subset(scen,select=c(\"id\",\"year\",var))\n",
    "        names(scen)[names(scen)=='id']<-\"producteurs\"\n",
    "        names(scen)[names(scen)=='prod_tomate_tot']<-\"tomate\"\n",
    "        scen$scenario<-noy[[i]]\n",
    "        list.scen[[j]]<-scen\n",
    "    }\n",
    "    \n",
    "    #max_date<-unlist(lapply(list.scen,\n",
    "              #function(x) max(x$year)))\n",
    "    \n",
    "    #d<-list.scen[order(unlist(max_date))]\n",
    "            \n",
    "    library(tidyverse)\n",
    "    d<-list.scen %>% reduce(rbind)\n",
    "    d<-d[-which(d$year==\"year\"),]\n",
    "    d[1:(NCOL(d)-1)]<-data.frame(sapply(d[1:(NCOL(d)-1)],\n",
    "                                        as.numeric))\n",
    "    d<-d[order(d$year),]\n",
    "    lp[[i]]<-d}"
   ]
  },
  {
   "cell_type": "code",
   "execution_count": 25,
   "id": "b710e8c4",
   "metadata": {},
   "outputs": [],
   "source": [
    "lpmax<-list()\n",
    "\n",
    "for (m in 1:length(lp)){\n",
    "    \n",
    "    t<-lp[[m]]\n",
    "    #st<-t[which(t$year==2011),-2]\n",
    "    #max(t$year)\n",
    "    st<-t\n",
    "    st[1]<-data.frame(sapply(st[1],as.character))\n",
    "    st[2]<-data.frame(sapply(st[2],as.character))\n",
    "    \n",
    "    st[3:dim(st)[2]-1]<-\n",
    "    data.frame(sapply(st[3:dim(st)[2]-1],as.numeric))\n",
    "    \n",
    "    lpmax[[m]]<-st}\n",
    "\n",
    "library(tidyverse)\n",
    "dmax<-lpmax %>% reduce(rbind)"
   ]
  },
  {
   "cell_type": "code",
   "execution_count": 26,
   "id": "eb7c6e5c",
   "metadata": {},
   "outputs": [],
   "source": [
    "dmax[\"year\"]<-data.frame(sapply(dmax[\"year\"],as.character))"
   ]
  },
  {
   "cell_type": "raw",
   "id": "94ba44dd",
   "metadata": {},
   "source": [
    "p2 <- ggplot(dmax, aes(x=, y=recette_tot, fill=)) + \n",
    "    geom_boxplot() +\n",
    "    facet_wrap(~year, scale=\"free\")\n",
    "\n",
    "plot(p2)"
   ]
  },
  {
   "cell_type": "code",
   "execution_count": 27,
   "id": "49cdf345",
   "metadata": {},
   "outputs": [],
   "source": [
    "n<-which(names(dmax)!=\"year\" &\n",
    "         names(dmax)!=\"scenario\" &\n",
    "         names(dmax)!=\"producteurs\")\n",
    "b1<-dmax\n",
    "b2<-dmax"
   ]
  },
  {
   "cell_type": "raw",
   "id": "ae83dabb",
   "metadata": {},
   "source": [
    "b1<-dmax\n",
    "b2<-dmax\n",
    "for (i in n){\n",
    "    b1[i]<-log(dmax[i]+1)\n",
    "}"
   ]
  },
  {
   "cell_type": "raw",
   "id": "613e0d8a",
   "metadata": {},
   "source": [
    "\n",
    "for (i in n){\n",
    "    \n",
    "    b1[i]<-as.numeric(scale(dmax[i], \n",
    "                    center = TRUE,\n",
    "                    scale = TRUE))\n",
    "}"
   ]
  },
  {
   "cell_type": "code",
   "execution_count": null,
   "id": "1309726a",
   "metadata": {},
   "outputs": [],
   "source": [
    "de<-function(x){\n",
    "    e1<-split_bar8(x)\n",
    "    e1<-e1[-length(e1)]\n",
    "    e1<-paste(e1,collapse=\"_\")\n",
    "    e1}"
   ]
  },
  {
   "cell_type": "code",
   "execution_count": 68,
   "id": "49aa2a90",
   "metadata": {},
   "outputs": [],
   "source": [
    "b2$scenario<-lapply(b2$scenario, de)"
   ]
  },
  {
   "cell_type": "code",
   "execution_count": null,
   "id": "715531d9",
   "metadata": {},
   "outputs": [],
   "source": [
    "(b2$scenario)"
   ]
  },
  {
   "cell_type": "code",
   "execution_count": 63,
   "id": "2ea995e8",
   "metadata": {},
   "outputs": [],
   "source": [
    "library(ggplot2)\n",
    "plobox<-list()\n",
    "\n",
    "nario<-unique(b2$scenario)\n",
    "\n",
    "for (i in 1:length(nario)){\n",
    "    scenario<-nario[[i]]\n",
    "    r<-b2[which(b2$scenario==scenario),]\n",
    "    g<-ggplot(r, aes(year,piment,fill=scenario)) +\n",
    "    labs(title=\"Piment\")+\n",
    "    geom_boxplot()\n",
    "    plobox[[i]]<-g}"
   ]
  },
  {
   "cell_type": "raw",
   "id": "bf1e6d50",
   "metadata": {},
   "source": [
    "plbox<-b2 %>%\n",
    "select(year,scenario,piment) %>%\n",
    "\n",
    "  gather(Measure, Value, -c(scenario,year)) %>%\n",
    "  ggplot(aes(x = factor(year)\n",
    "             , y = Value,fill=scenario)) +\n",
    "  geom_boxplot() +\n",
    "  facet_wrap(~Measure\n",
    "             , scales = \"free_y\")+ \n",
    "theme(axis.text.x = element_text(angle = 90, vjust = 0.5, hjust=1))"
   ]
  },
  {
   "cell_type": "raw",
   "id": "8c0f9699",
   "metadata": {},
   "source": [
    "library(ggpubr)\n",
    "ggexport(plbox, filename =paste(\"box_piment\",\".tiff\",sep=\"\"))\n",
    "#print(plbox)"
   ]
  },
  {
   "cell_type": "code",
   "execution_count": 64,
   "id": "cee655f8",
   "metadata": {},
   "outputs": [
    {
     "name": "stdout",
     "output_type": "stream",
     "text": [
      "[1] \"box_piment%03d.tiff\"\n"
     ]
    },
    {
     "name": "stderr",
     "output_type": "stream",
     "text": [
      "file saved to box_piment%03d.tiff\n",
      "\n"
     ]
    }
   ],
   "source": [
    "figure1 <- ggarrange(plotlist = plobox,ncol=4, \n",
    "                        nrow=4,common.legend = TRUE)\n",
    "# Export to a pdf file\n",
    "ggexport(figure1,filename =paste(\"box_piment\",\".tiff\",sep=\"\"))"
   ]
  },
  {
   "cell_type": "code",
   "execution_count": 92,
   "id": "d26f516a",
   "metadata": {},
   "outputs": [],
   "source": [
    "bx<-list()\n",
    "j=0\n",
    "for(i in n){\n",
    "    \n",
    "    j=j+1\n",
    "    na<-names(b1)[i]\n",
    "   ax<-ggplot(b1, aes(year,b1[na],fill=scenario)) +\n",
    "    geom_boxplot()\n",
    "    \n",
    "    bx[[j]]<-ax\n",
    "    \n",
    "}"
   ]
  },
  {
   "cell_type": "code",
   "execution_count": 58,
   "id": "47b1b1c0",
   "metadata": {},
   "outputs": [
    {
     "ename": "ERROR",
     "evalue": "Error in ggarrange(plotlist = bx, common.legend = TRUE): objet 'bx' introuvable\n",
     "output_type": "error",
     "traceback": [
      "Error in ggarrange(plotlist = bx, common.legend = TRUE): objet 'bx' introuvable\nTraceback:\n",
      "1. ggarrange(plotlist = bx, common.legend = TRUE)"
     ]
    }
   ],
   "source": [
    "box <- ggarrange(plotlist =bx,ncol=3, \n",
    "                        nrow=3,common.legend = TRUE)\n",
    "    # Export to a pdf file\n",
    "    ggexport(box , filename =paste(\"box\",\".pdf\",sep=\"\"))\n",
    "    print(bx)"
   ]
  },
  {
   "cell_type": "raw",
   "id": "e3e6d67f",
   "metadata": {},
   "source": [
    "library(ggplot2)\n",
    "\n",
    "# Basic density plot in ggplot2\n",
    "ggplot(dmax, aes(x = year, colour = scenario)) +\n",
    "  geom_density()+ theme(axis.text.x = element_text(angle = 90, vjust = 0.5, hjust=1))"
   ]
  },
  {
   "cell_type": "raw",
   "id": "cb509465",
   "metadata": {},
   "source": [
    "naw<-aggregate(dmax[4:dim(dmax)[2]-1], list(dmax$year,dmax$scenario), mean)\n",
    "naw[1]<-data.frame(sapply(naw[1],as.numeric))\n",
    "\n",
    "\n",
    "ggplot(naw, aes(x = Group.1, y = recette_tot)) + \n",
    "  geom_line(aes(color = Group.2), size = 1) +\n",
    "  scale_color_manual(values = rainbow(length(naw$Group.2))) +\n",
    "  theme_minimal()"
   ]
  },
  {
   "cell_type": "code",
   "execution_count": null,
   "id": "b55dc2b3",
   "metadata": {},
   "outputs": [],
   "source": []
  },
  {
   "cell_type": "code",
   "execution_count": null,
   "id": "514d2fdc",
   "metadata": {},
   "outputs": [],
   "source": []
  },
  {
   "cell_type": "code",
   "execution_count": null,
   "id": "c51501aa",
   "metadata": {},
   "outputs": [],
   "source": []
  },
  {
   "cell_type": "code",
   "execution_count": null,
   "id": "80962c98",
   "metadata": {},
   "outputs": [],
   "source": []
  },
  {
   "cell_type": "code",
   "execution_count": null,
   "id": "31b63864",
   "metadata": {},
   "outputs": [],
   "source": []
  },
  {
   "cell_type": "code",
   "execution_count": null,
   "id": "be84c74b",
   "metadata": {},
   "outputs": [],
   "source": []
  },
  {
   "cell_type": "code",
   "execution_count": null,
   "id": "335d586a",
   "metadata": {},
   "outputs": [],
   "source": []
  },
  {
   "cell_type": "code",
   "execution_count": null,
   "id": "f875d4d8",
   "metadata": {},
   "outputs": [],
   "source": []
  }
 ],
 "metadata": {
  "kernelspec": {
   "display_name": "R",
   "language": "R",
   "name": "ir"
  },
  "language_info": {
   "codemirror_mode": "r",
   "file_extension": ".r",
   "mimetype": "text/x-r-source",
   "name": "R",
   "pygments_lexer": "r",
   "version": "4.1.1"
  }
 },
 "nbformat": 4,
 "nbformat_minor": 5
}
