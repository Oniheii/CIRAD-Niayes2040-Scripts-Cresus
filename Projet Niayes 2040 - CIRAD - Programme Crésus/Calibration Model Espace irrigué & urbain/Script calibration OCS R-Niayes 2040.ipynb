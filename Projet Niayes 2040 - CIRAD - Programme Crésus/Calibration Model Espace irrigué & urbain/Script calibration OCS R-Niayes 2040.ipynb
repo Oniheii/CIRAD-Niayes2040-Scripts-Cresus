{
 "cells": [
  {
   "cell_type": "markdown",
   "id": "9b3af599",
   "metadata": {},
   "source": [
    "# SCRIPT CALIBRATION OCCUPATION DU SOL ET IRRIGATION R-NIAYES 2040"
   ]
  },
  {
   "cell_type": "markdown",
   "id": "c7ace9ee",
   "metadata": {},
   "source": [
    "- function 1A : création de dossiers voulus lorsqu'ils n'existent pas"
   ]
  },
  {
   "cell_type": "code",
   "execution_count": 2,
   "id": "6ffd395d",
   "metadata": {},
   "outputs": [],
   "source": [
    "create_folder=function(x,path=getwd()){\n",
    "    \n",
    "        for (f in x){\n",
    "            \n",
    "            folder<-file.path(path, f)\n",
    "\n",
    "        if (!dir.exists(folder)){\n",
    "            dir.create(folder)\n",
    "            print(paste(f,\"has been created!\"))\n",
    "        } else {\n",
    "        print(paste(folder,\"already exists!\"))}\n",
    "        }\n",
    "}"
   ]
  },
  {
   "cell_type": "markdown",
   "id": "dd098b93",
   "metadata": {},
   "source": [
    "- function 1B : rechercher les fichiers voulu dans le répertoire initial"
   ]
  },
  {
   "cell_type": "code",
   "execution_count": 3,
   "id": "9cef4eaf",
   "metadata": {},
   "outputs": [],
   "source": [
    "find_myfiles=function(files=NULL,ext=NULL,\n",
    "                      patt=NULL,dir=NULL,\n",
    "                      fold=NULL){\n",
    "    initdir<-getwd()\n",
    "    \n",
    "    if (is.null(dir)){dir<-getwd()}\n",
    "    if (!is.null(fold)){dir<-file.path(dir,fold)}\n",
    "    \n",
    "    setwd(dir)\n",
    "    \n",
    "    #tous les dossiers du repertoire de travail\n",
    "    all_work_dir<-list.dirs(path = \".\",\n",
    "    full.names = TRUE, recursive = TRUE)\n",
    "\n",
    "    #list des chemins des fichiers recherchés\n",
    "    list_path<-c()\n",
    "    \n",
    "   #si le nom du fichier est précisé\n",
    "    if (!is.null(files)){\n",
    "        for (file in files){\n",
    "            \n",
    "            ##si l'extension du fichier est donnée\n",
    "            \n",
    "            if(!is.null(ext)){\n",
    "                file<-tools::file_path_sans_ext(file)\n",
    "                \n",
    "                files_path<-reader::find.file(paste(file,\n",
    "                ext,sep=\"\"),dir=dir,dirs=all_work_dir)\n",
    "                \n",
    "                #si un pattern est donné\n",
    "                \n",
    "                if (!is.null(patt)){\n",
    "                    \n",
    "                    files_path<-\n",
    "                    Filter(function(x) grepl(paste(ext,\n",
    "                                    \"$\",sep=\"\"), x),\n",
    "                           list.files(files_path,\n",
    "                                      pattern = patt,\n",
    "                                      full.names=T))}\n",
    "                \n",
    "                list_path<-c(list_path,files_path)\n",
    "            }\n",
    "            \n",
    "            ##si l'extension n'est pas donnée \n",
    "            #et que l'extension n'est pas dans le nom\n",
    "            \n",
    "            if(is.null(ext) & (tools::file_ext(file)==\"\")){\n",
    "                \n",
    "                print(\"Ajoutez l'extension au nom du fichier!!\")\n",
    "                print(\"Si le problème, \n",
    "                persiste alors le fichier n'existe probablement \n",
    "                pas dans ce répertoire!!\")}\n",
    "            \n",
    "            ##si l'extension n'est pas donnée \n",
    "            #et que l'extension est dans le nom\n",
    "            \n",
    "            if(is.null(ext) & (tools::file_ext(file)!=\"\")){\n",
    "                \n",
    "                ext<-tools::file_ext(file)\n",
    "                files_path<-reader::find.file(file,\n",
    "                            dir=dir,dirs=all_work_dir)\n",
    "                \n",
    "                #si un pattern est donné\n",
    "                \n",
    "                if (!is.null(patt)){\n",
    "                    \n",
    "                    files_path<-list.files(files_path,\n",
    "                                           pattern = patt)}\n",
    "            }\n",
    "        }\n",
    "        list_path<-c(list_path,files_path)\n",
    "    }\n",
    "        \n",
    "           #si le nom du fichier n'est pas précisé\n",
    "    \n",
    "    if(is.null(files)){\n",
    "        print(\"pas de nom fichier\")\n",
    "        \n",
    "        ##si l'extension du fichier n'est pas donnée\n",
    "        \n",
    "        if(is.null(ext) & (!is.null(patt))){\n",
    "            \n",
    "            for (di in all_work_dir){\n",
    "                p<-list.files(di,pattern = patt,full.names=T)\n",
    "                list_path<-c(list_path,p)}\n",
    "        }\n",
    "        \n",
    "        if(is.null(ext) & (is.null(patt))){\n",
    "            \n",
    "            for (di in all_work_dir){\n",
    "                p<-list.files(di)\n",
    "                list_path<-c(list_path,p,full.names=T)}\n",
    "        }\n",
    "        \n",
    "        ##si l'extension du fichier est donnée\n",
    "        \n",
    "        if(!is.null(ext) & (!is.null(patt))){\n",
    "            \n",
    "            for (di in all_work_dir){\n",
    "                p<-list.files(di,pattern = patt,full.names=T)\n",
    "                p<-Filter(function(x) grepl(paste(ext,\n",
    "                                    \"$\",sep=\"\"), x),p)\n",
    "                          list_path<-c(list_path,p)}\n",
    "                          }\n",
    "                          \n",
    "            if(is.null(ext) & (is.null(patt))){\n",
    "                \n",
    "                for (di in all_work_dir){\n",
    "                    p<-list.files(di,full.names=T)\n",
    "                    p<-Filter(function(x) grepl(paste(ext,\n",
    "                                        \"$\",sep=\"\"),x),p)\n",
    "                    list_path<-c(list_path,p)}\n",
    "                              }\n",
    "                    list_path}\n",
    "                    setwd(initdir)\n",
    "    return(list_path)}"
   ]
  },
  {
   "cell_type": "markdown",
   "id": "da500f9d",
   "metadata": {},
   "source": [
    "- function 1C : renommer un fichier existant"
   ]
  },
  {
   "cell_type": "code",
   "execution_count": 4,
   "id": "7b66d12a",
   "metadata": {},
   "outputs": [],
   "source": [
    "rename_rfile <- function (file=file,updat=file,\n",
    "                          cdir=NULL,dir=NULL){\n",
    "    \n",
    "    if(!is.null(dir)){file<-file.path(dir,file)\n",
    "                      updat<-file.path(dir,updat)}\n",
    "    \n",
    "    if (file.exists(file)) {\n",
    "        file.rename(file,updat)\n",
    "\n",
    "    } else {\n",
    "        cat(\"The file does not exist\")\n",
    "    }\n",
    "}"
   ]
  },
  {
   "cell_type": "markdown",
   "id": "18e5f215",
   "metadata": {},
   "source": [
    "- function 1D : split bar"
   ]
  },
  {
   "cell_type": "code",
   "execution_count": 5,
   "id": "19274374",
   "metadata": {},
   "outputs": [],
   "source": [
    "split_bar<-function(x){\n",
    "    as.list(strsplit(tools::file_path_sans_ext(x),\n",
    "                     '/')[[1]])[-1]\n",
    "}"
   ]
  },
  {
   "cell_type": "code",
   "execution_count": 6,
   "id": "806c6a6a",
   "metadata": {},
   "outputs": [],
   "source": [
    "split_bar8<-function(x){\n",
    "    as.list(strsplit(tools::file_path_sans_ext(x),\n",
    "                     '_')[[1]])[-1]\n",
    "}"
   ]
  },
  {
   "cell_type": "markdown",
   "id": "a6794745",
   "metadata": {},
   "source": [
    "- function 1E : copier ou déplacer des données dans les bons dossiers à partir des sorties brutes"
   ]
  },
  {
   "cell_type": "code",
   "execution_count": 7,
   "id": "e6cb0934",
   "metadata": {},
   "outputs": [],
   "source": [
    "tranf_raster=function(full.pth,new_f=\"data/rasters\",\n",
    "                      methode=\"copy\"){\n",
    "    \n",
    "    d<-split_bar(full.pth)\n",
    "    current_f<-file.path(\"data\",\"simulations\",\n",
    "                         d[[1]],d[[2]])\n",
    "    \n",
    "    file<-paste(d[[3]],\".tif\",sep=\"\")\n",
    "    \n",
    "     if (methode==\"copy\"){ \n",
    "         file.copy(file.path(current_f,file),new_f)\n",
    "         \n",
    "     }\n",
    "    \n",
    "    if (methode==\"move\"){\n",
    "         filesstrings::file.move(file.path(current_f,file),new_f)\n",
    "     }\n",
    "    \n",
    "    updat<-gsub(\"simulation\",\n",
    "                paste(\"simulation_\",d[[3]],\n",
    "                \"_\",sep=\"\"),d[[1]])\n",
    "    updat<-paste(updat,\".tif\",sep=\"\")\n",
    "\n",
    "     \n",
    "     rename_rfile(dir=new_f,file=file,updat=updat)\n",
    " }"
   ]
  },
  {
   "cell_type": "markdown",
   "id": "b6c24af5",
   "metadata": {},
   "source": [
    "- function 1F : Récuperer les données Rasters Simulée pour les copier dans le dossier prévu pour"
   ]
  },
  {
   "cell_type": "code",
   "execution_count": 8,
   "id": "15b68da7",
   "metadata": {},
   "outputs": [],
   "source": [
    "get_My_raster<-function(raster=\"2014\",dir=\"data\",fold=\"simulations\"){\n",
    "    \n",
    "    raster_dir<-find_myfiles(patt=raster,ext=\".tif\",\n",
    "                             fold=fold,dir=dir)\n",
    "    \n",
    "\n",
    "    for (ri in raster_dir){\n",
    "        tranf_raster(ri)}\n",
    "}"
   ]
  },
  {
   "cell_type": "markdown",
   "id": "20cbbe38",
   "metadata": {},
   "source": [
    "- function 1F: créer les graphique observations contre simulations"
   ]
  },
  {
   "cell_type": "code",
   "execution_count": 9,
   "id": "a0581e25",
   "metadata": {},
   "outputs": [],
   "source": [
    "graph_station_simul=function(obs,s,o=\"irrigation\"){\n",
    "    \n",
    "    obs<-obs\n",
    "    simul<-s\n",
    "    \n",
    "    \n",
    "    outpath<-\n",
    "    \n",
    "    \n",
    "    i<-0\n",
    "    plot_list<-c()\n",
    "    \n",
    "    library(ggplot2)\n",
    "    \n",
    "    plot <-ggplot(X, aes(x=date)) + \n",
    "    ylim(0, 7)+ geom_line(aes(y=piezo, color=\"green\")) + \n",
    "    geom_line(aes(y=piezostation,color=\"red\")) +\n",
    "    scale_colour_discrete(name=\"Piezo (m)\",\n",
    "                          labels= c(\"ocelet\" ,\"station\")) +\n",
    "    ggtitle(label = paste(\"zone \",z),\n",
    "            subtitle = \"Piezo Calculee / Simulee\")\n",
    "    plot_list[[z]] = plot\n",
    "    \n",
    "    jpeg(file.path(outpath,paste(\"plot\",z,\".tiff\", sep=\"\")))\n",
    "    print(plot)\n",
    "    dev.off()\n",
    "}"
   ]
  },
  {
   "cell_type": "markdown",
   "id": "c5df144a",
   "metadata": {},
   "source": [
    "- function 1G : lire un fichier csv en détectant automatiquement le séparateur"
   ]
  },
  {
   "cell_type": "code",
   "execution_count": 10,
   "id": "43a122be",
   "metadata": {},
   "outputs": [],
   "source": [
    "rcsv_sep=function(file_path){\n",
    "    L <- readLines(file_path, n = 1)\n",
    "    if (grepl(\";\", L)) read.csv2(file_path) else read.csv(file_path)\n",
    "    }"
   ]
  },
  {
   "cell_type": "markdown",
   "id": "09c7e8a4",
   "metadata": {},
   "source": [
    "- function : calculer le Nash-Sutcliffe efficiency"
   ]
  },
  {
   "cell_type": "code",
   "execution_count": 11,
   "id": "e8cad195",
   "metadata": {},
   "outputs": [],
   "source": [
    "rmse=function(x,y){\n",
    "    sqrt( sum((x-y)^2,na.rm=TRUE )/length(y))\n",
    "}\n",
    "\n",
    "denom_nash=function(x){\n",
    "    m<-mean(x,na.rm=TRUE )\n",
    "    sqrt( sum((x-m)^2,na.rm=TRUE )/length(x))\n",
    "}"
   ]
  },
  {
   "cell_type": "code",
   "execution_count": 12,
   "id": "17acb751",
   "metadata": {},
   "outputs": [],
   "source": [
    "nash_sutcliffe=function(x,y){   \n",
    "    a<-rmse(x,y)\n",
    "    dn<-denom_nash(x)\n",
    "    res<-1-(a/dn)\n",
    "    return(res)\n",
    "}"
   ]
  },
  {
   "cell_type": "markdown",
   "id": "32ed126b",
   "metadata": {},
   "source": [
    "- optimisation du model"
   ]
  },
  {
   "cell_type": "code",
   "execution_count": 36,
   "id": "275f84ee",
   "metadata": {},
   "outputs": [],
   "source": [
    "indicateur=function(bande=1,dir=getwd(),\n",
    "                    list_parametre=NULL,\n",
    "                    opt=NULL){\n",
    "    \n",
    "    if (is.null(opt)){\n",
    "        opt<-\"0.0_6.0_3.0_0.4_0.0_0.0_true_12.0_70.0\"\n",
    "\n",
    "    }\n",
    "    \n",
    "    if (bande==1){patt=\"irrig\"}\n",
    "    if (bande==2){patt=\"urbain\"}\n",
    "    \n",
    "    parametre<-c(\"expCoeff\",\"penteInfCoeff\",\"distrouteCoeff\",\n",
    "                 \"ratioliste\",\"voisUrbCoef\",\"routesCoef\",\n",
    "                 \"route_vois\",\"popHaIrrig\",\"popHaUrb\")\n",
    "\n",
    "         if (is.null(list_parametre)){\n",
    "             list_parametre=parametre}\n",
    "    \n",
    "    print(\"préparation des données:\n",
    "    cette opération peut prendre un peu de temps...\")\n",
    "    \n",
    "\n",
    "    #extraction des observations\n",
    "    initM<-list.files(\"data/observations\",full.names=T)\n",
    "    bande_observ<-raster(initM,band=bande)\n",
    "\n",
    "    \n",
    "    #extraction des bandes des rasters\n",
    "    list.simul<-Filter(function(x) grepl(\".tif$\", x),\n",
    "    list.files(\"data/rasters\",pattern = patt))\n",
    "    \n",
    "    indicateurs<-vector(mode=\"list\",length=length(list.simul))\n",
    "    a<-0\n",
    "    \n",
    "    for (simul in list.simul){\n",
    "        print(simul)\n",
    "        a<-a+1\n",
    "        #extraction des bandes des rasters\n",
    "        bande_simul<-raster(file.path(\"data/rasters\",simul))\n",
    "        observation<-round(data.frame(rasterToPoints(bande_observ)),1)\n",
    "\n",
    "\n",
    "        simulation<-round(data.frame(rasterToPoints(bande_simul)),1)\n",
    "        table<-na.omit(dplyr::left_join(observation,simulation,\n",
    "                                    by=c(\"x\"=\"x\",\"y\"=\"y\")))\n",
    "\n",
    "        names(table)<-c(\"coord1\",\"coord2\",\"observation\",\"simulation\")\n",
    "\n",
    "\n",
    "        #Les indicateurs\n",
    "        indicateur<-data.frame(matrix(0,nrow=1,\n",
    "                    ncol=length(parametre)))\n",
    "\n",
    "        names(indicateur)<-parametre\n",
    "\n",
    "        index1<-Metrics::rmse(table$observation,table$simulation)\n",
    "        index2<-Metrics::rmsle(table$observation,table$simulation)\n",
    "        index3<-nash_sutcliffe(table$observation,table$simulation)\n",
    "        \n",
    "        splits<-split_bar8(simul)\n",
    "        \n",
    "        if(length(splits)<=1){\n",
    "            splits<-split_bar8(opt)}\n",
    "        \n",
    "        for (i in 2:length(splits)){\n",
    "            indicateur[1,i-1]<-splits[[i]]\n",
    "        }\n",
    "\n",
    "        \n",
    "        indicateur$rmse<-(index1)\n",
    "        indicateur$rmsle<-(index2)\n",
    "        indicateur$nash_sutcliffe<-(index3)\n",
    "    \n",
    "        indicateurs[[a]]<-indicateur\n",
    "    }\n",
    "    indicateurs<-dplyr::bind_rows(indicateurs)\n",
    "    return(indicateurs)\n",
    "    \n",
    "}"
   ]
  },
  {
   "cell_type": "markdown",
   "id": "9722ba1e",
   "metadata": {},
   "source": [
    "normalisation sur 0-1"
   ]
  },
  {
   "cell_type": "code",
   "execution_count": 14,
   "id": "eca5254d",
   "metadata": {},
   "outputs": [],
   "source": [
    "normaliz_zero<-function(x){\n",
    "    x<-na.omit(x)\n",
    "    min<-min(x)\n",
    "    max<-max(x)\n",
    "    \n",
    "    val<-as.numeric(lapply(x,function(y) (y-min)/(max-min)))\n",
    "                           \n",
    "return(val)\n",
    "}"
   ]
  },
  {
   "cell_type": "markdown",
   "id": "3bb530a4",
   "metadata": {},
   "source": [
    "#### extraire les rasters simulés"
   ]
  },
  {
   "cell_type": "raw",
   "id": "2b64a562",
   "metadata": {},
   "source": [
    "get_My_raster()"
   ]
  },
  {
   "cell_type": "markdown",
   "id": "b875a1de",
   "metadata": {},
   "source": [
    "#### importation des rasters et calcul des indicateurs"
   ]
  },
  {
   "cell_type": "code",
   "execution_count": 17,
   "id": "adea92ba",
   "metadata": {},
   "outputs": [],
   "source": [
    "library(raster)"
   ]
  },
  {
   "cell_type": "code",
   "execution_count": 37,
   "id": "839c1715",
   "metadata": {},
   "outputs": [
    {
     "name": "stdout",
     "output_type": "stream",
     "text": [
      "[1] \"préparation des données:\\n    cette opération peut prendre un peu de temps...\"\n",
      "[1] \"irrig2018.tif\"\n",
      "[1] \"préparation des données:\\n    cette opération peut prendre un peu de temps...\"\n",
      "[1] \"urbain2018.tif\"\n"
     ]
    }
   ],
   "source": [
    "rmse_urbain<-indicateur(bande=1)\n",
    "rmse_irrigation<-indicateur(bande=2)"
   ]
  },
  {
   "cell_type": "code",
   "execution_count": 38,
   "id": "b4977c87",
   "metadata": {},
   "outputs": [],
   "source": [
    "write.csv2(rmse_irrigation,file.path(\"output\",\"rmse_irrigation2018.csv\"))\n",
    "write.csv2(rmse_urbain,file.path(\"output\",\"rmse_urbain2018.csv\"))"
   ]
  },
  {
   "cell_type": "markdown",
   "id": "c343bb00",
   "metadata": {},
   "source": [
    "#### meilleurs simulations model espace irrigué & urbain selon les indicateurs"
   ]
  },
  {
   "cell_type": "code",
   "execution_count": 39,
   "id": "eb866fcf",
   "metadata": {},
   "outputs": [],
   "source": [
    "rmse_ir<-rcsv_sep('output/rmse_irrigation2018.csv')[-1]\n",
    "rmse_ur<-rcsv_sep('output/rmse_urbain2018.csv')[-1]"
   ]
  },
  {
   "cell_type": "code",
   "execution_count": 40,
   "id": "1b5df4bf",
   "metadata": {},
   "outputs": [],
   "source": [
    "rmse_model<-rmse_ir[1:9]\n",
    "rmse_model$rmsle<-rmse_ir$rmsle+rmse_ur$rmsle\n",
    "rmse_model$rmse<-rmse_ir$rmse+rmse_ur$rmse\n",
    "rmse_model$nash_sutcliffe<-rmse_ir$nash_sutcliffe+rmse_ur$nash_sutcliffe"
   ]
  },
  {
   "cell_type": "code",
   "execution_count": 41,
   "id": "454b17dc",
   "metadata": {},
   "outputs": [],
   "source": [
    "write.csv2(rmse_model,file.path(\"output\",\"rmse_model_urbain&irrigation2018.csv\"))"
   ]
  },
  {
   "cell_type": "raw",
   "id": "ea8e1700",
   "metadata": {},
   "source": [
    "for (i in 1:dim(rmse_model)[1]){\n",
    "    \n",
    "    if (rmse_ir[i,\"rmse\"]==rmse_ur[i,\"rmse\"]){\n",
    "        rmse_model[i,\"rmse\"]<-rmse_ir[i,\"rmse\"]\n",
    "    }else{\n",
    "        rmse_model[i,\"rmse\"]<-rmse_ir[i,\"rmse\"]+rmse_ur[i,\"rmse\"]}\n",
    "    \n",
    "    if (rmse_ir[i,\"rmsle\"]==rmse_ur[i,\"rmsle\"]){\n",
    "        rmse_model[i,\"rmsle\"]<-rmse_ir[i,\"rmsle\"]\n",
    "    }else{\n",
    "        rmse_model[i,\"rmsle\"]<-rmse_ir[i,\"rmsle\"]+rmse_ur[i,\"rmsle\"]}\n",
    "}"
   ]
  },
  {
   "cell_type": "raw",
   "id": "577f2922",
   "metadata": {},
   "source": [
    "print(\"selection de la meilleure simulation selon les critères de calcules\")\n",
    "                                  \n",
    "best_irrig_rmse<-rmse_ir[which(rmse_ir$rmse==min(rmse_ir$rmse,na.rm=TRUE)),]\n",
    "best_urbain_rmse<-rmse_ur[which(rmse_ur$rmse==min(rmse_ur$rmse,na.rm=TRUE)),]\n",
    "\n",
    "print(c(\"la simulation d'irrigation qui optimise tous le critères RMSE est:\",\n",
    "            paste(best_urbain_rmse[2:10],collapse=\"_\")))\n",
    "\n",
    "print(c(\"la simulation d'urbain qui optimise tous le critères RMSE est:\",\n",
    "            paste(best_irrig_rmse[2:10],collapse=\"_\")))"
   ]
  },
  {
   "cell_type": "markdown",
   "id": "b8fc5d36",
   "metadata": {},
   "source": [
    "#### analyse de sensibilité model espace irrigué & urbain"
   ]
  },
  {
   "cell_type": "markdown",
   "id": "ad44c0f6",
   "metadata": {},
   "source": [
    "- les paramètres d'entrée"
   ]
  },
  {
   "cell_type": "code",
   "execution_count": 15,
   "id": "72e49962",
   "metadata": {},
   "outputs": [],
   "source": [
    "X<-rmse_model"
   ]
  },
  {
   "cell_type": "code",
   "execution_count": 16,
   "id": "26658425",
   "metadata": {},
   "outputs": [],
   "source": [
    "X$route_vois<-ifelse(X$route_vois=='false',0,1)"
   ]
  },
  {
   "cell_type": "code",
   "execution_count": 17,
   "id": "2c29e63f",
   "metadata": {},
   "outputs": [],
   "source": [
    "rmse_norm<-data.frame(sapply(X,as.numeric))\n",
    "\n",
    "rmse_norm[c(1:6,8:9)]<-round(data.frame(sapply(rmse_norm[c(1:6,\n",
    "                                        8:9)],normaliz_zero)),2)"
   ]
  },
  {
   "cell_type": "markdown",
   "id": "1bf093e3",
   "metadata": {},
   "source": [
    "- Plan One At Time (OAT)"
   ]
  },
  {
   "cell_type": "code",
   "execution_count": 18,
   "id": "eca4eebd",
   "metadata": {},
   "outputs": [
    {
     "data": {
      "text/html": [
       "<table class=\"dataframe\">\n",
       "<caption>A data.frame: 4 × 9</caption>\n",
       "<thead>\n",
       "\t<tr><th scope=col>expCoeff</th><th scope=col>penteInfCoeff</th><th scope=col>distrouteCoeff</th><th scope=col>ratioliste</th><th scope=col>voisUrbCoef</th><th scope=col>routesCoef</th><th scope=col>route_vois</th><th scope=col>popHaIrrig</th><th scope=col>popHaUrb</th></tr>\n",
       "\t<tr><th scope=col>&lt;dbl&gt;</th><th scope=col>&lt;dbl&gt;</th><th scope=col>&lt;dbl&gt;</th><th scope=col>&lt;dbl&gt;</th><th scope=col>&lt;dbl&gt;</th><th scope=col>&lt;dbl&gt;</th><th scope=col>&lt;dbl&gt;</th><th scope=col>&lt;dbl&gt;</th><th scope=col>&lt;dbl&gt;</th></tr>\n",
       "</thead>\n",
       "<tbody>\n",
       "\t<tr><td>0</td><td>3</td><td>0</td><td>0.2</td><td>0</td><td>0</td><td> 0</td><td>12</td><td>60</td></tr>\n",
       "\t<tr><td>3</td><td>6</td><td>3</td><td>0.4</td><td>3</td><td>3</td><td> 1</td><td>15</td><td>65</td></tr>\n",
       "\t<tr><td>6</td><td>9</td><td>6</td><td>0.6</td><td>6</td><td>6</td><td>NA</td><td> 9</td><td>70</td></tr>\n",
       "\t<tr><td>9</td><td>0</td><td>9</td><td> NA</td><td>9</td><td>9</td><td>NA</td><td>NA</td><td>NA</td></tr>\n",
       "</tbody>\n",
       "</table>\n"
      ],
      "text/latex": [
       "A data.frame: 4 × 9\n",
       "\\begin{tabular}{lllllllll}\n",
       " expCoeff & penteInfCoeff & distrouteCoeff & ratioliste & voisUrbCoef & routesCoef & route\\_vois & popHaIrrig & popHaUrb\\\\\n",
       " <dbl> & <dbl> & <dbl> & <dbl> & <dbl> & <dbl> & <dbl> & <dbl> & <dbl>\\\\\n",
       "\\hline\n",
       "\t 0 & 3 & 0 & 0.2 & 0 & 0 &  0 & 12 & 60\\\\\n",
       "\t 3 & 6 & 3 & 0.4 & 3 & 3 &  1 & 15 & 65\\\\\n",
       "\t 6 & 9 & 6 & 0.6 & 6 & 6 & NA &  9 & 70\\\\\n",
       "\t 9 & 0 & 9 &  NA & 9 & 9 & NA & NA & NA\\\\\n",
       "\\end{tabular}\n"
      ],
      "text/markdown": [
       "\n",
       "A data.frame: 4 × 9\n",
       "\n",
       "| expCoeff &lt;dbl&gt; | penteInfCoeff &lt;dbl&gt; | distrouteCoeff &lt;dbl&gt; | ratioliste &lt;dbl&gt; | voisUrbCoef &lt;dbl&gt; | routesCoef &lt;dbl&gt; | route_vois &lt;dbl&gt; | popHaIrrig &lt;dbl&gt; | popHaUrb &lt;dbl&gt; |\n",
       "|---|---|---|---|---|---|---|---|---|\n",
       "| 0 | 3 | 0 | 0.2 | 0 | 0 |  0 | 12 | 60 |\n",
       "| 3 | 6 | 3 | 0.4 | 3 | 3 |  1 | 15 | 65 |\n",
       "| 6 | 9 | 6 | 0.6 | 6 | 6 | NA |  9 | 70 |\n",
       "| 9 | 0 | 9 |  NA | 9 | 9 | NA | NA | NA |\n",
       "\n"
      ],
      "text/plain": [
       "  expCoeff penteInfCoeff distrouteCoeff ratioliste voisUrbCoef routesCoef\n",
       "1 0        3             0              0.2        0           0         \n",
       "2 3        6             3              0.4        3           3         \n",
       "3 6        9             6              0.6        6           6         \n",
       "4 9        0             9               NA        9           9         \n",
       "  route_vois popHaIrrig popHaUrb\n",
       "1  0         12         60      \n",
       "2  1         15         65      \n",
       "3 NA          9         70      \n",
       "4 NA         NA         NA      "
      ]
     },
     "metadata": {},
     "output_type": "display_data"
    }
   ],
   "source": [
    "pPlan<-sapply(data.frame(sapply(X,\n",
    "                 as.numeric))[1:9],unique)\n",
    "\n",
    "pPlan<- data.frame(lapply(pPlan, function(x) {\n",
    "  x <- unlist(x)\n",
    "  length(x) <- max(lengths(pPlan))\n",
    "  return(x)\n",
    "}))\n",
    "pPlan\n",
    "pPlan<-pPlan"
   ]
  },
  {
   "cell_type": "code",
   "execution_count": 19,
   "id": "7b68afe1",
   "metadata": {},
   "outputs": [],
   "source": [
    "poat<-rmse_norm"
   ]
  },
  {
   "cell_type": "markdown",
   "id": "08b94ed1",
   "metadata": {},
   "source": [
    "- méthode de Morris: Le plan de morris avec échantillonnage radial itéré"
   ]
  },
  {
   "cell_type": "code",
   "execution_count": 77,
   "id": "0736a016",
   "metadata": {},
   "outputs": [],
   "source": [
    "set.seed(42)\n",
    "i<-0\n",
    "EE<-c()\n",
    "PARAM<-c()\n",
    "choc<-c()\n",
    "response<-c()\n",
    "\n",
    "while (i<10){\n",
    "    i<- i+1\n",
    "    t<-c()\n",
    "    T<-0\n",
    "\n",
    "    \n",
    "        #premier plan OAT\n",
    "\n",
    "            ##trier au hasard l'état initial des paramètre du plan OAT\n",
    "    L0<-sample(dim(poat)[1],1)\n",
    "    input0 <- poat[L0,1:9]\n",
    "\n",
    "            ##appel initial au model (réponse du model au set initial de paramètres)\n",
    "    output0 <- poat[L0,11]\n",
    "    \n",
    "            while (T<45){\n",
    "            #effets elementaire\n",
    "                ##tirage aléatoire pour modification d'une entrée\n",
    "            to<-sample(length(input0),1)\n",
    "\n",
    "                ##modification du parametre choqué:\n",
    "            input1 <- input0\n",
    "\n",
    "            c<-0\n",
    "\n",
    "            lt<-(na.omit(unique(poat[[to]])))\n",
    "            lt<-lt[lt!=input0[[to]]]\n",
    "                \n",
    "            while (c<1){\n",
    "                chg<-sample(lt,1)[[1]]\n",
    "                input1[to]<-chg\n",
    "\n",
    "                y<-subset(poat,\n",
    "                expCoeff==input1[[\"expCoeff\"]] &\n",
    "                penteInfCoeff==input1[[\"penteInfCoeff\"]] &\n",
    "                distrouteCoeff==input1[[\"distrouteCoeff\"]] &\n",
    "                ratioliste==input1[[\"ratioliste\"]]  &\n",
    "                voisUrbCoef==input1[[\"voisUrbCoef\"]] &\n",
    "                routesCoef==input1[[\"routesCoef\"]] &\n",
    "                route_vois==input1[[\"route_vois\"]] &\n",
    "                popHaIrrig==input1[[\"popHaIrrig\"]] &\n",
    "                popHaUrb==input1[[\"popHaUrb\"]])\n",
    "        \n",
    "\n",
    "                    ##le pas de changement\n",
    "                d<-unlist(chg-input0[to])\n",
    "                \n",
    "                if (NROW(y)>0){\n",
    "                    c<-1}\n",
    "                if (NROW(y)==0){\n",
    "                    input1 <- input0\n",
    "                    lt<-lt[lt!=chg]}}\n",
    "            \n",
    "                ##appel au model choqué\n",
    "            output1 <- y[11]\n",
    "            input1 <- y[L0,1:9]\n",
    "\n",
    "                ## effet élémentaire EE\n",
    "            EE1<-(output1-output0)/d\n",
    "            EE <-c (EE,round(EE1,3))\n",
    "            PARAM<- c(PARAM,names(input1)[to])\n",
    "            choc<-c(choc,d)\n",
    "            response<-c(response,round((output1-output0),3))\n",
    "            t<-c(t,to)\n",
    "            T<-sum(unique(t))\n",
    "    }\n",
    "\n",
    "}"
   ]
  },
  {
   "cell_type": "code",
   "execution_count": 78,
   "id": "e3e30649",
   "metadata": {},
   "outputs": [],
   "source": [
    "ee_morris <- data.frame(cbind(unlist(PARAM),\n",
    "                              unlist(EE),\n",
    "                              unlist(choc),\n",
    "                              unlist(response)))\n",
    "rownames(ee_morris) <-NULL \n",
    "ee_morris[2:4]<-sapply(ee_morris[2:4],as.numeric)\n",
    "ee_morris[1]<-sapply(unlist(ee_morris[1]),as.factor)\n",
    "names(ee_morris) <- c(\"parametres\",\"effet_elementaire\",\"delta_X\",\"delta_Y\")"
   ]
  },
  {
   "cell_type": "code",
   "execution_count": 79,
   "id": "ae39dfa2",
   "metadata": {},
   "outputs": [],
   "source": [
    "morris<-pPlan[which(pPlan[1]==\"R\"),]"
   ]
  },
  {
   "cell_type": "code",
   "execution_count": 80,
   "id": "e417fedb",
   "metadata": {},
   "outputs": [],
   "source": [
    "for (j in 1:9){\n",
    "    morris[\"mean_effect\",j]<-round(mean((ee_morris[which(ee_morris[1]==names(morris)[j]),2]),\n",
    "                                                 na.rm=TRUE),3)\n",
    "    \n",
    "    morris[\"mean_absolute_effect\",j]<-round(mean(abs(ee_morris[which(ee_morris[1]==names(morris)[j]),2]),\n",
    "                                                 na.rm=TRUE),3)\n",
    "    \n",
    "    morris[\"sd_effect\",j]<-round(sd(ee_morris[which(ee_morris[1]==names(morris)[j]),2],\n",
    "                                    na.rm=TRUE),3)\n",
    "    \n",
    "        morris[\"delta_X\",j]<-round(mean(ee_morris[which(ee_morris[1]==names(morris)[j]),3],\n",
    "                                    na.rm=TRUE),3)\n",
    "    \n",
    "        morris[\"delta_Y\",j]<-round(mean(ee_morris[which(ee_morris[1]==names(morris)[j]),4],\n",
    "                                    na.rm=TRUE),3)\n",
    "}\n",
    "morris<-t(morris)"
   ]
  },
  {
   "cell_type": "code",
   "execution_count": 81,
   "id": "0f7ce51f",
   "metadata": {},
   "outputs": [],
   "source": [
    "plt<-data.frame(morris)"
   ]
  },
  {
   "cell_type": "markdown",
   "id": "278c4bb4",
   "metadata": {},
   "source": [
    "- Plot morris Plan"
   ]
  },
  {
   "cell_type": "code",
   "execution_count": 82,
   "id": "c4274b36",
   "metadata": {},
   "outputs": [
    {
     "data": {
      "image/png": "[encoded data removed]",
      "text/plain": [
       "plot without title"
      ]
     },
     "metadata": {
      "image/png": {
       "height": 420,
       "width": 420
      }
     },
     "output_type": "display_data"
    }
   ],
   "source": [
    "plot(x = plt$mean_absolute_effect,\n",
    "     y = plt$sd_effect,\n",
    "     pch = 16, frame = FALSE,\n",
    "     xlab = \"moyenne des effets élémentaires absolus\", \n",
    "     ylab = \"l’écart-type des effets élémentaires\",\n",
    "     col = c(1:9))\n",
    "abline(lm(sd_effect ~ mean_absolute_effect,data=plt), col=\"grey\", lwd=3)\n",
    "#text(sd_effect ~ mean_effect, labels=rownames(plt),data=plt, cex=0.9, font=2)\n",
    "text(plt$mean_absolute_effect,plt$sd_effect,labels=rownames(plt), cex= 0.7, offset = 10)"
   ]
  },
  {
   "cell_type": "code",
   "execution_count": 83,
   "id": "764ca71d",
   "metadata": {},
   "outputs": [],
   "source": [
    "write.csv2(ee_morris, file = \"effet_elementaire_morris.csv\")"
   ]
  },
  {
   "cell_type": "markdown",
   "id": "50c5d278",
   "metadata": {},
   "source": [
    "- Rang Morris"
   ]
  },
  {
   "cell_type": "code",
   "execution_count": 84,
   "id": "74ad1925",
   "metadata": {},
   "outputs": [],
   "source": [
    "rank<-data.frame(morris[,2:3])\n",
    "rank$sum<-(rank$sd_effect+rank$mean_absolute_effect)\n",
    "rank<-rank[order(rank$sum),]\n",
    "rank$Rang_Morris<-sort(1:9,decreasing=TRUE)\n",
    "rank<-rank[order(rank$Rang_Morris),-3]"
   ]
  },
  {
   "cell_type": "code",
   "execution_count": 85,
   "id": "a8a20c7e",
   "metadata": {},
   "outputs": [
    {
     "data": {
      "text/html": [
       "<table class=\"dataframe\">\n",
       "<caption>A data.frame: 9 × 3</caption>\n",
       "<thead>\n",
       "\t<tr><th></th><th scope=col>mean_absolute_effect</th><th scope=col>sd_effect</th><th scope=col>Rang_Morris</th></tr>\n",
       "\t<tr><th></th><th scope=col>&lt;dbl&gt;</th><th scope=col>&lt;dbl&gt;</th><th scope=col>&lt;int&gt;</th></tr>\n",
       "</thead>\n",
       "<tbody>\n",
       "\t<tr><th scope=row>voisUrbCoef</th><td>0.211</td><td>0.546</td><td>1</td></tr>\n",
       "\t<tr><th scope=row>expCoeff</th><td>0.415</td><td>0.140</td><td>2</td></tr>\n",
       "\t<tr><th scope=row>penteInfCoeff</th><td>0.297</td><td>0.231</td><td>3</td></tr>\n",
       "\t<tr><th scope=row>routesCoef</th><td>0.265</td><td>0.259</td><td>4</td></tr>\n",
       "\t<tr><th scope=row>distrouteCoeff</th><td>0.199</td><td>0.202</td><td>5</td></tr>\n",
       "\t<tr><th scope=row>ratioliste</th><td>0.162</td><td>0.164</td><td>6</td></tr>\n",
       "\t<tr><th scope=row>popHaIrrig</th><td>0.007</td><td>0.010</td><td>7</td></tr>\n",
       "\t<tr><th scope=row>popHaUrb</th><td>0.006</td><td>0.010</td><td>8</td></tr>\n",
       "\t<tr><th scope=row>route_vois</th><td>0.009</td><td>0.007</td><td>9</td></tr>\n",
       "</tbody>\n",
       "</table>\n"
      ],
      "text/latex": [
       "A data.frame: 9 × 3\n",
       "\\begin{tabular}{r|lll}\n",
       "  & mean\\_absolute\\_effect & sd\\_effect & Rang\\_Morris\\\\\n",
       "  & <dbl> & <dbl> & <int>\\\\\n",
       "\\hline\n",
       "\tvoisUrbCoef & 0.211 & 0.546 & 1\\\\\n",
       "\texpCoeff & 0.415 & 0.140 & 2\\\\\n",
       "\tpenteInfCoeff & 0.297 & 0.231 & 3\\\\\n",
       "\troutesCoef & 0.265 & 0.259 & 4\\\\\n",
       "\tdistrouteCoeff & 0.199 & 0.202 & 5\\\\\n",
       "\tratioliste & 0.162 & 0.164 & 6\\\\\n",
       "\tpopHaIrrig & 0.007 & 0.010 & 7\\\\\n",
       "\tpopHaUrb & 0.006 & 0.010 & 8\\\\\n",
       "\troute\\_vois & 0.009 & 0.007 & 9\\\\\n",
       "\\end{tabular}\n"
      ],
      "text/markdown": [
       "\n",
       "A data.frame: 9 × 3\n",
       "\n",
       "| <!--/--> | mean_absolute_effect &lt;dbl&gt; | sd_effect &lt;dbl&gt; | Rang_Morris &lt;int&gt; |\n",
       "|---|---|---|---|\n",
       "| voisUrbCoef | 0.211 | 0.546 | 1 |\n",
       "| expCoeff | 0.415 | 0.140 | 2 |\n",
       "| penteInfCoeff | 0.297 | 0.231 | 3 |\n",
       "| routesCoef | 0.265 | 0.259 | 4 |\n",
       "| distrouteCoeff | 0.199 | 0.202 | 5 |\n",
       "| ratioliste | 0.162 | 0.164 | 6 |\n",
       "| popHaIrrig | 0.007 | 0.010 | 7 |\n",
       "| popHaUrb | 0.006 | 0.010 | 8 |\n",
       "| route_vois | 0.009 | 0.007 | 9 |\n",
       "\n"
      ],
      "text/plain": [
       "               mean_absolute_effect sd_effect Rang_Morris\n",
       "voisUrbCoef    0.211                0.546     1          \n",
       "expCoeff       0.415                0.140     2          \n",
       "penteInfCoeff  0.297                0.231     3          \n",
       "routesCoef     0.265                0.259     4          \n",
       "distrouteCoeff 0.199                0.202     5          \n",
       "ratioliste     0.162                0.164     6          \n",
       "popHaIrrig     0.007                0.010     7          \n",
       "popHaUrb       0.006                0.010     8          \n",
       "route_vois     0.009                0.007     9          "
      ]
     },
     "metadata": {},
     "output_type": "display_data"
    }
   ],
   "source": [
    "rank"
   ]
  },
  {
   "cell_type": "code",
   "execution_count": null,
   "id": "76014866",
   "metadata": {},
   "outputs": [],
   "source": []
  }
 ],
 "metadata": {
  "kernelspec": {
   "display_name": "R",
   "language": "R",
   "name": "ir"
  },
  "language_info": {
   "codemirror_mode": "r",
   "file_extension": ".r",
   "mimetype": "text/x-r-source",
   "name": "R",
   "pygments_lexer": "r",
   "version": "4.1.1"
  }
 },
 "nbformat": 4,
 "nbformat_minor": 5
}
