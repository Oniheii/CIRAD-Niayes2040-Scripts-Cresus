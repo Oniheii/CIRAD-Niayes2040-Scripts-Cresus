{
 "cells": [
  {
   "cell_type": "markdown",
   "id": "361f27e0",
   "metadata": {},
   "source": [
    "## ANALYSE DE SENSIBILITE DU MODEL HYDRO R-NIAYES 2040"
   ]
  },
  {
   "cell_type": "code",
   "execution_count": 1,
   "id": "4d976c3d",
   "metadata": {},
   "outputs": [],
   "source": [
    "create_folder<-function(x,path=getwd()){\n",
    "    \n",
    "        for (f in x){\n",
    "            \n",
    "            folder<-file.path(path, f)\n",
    "\n",
    "        if (!dir.exists(folder)){\n",
    "            dir.create(folder)\n",
    "            print(paste(f,\"has been created!\"))\n",
    "        } else {\n",
    "        print(paste(folder,\"already exists!\"))}\n",
    "        }\n",
    "}"
   ]
  },
  {
   "cell_type": "code",
   "execution_count": 2,
   "id": "21999981",
   "metadata": {},
   "outputs": [],
   "source": [
    "rcsv_sep<-function(file_path){\n",
    "    L <- readLines(file_path, n = 1)\n",
    "    if (grepl(\";\", L)) read.csv2(file_path) else read.csv(file_path)\n",
    "    }"
   ]
  },
  {
   "cell_type": "code",
   "execution_count": 35,
   "id": "d2a9e6e7",
   "metadata": {},
   "outputs": [],
   "source": [
    "normaliz_zero<-function(x){\n",
    "    x<-na.omit(x)\n",
    "    min<-min(x)\n",
    "    max<-max(x)\n",
    "    if (min!=max){\n",
    "        val<-as.numeric(lapply(x,function(y) (y-min)/(max-min)))}\n",
    "    else{\n",
    "        if (max==0){val<-0}\n",
    "        else{val<-1}\n",
    "    }\n",
    "return(val)\n",
    "}"
   ]
  },
  {
   "cell_type": "markdown",
   "id": "9aa3536f",
   "metadata": {},
   "source": [
    "### Méthode de Morris"
   ]
  },
  {
   "cell_type": "code",
   "execution_count": 180,
   "id": "8f6f87e8",
   "metadata": {},
   "outputs": [],
   "source": [
    "morris<-function(table,stats = \"rmse_agg_dgpz\"){\n",
    "    #méthode de Morris: Le plan de morris avec échantillonnage radial itéré\n",
    "    #plan d'expérience OAT\n",
    "    plan<-sapply(table,unique)#plan brut\n",
    "    plan<- data.frame(lapply(plan, function(x) {\n",
    "      x <- unlist(x)\n",
    "      length(x) <- max(lengths(plan))\n",
    "      return(x)}))\n",
    "    #normalisation du plan d'expérience\n",
    "    table_norm<-table\n",
    "    table_norm<-data.frame(sapply(table,normaliz_zero))\n",
    "    plan_oat<-table_norm\n",
    "    #la méthode moriss\n",
    "    set.seed(123)\n",
    "    i<-0\n",
    "    EE<-c()\n",
    "    PARAM<-c()\n",
    "    choc<-c()\n",
    "    response<-c()\n",
    "    while (i<10){\n",
    "        i<- i+1\n",
    "        t<-c()\n",
    "        T<-0\n",
    "            #premier plan OAT\n",
    "                ##trier au hasard l'état initial des paramètre du plan OAT\n",
    "                L0<-sample(dim(plan_oat)[1],1)\n",
    "                input0 <- plan_oat[L0,which(names(plan_oat)!=stats)]\n",
    "                ##appel initial au model (réponse du model au set initial de paramètres)\n",
    "                output0 <- plan_oat[L0,stats]\n",
    "            while (T<10){\n",
    "                #effets elementaire\n",
    "                #tirage aléatoire pour modification d'une entrée\n",
    "                to<-sample(length(input0),1)\n",
    "                #modification du parametre choqué:\n",
    "                input1 <- input0\n",
    "                c<-0\n",
    "                lt<-unique(unlist(na.omit(plan_oat[to])))\n",
    "                lt<-as.list(lt[-which(lt==input0[[to]])])\n",
    "                if (length(lt)!=0){\n",
    "                    while (c<1){\n",
    "                        chg<-sample(lt,1)[[1]]\n",
    "                        input1[to]<-chg\n",
    "                        p<-plan_oat\n",
    "                        for (col in names(p[which(names(p)!=stats)])){\n",
    "                            p <- p[which(p[,col]==input1[[col]]),]}\n",
    "                        input1 = p\n",
    "                        #le pas de changement\n",
    "                        d<-(chg-input0[to])\n",
    "                        if (NROW(input1)>0){\n",
    "                            c<-1}\n",
    "                        if (NROW(input1)==0){\n",
    "                            input1 <- input0\n",
    "                            lt<-lt[-which(lt==chg)]}\n",
    "                        }\n",
    "                    #appel au model choqué\n",
    "                    output1 <- input1[,stats]\n",
    "                    input1 <- input1[L0,which(names(plan_oat)!=stats)]\n",
    "                    #effet élémentaire EE\n",
    "                    EE1<-(output1-output0)/d\n",
    "                    EE <-c (EE,round(EE1,3))\n",
    "                    PARAM<- c(PARAM,names(input1)[to])\n",
    "                    choc<-c(choc,d)\n",
    "                    response<-c(response,round((output1-output0),3))\n",
    "                    }\n",
    "                    t<-c(t,to)\n",
    "                    T<-sum(unique(t))\n",
    "            }\n",
    "    }\n",
    "    #table des effets elementaires\n",
    "    ee_morris <- data.frame(cbind(unlist(PARAM),unlist(EE),\n",
    "                                  unlist(choc),unlist(response)))\n",
    "    rownames(ee_morris) <-NULL \n",
    "    ee_morris[2:4]<-sapply(ee_morris[2:4],as.numeric)\n",
    "    ee_morris[1]<-sapply(unlist(ee_morris[1]),as.factor)\n",
    "    names(ee_morris) <- c(\"parametres\",\"effet_elementaire\",\n",
    "                          \"delta_X\",\"delta_Y\")\n",
    "    morris<-plan[which(plan[1]==\"moire\"),which(names(plan)!=stats)]\n",
    "    for (j in 1:NCOL(morris)){\n",
    "        morris[\"mean_effect\",j]<-round(mean((ee_morris[which(ee_morris[1]==names(morris)[j]),2]),\n",
    "                                            na.rm=TRUE),3)\n",
    "        morris[\"mean_absolute_effect\",j]<-round(mean(abs(ee_morris[which(ee_morris[1]==names(morris)[j]),2]),\n",
    "                                                     na.rm=TRUE),3)\n",
    "        morris[\"sd_effect\",j]<-round(sd(ee_morris[which(ee_morris[1]==names(morris)[j]),2],\n",
    "                                        na.rm=TRUE),3)\n",
    "        morris[\"delta_X\",j]<-round(mean(ee_morris[which(ee_morris[1]==names(morris)[j]),3],\n",
    "                                        na.rm=TRUE),3)\n",
    "        morris[\"delta_Y\",j]<-round(mean(ee_morris[which(ee_morris[1]==names(morris)[j]),4],\n",
    "                                        na.rm=TRUE),3)}\n",
    "    morris<-t(morris)\n",
    "    morris<-na.omit(morris)\n",
    "    #plan de morris\n",
    "    plt<-data.frame(morris)\n",
    "    plot(x = plt$mean_absolute_effect,\n",
    "         y = plt$sd_effect,\n",
    "         pch = 16, frame = FALSE,\n",
    "         xlab = \"moyenne des effets élémentaires absolus\", \n",
    "         ylab = \"l’écart-type des effets élémentaires\",\n",
    "         col = c(1:NCOL(plt)))\n",
    "    if (NROW(plt)>1){\n",
    "    abline(lm(sd_effect ~ mean_absolute_effect + mean_absolute_effect,data=plt,na.action=na.omit),col=\"grey\", lwd=3)}\n",
    "    #text(sd_effect ~ mean_effect, labels=rownames(plt),data=plt, cex=0.9, font=2)\n",
    "    text(plt$mean_absolute_effect,plt$sd_effect,labels=rownames(plt), cex= 0.7, offset = 10)\n",
    "    write.csv2(ee_morris, file = \"effet_elementaire_morris.csv\")\n",
    "    #rank de morris\n",
    "    rank<-data.frame(plt[,2:3])\n",
    "    return(rank)\n",
    "    rank$sum<-(rank$sd_effect+rank$mean_absolute_effect)\n",
    "    print(\"out\")\n",
    "    rank<-rank[order(rank$sum),]\n",
    "    rank$Rang_Morris<-sort(1:NROW(rank),decreasing=TRUE)\n",
    "    rank<-rank[order(rank$Rang_Morris),-3]\n",
    "    \n",
    "return(rank)}"
   ]
  },
  {
   "cell_type": "markdown",
   "id": "d1282109",
   "metadata": {},
   "source": [
    "- les paramètres d'entrée"
   ]
  },
  {
   "cell_type": "markdown",
   "id": "e4f38e7b",
   "metadata": {},
   "source": [
    "#### importer les données"
   ]
  },
  {
   "cell_type": "code",
   "execution_count": 22,
   "id": "3da01ff2",
   "metadata": {},
   "outputs": [],
   "source": [
    "path_table = 'C:/Users/kouno/Desktop/Programme_Crésus/Calibration Model Hydro/output/tableau_rsme.csv'\n",
    "rmse<-rcsv_sep(path_table)[-1]"
   ]
  },
  {
   "cell_type": "markdown",
   "id": "8c37dbaa",
   "metadata": {},
   "source": [
    "#### mise en forme de la table"
   ]
  },
  {
   "cell_type": "code",
   "execution_count": 23,
   "id": "d9550149",
   "metadata": {},
   "outputs": [],
   "source": [
    "#selection des resolutions à considérer\n",
    "rmse[3:7]<-data.frame(lapply(rmse[3:7],as.numeric))\n",
    "set<-subset(rmse,resolution==300|resolution==500|\n",
    "            resolution==700|resolution==900)\n",
    "#selection des variables à considérer\n",
    "table<-set[,c(\"consourb\",\"moyirrigculture\",\"varstock\",\"resolution\",\"rmse_agg_dgpz\")]"
   ]
  },
  {
   "cell_type": "code",
   "execution_count": 183,
   "id": "42457f8a",
   "metadata": {},
   "outputs": [
    {
     "data": {
      "text/html": [
       "<table class=\"dataframe\">\n",
       "<caption>A data.frame: 1 × 2</caption>\n",
       "<thead>\n",
       "\t<tr><th></th><th scope=col>mean_absolute_effect</th><th scope=col>sd_effect</th></tr>\n",
       "\t<tr><th></th><th scope=col>&lt;dbl&gt;</th><th scope=col>&lt;dbl&gt;</th></tr>\n",
       "</thead>\n",
       "<tbody>\n",
       "\t<tr><th scope=row>moyirrigculture</th><td>1.466</td><td>1.907</td></tr>\n",
       "</tbody>\n",
       "</table>\n"
      ],
      "text/latex": [
       "A data.frame: 1 × 2\n",
       "\\begin{tabular}{r|ll}\n",
       "  & mean\\_absolute\\_effect & sd\\_effect\\\\\n",
       "  & <dbl> & <dbl>\\\\\n",
       "\\hline\n",
       "\tmoyirrigculture & 1.466 & 1.907\\\\\n",
       "\\end{tabular}\n"
      ],
      "text/markdown": [
       "\n",
       "A data.frame: 1 × 2\n",
       "\n",
       "| <!--/--> | mean_absolute_effect &lt;dbl&gt; | sd_effect &lt;dbl&gt; |\n",
       "|---|---|---|\n",
       "| moyirrigculture | 1.466 | 1.907 |\n",
       "\n"
      ],
      "text/plain": [
       "                mean_absolute_effect sd_effect\n",
       "moyirrigculture 1.466                1.907    "
      ]
     },
     "metadata": {},
     "output_type": "display_data"
    },
    {
     "data": {
      "image/png": "[encoded data removed]",
      "text/plain": [
       "plot without title"
      ]
     },
     "metadata": {
      "image/png": {
       "height": 420,
       "width": 420
      }
     },
     "output_type": "display_data"
    }
   ],
   "source": [
    "morris(table)"
   ]
  },
  {
   "cell_type": "code",
   "execution_count": null,
   "id": "db6bc65c",
   "metadata": {},
   "outputs": [],
   "source": []
  }
 ],
 "metadata": {
  "kernelspec": {
   "display_name": "R",
   "language": "R",
   "name": "ir"
  },
  "language_info": {
   "codemirror_mode": "r",
   "file_extension": ".r",
   "mimetype": "text/x-r-source",
   "name": "R",
   "pygments_lexer": "r",
   "version": "4.1.1"
  }
 },
 "nbformat": 4,
 "nbformat_minor": 5
}
