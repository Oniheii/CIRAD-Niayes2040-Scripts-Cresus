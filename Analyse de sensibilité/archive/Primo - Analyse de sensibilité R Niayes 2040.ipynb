{
 "cells": [
  {
   "cell_type": "markdown",
   "id": "361f27e0",
   "metadata": {},
   "source": [
    "## ANALYSE DE SENSIBILITE DU MODEL HYDRO R-NIAYES 2040"
   ]
  },
  {
   "cell_type": "code",
   "execution_count": 32,
   "id": "9b149f4f",
   "metadata": {},
   "outputs": [],
   "source": [
    "create_folder=function(x,path=getwd()){\n",
    "    \n",
    "        for (f in x){\n",
    "            \n",
    "            folder<-file.path(path, f)\n",
    "\n",
    "        if (!dir.exists(folder)){\n",
    "            dir.create(folder)\n",
    "            print(paste(f,\"has been created!\"))\n",
    "        } else {\n",
    "        print(paste(folder,\"already exists!\"))}\n",
    "        }\n",
    "}"
   ]
  },
  {
   "cell_type": "code",
   "execution_count": 33,
   "id": "b43292f8",
   "metadata": {},
   "outputs": [],
   "source": [
    "rcsv_sep=function(file_path){\n",
    "    L <- readLines(file_path, n = 1)\n",
    "    if (grepl(\";\", L)) read.csv2(file_path) else read.csv(file_path)\n",
    "    }"
   ]
  },
  {
   "cell_type": "code",
   "execution_count": 34,
   "id": "4bbcb238",
   "metadata": {},
   "outputs": [],
   "source": [
    "normaliz_zero<-function(x){\n",
    "    x<-na.omit(x)\n",
    "    min<-min(x)\n",
    "    max<-max(x)\n",
    "    \n",
    "    val<-lapply(x,function(y) (y-min)/(max-min))\n",
    "return(val)\n",
    "}"
   ]
  },
  {
   "cell_type": "markdown",
   "id": "9956a6a1",
   "metadata": {},
   "source": [
    "### Méthode de Morris"
   ]
  },
  {
   "cell_type": "raw",
   "id": "c47f1a2d",
   "metadata": {},
   "source": [
    "- choisir l'itération -> la ligne des parametres a fixer\n",
    "- choisir le parametre zi -> max(list_zi) & min(list_zi)\n",
    "- fixer les autres paramètre grace à leur list et à l'itération\n",
    "- importer les simulations max et min \n",
    "- calculer l'indix"
   ]
  },
  {
   "cell_type": "markdown",
   "id": "950394cb",
   "metadata": {},
   "source": [
    "### 1-  LE PLAN DE MORRIS"
   ]
  },
  {
   "cell_type": "markdown",
   "id": "9747802c",
   "metadata": {},
   "source": [
    "### a-)  Plan d'expérience"
   ]
  },
  {
   "cell_type": "markdown",
   "id": "631e07db",
   "metadata": {},
   "source": [
    "- les paramètres d'entrée"
   ]
  },
  {
   "cell_type": "code",
   "execution_count": 35,
   "id": "9a1ea6d9",
   "metadata": {
    "scrolled": false
   },
   "outputs": [
    {
     "data": {
      "text/html": [
       "<table class=\"dataframe\">\n",
       "<caption>A data.frame: 3 × 15</caption>\n",
       "<thead>\n",
       "\t<tr><th></th><th scope=col>X</th><th scope=col>simul</th><th scope=col>resolution</th><th scope=col>varperm</th><th scope=col>varstock</th><th scope=col>nbiterations</th><th scope=col>consourb</th><th scope=col>Y_mean</th><th scope=col>Y_median</th><th scope=col>rmse_moyen</th><th scope=col>avg_rmse_moyen</th><th scope=col>pond_avg_rmse</th><th scope=col>emad</th><th scope=col>rmsle</th><th scope=col>sum</th></tr>\n",
       "\t<tr><th></th><th scope=col>&lt;chr&gt;</th><th scope=col>&lt;chr&gt;</th><th scope=col>&lt;chr&gt;</th><th scope=col>&lt;chr&gt;</th><th scope=col>&lt;chr&gt;</th><th scope=col>&lt;int&gt;</th><th scope=col>&lt;chr&gt;</th><th scope=col>&lt;dbl&gt;</th><th scope=col>&lt;dbl&gt;</th><th scope=col>&lt;dbl&gt;</th><th scope=col>&lt;dbl&gt;</th><th scope=col>&lt;dbl&gt;</th><th scope=col>&lt;dbl&gt;</th><th scope=col>&lt;dbl&gt;</th><th scope=col>&lt;dbl&gt;</th></tr>\n",
       "</thead>\n",
       "<tbody>\n",
       "\t<tr><th scope=row>1</th><td>Niayes</td><td>simulation 1</td><td>1000.0</td><td>-0.001</td><td>-30.0</td><td>23</td><td>0.03</td><td>3.452793</td><td>0.7838115</td><td>0.5943249</td><td>0.7671572</td><td>0.6455347</td><td>0.3866388</td><td>0.1018249</td><td>3.279292</td></tr>\n",
       "\t<tr><th scope=row>2</th><td>Niayes</td><td>simulation 1</td><td>200.0 </td><td>-0.001</td><td>-30.0</td><td>43</td><td>0.03</td><td>2.729792</td><td>1.5698361</td><td>0.7485651</td><td>0.6694341</td><td>0.7485651</td><td>0.3332178</td><td>0.2084089</td><td>4.278027</td></tr>\n",
       "\t<tr><th scope=row>3</th><td>Niayes</td><td>simulation 1</td><td>300.0 </td><td>-0.001</td><td>-30.0</td><td>23</td><td>0.03</td><td>2.423022</td><td>0.7665675</td><td>0.5894097</td><td>0.5726000</td><td>0.5894097</td><td>0.2999395</td><td>0.1132734</td><td>2.931200</td></tr>\n",
       "</tbody>\n",
       "</table>\n"
      ],
      "text/latex": [
       "A data.frame: 3 × 15\n",
       "\\begin{tabular}{r|lllllllllllllll}\n",
       "  & X & simul & resolution & varperm & varstock & nbiterations & consourb & Y\\_mean & Y\\_median & rmse\\_moyen & avg\\_rmse\\_moyen & pond\\_avg\\_rmse & emad & rmsle & sum\\\\\n",
       "  & <chr> & <chr> & <chr> & <chr> & <chr> & <int> & <chr> & <dbl> & <dbl> & <dbl> & <dbl> & <dbl> & <dbl> & <dbl> & <dbl>\\\\\n",
       "\\hline\n",
       "\t1 & Niayes & simulation 1 & 1000.0 & -0.001 & -30.0 & 23 & 0.03 & 3.452793 & 0.7838115 & 0.5943249 & 0.7671572 & 0.6455347 & 0.3866388 & 0.1018249 & 3.279292\\\\\n",
       "\t2 & Niayes & simulation 1 & 200.0  & -0.001 & -30.0 & 43 & 0.03 & 2.729792 & 1.5698361 & 0.7485651 & 0.6694341 & 0.7485651 & 0.3332178 & 0.2084089 & 4.278027\\\\\n",
       "\t3 & Niayes & simulation 1 & 300.0  & -0.001 & -30.0 & 23 & 0.03 & 2.423022 & 0.7665675 & 0.5894097 & 0.5726000 & 0.5894097 & 0.2999395 & 0.1132734 & 2.931200\\\\\n",
       "\\end{tabular}\n"
      ],
      "text/markdown": [
       "\n",
       "A data.frame: 3 × 15\n",
       "\n",
       "| <!--/--> | X &lt;chr&gt; | simul &lt;chr&gt; | resolution &lt;chr&gt; | varperm &lt;chr&gt; | varstock &lt;chr&gt; | nbiterations &lt;int&gt; | consourb &lt;chr&gt; | Y_mean &lt;dbl&gt; | Y_median &lt;dbl&gt; | rmse_moyen &lt;dbl&gt; | avg_rmse_moyen &lt;dbl&gt; | pond_avg_rmse &lt;dbl&gt; | emad &lt;dbl&gt; | rmsle &lt;dbl&gt; | sum &lt;dbl&gt; |\n",
       "|---|---|---|---|---|---|---|---|---|---|---|---|---|---|---|---|\n",
       "| 1 | Niayes | simulation 1 | 1000.0 | -0.001 | -30.0 | 23 | 0.03 | 3.452793 | 0.7838115 | 0.5943249 | 0.7671572 | 0.6455347 | 0.3866388 | 0.1018249 | 3.279292 |\n",
       "| 2 | Niayes | simulation 1 | 200.0  | -0.001 | -30.0 | 43 | 0.03 | 2.729792 | 1.5698361 | 0.7485651 | 0.6694341 | 0.7485651 | 0.3332178 | 0.2084089 | 4.278027 |\n",
       "| 3 | Niayes | simulation 1 | 300.0  | -0.001 | -30.0 | 23 | 0.03 | 2.423022 | 0.7665675 | 0.5894097 | 0.5726000 | 0.5894097 | 0.2999395 | 0.1132734 | 2.931200 |\n",
       "\n"
      ],
      "text/plain": [
       "  X      simul        resolution varperm varstock nbiterations consourb\n",
       "1 Niayes simulation 1 1000.0     -0.001  -30.0    23           0.03    \n",
       "2 Niayes simulation 1 200.0      -0.001  -30.0    43           0.03    \n",
       "3 Niayes simulation 1 300.0      -0.001  -30.0    23           0.03    \n",
       "  Y_mean   Y_median  rmse_moyen avg_rmse_moyen pond_avg_rmse emad     \n",
       "1 3.452793 0.7838115 0.5943249  0.7671572      0.6455347     0.3866388\n",
       "2 2.729792 1.5698361 0.7485651  0.6694341      0.7485651     0.3332178\n",
       "3 2.423022 0.7665675 0.5894097  0.5726000      0.5894097     0.2999395\n",
       "  rmsle     sum     \n",
       "1 0.1018249 3.279292\n",
       "2 0.2084089 4.278027\n",
       "3 0.1132734 2.931200"
      ]
     },
     "metadata": {},
     "output_type": "display_data"
    }
   ],
   "source": [
    "#### la table des RMSE\n",
    "rmse<-rcsv_sep('C:/Users/kouno/Desktop/Programme_Crésus/Calibration Model Hydro/output/tableau_rsme.csv')[-1]\n",
    "names(rmse)[4:7]<-c(\"varperm\",\"varstock\",\"nbiterations\",\"consourb\")\n",
    "head(rmse,3)\n",
    "rmse[3:7]<-data.frame(lapply(rmse[3:7],as.numeric))"
   ]
  },
  {
   "cell_type": "markdown",
   "id": "65304af6",
   "metadata": {},
   "source": [
    "- valeurs des paramètres"
   ]
  },
  {
   "cell_type": "code",
   "execution_count": 36,
   "id": "d5105270",
   "metadata": {},
   "outputs": [],
   "source": [
    "parList<-sapply(rmse[3:7],unique)"
   ]
  },
  {
   "cell_type": "code",
   "execution_count": 37,
   "id": "d518d495",
   "metadata": {},
   "outputs": [
    {
     "data": {
      "text/html": [
       "<table class=\"dataframe\">\n",
       "<caption>A data.frame: 9 × 5</caption>\n",
       "<thead>\n",
       "\t<tr><th scope=col>resolution</th><th scope=col>varperm</th><th scope=col>varstock</th><th scope=col>nbiterations</th><th scope=col>consourb</th></tr>\n",
       "\t<tr><th scope=col>&lt;dbl&gt;</th><th scope=col>&lt;dbl&gt;</th><th scope=col>&lt;dbl&gt;</th><th scope=col>&lt;dbl&gt;</th><th scope=col>&lt;dbl&gt;</th></tr>\n",
       "</thead>\n",
       "<tbody>\n",
       "\t<tr><td>1000</td><td>-1e-03</td><td>-30</td><td>23</td><td>0.03</td></tr>\n",
       "\t<tr><td> 200</td><td> 0e+00</td><td>-60</td><td>43</td><td>0.06</td></tr>\n",
       "\t<tr><td> 300</td><td> 1e-03</td><td>  0</td><td> 3</td><td>  NA</td></tr>\n",
       "\t<tr><td> 400</td><td> 5e-04</td><td> 30</td><td>NA</td><td>  NA</td></tr>\n",
       "\t<tr><td> 500</td><td>-5e-04</td><td> 60</td><td>NA</td><td>  NA</td></tr>\n",
       "\t<tr><td> 600</td><td>    NA</td><td> NA</td><td>NA</td><td>  NA</td></tr>\n",
       "\t<tr><td> 700</td><td>    NA</td><td> NA</td><td>NA</td><td>  NA</td></tr>\n",
       "\t<tr><td> 800</td><td>    NA</td><td> NA</td><td>NA</td><td>  NA</td></tr>\n",
       "\t<tr><td> 900</td><td>    NA</td><td> NA</td><td>NA</td><td>  NA</td></tr>\n",
       "</tbody>\n",
       "</table>\n"
      ],
      "text/latex": [
       "A data.frame: 9 × 5\n",
       "\\begin{tabular}{lllll}\n",
       " resolution & varperm & varstock & nbiterations & consourb\\\\\n",
       " <dbl> & <dbl> & <dbl> & <dbl> & <dbl>\\\\\n",
       "\\hline\n",
       "\t 1000 & -1e-03 & -30 & 23 & 0.03\\\\\n",
       "\t  200 &  0e+00 & -60 & 43 & 0.06\\\\\n",
       "\t  300 &  1e-03 &   0 &  3 &   NA\\\\\n",
       "\t  400 &  5e-04 &  30 & NA &   NA\\\\\n",
       "\t  500 & -5e-04 &  60 & NA &   NA\\\\\n",
       "\t  600 &     NA &  NA & NA &   NA\\\\\n",
       "\t  700 &     NA &  NA & NA &   NA\\\\\n",
       "\t  800 &     NA &  NA & NA &   NA\\\\\n",
       "\t  900 &     NA &  NA & NA &   NA\\\\\n",
       "\\end{tabular}\n"
      ],
      "text/markdown": [
       "\n",
       "A data.frame: 9 × 5\n",
       "\n",
       "| resolution &lt;dbl&gt; | varperm &lt;dbl&gt; | varstock &lt;dbl&gt; | nbiterations &lt;dbl&gt; | consourb &lt;dbl&gt; |\n",
       "|---|---|---|---|---|\n",
       "| 1000 | -1e-03 | -30 | 23 | 0.03 |\n",
       "|  200 |  0e+00 | -60 | 43 | 0.06 |\n",
       "|  300 |  1e-03 |   0 |  3 |   NA |\n",
       "|  400 |  5e-04 |  30 | NA |   NA |\n",
       "|  500 | -5e-04 |  60 | NA |   NA |\n",
       "|  600 |     NA |  NA | NA |   NA |\n",
       "|  700 |     NA |  NA | NA |   NA |\n",
       "|  800 |     NA |  NA | NA |   NA |\n",
       "|  900 |     NA |  NA | NA |   NA |\n",
       "\n"
      ],
      "text/plain": [
       "  resolution varperm varstock nbiterations consourb\n",
       "1 1000       -1e-03  -30      23           0.03    \n",
       "2  200        0e+00  -60      43           0.06    \n",
       "3  300        1e-03    0       3             NA    \n",
       "4  400        5e-04   30      NA             NA    \n",
       "5  500       -5e-04   60      NA             NA    \n",
       "6  600           NA   NA      NA             NA    \n",
       "7  700           NA   NA      NA             NA    \n",
       "8  800           NA   NA      NA             NA    \n",
       "9  900           NA   NA      NA             NA    "
      ]
     },
     "metadata": {},
     "output_type": "display_data"
    }
   ],
   "source": [
    "X<- data.frame(lapply(parList, function(x) {\n",
    "  x <- unlist(x)\n",
    "  length(x) <- max(lengths(parList))\n",
    "  return(x)\n",
    "}))\n",
    "X"
   ]
  },
  {
   "cell_type": "markdown",
   "id": "c54c4136",
   "metadata": {},
   "source": [
    "- les deltas des parramètres"
   ]
  },
  {
   "cell_type": "code",
   "execution_count": 38,
   "id": "e431304e",
   "metadata": {},
   "outputs": [
    {
     "data": {
      "text/html": [
       "<table class=\"dataframe\">\n",
       "<caption>A data.frame: 1 × 5</caption>\n",
       "<thead>\n",
       "\t<tr><th></th><th scope=col>resolution</th><th scope=col>varperm</th><th scope=col>varstock</th><th scope=col>nbiterations</th><th scope=col>consourb</th></tr>\n",
       "\t<tr><th></th><th scope=col>&lt;dbl&gt;</th><th scope=col>&lt;dbl&gt;</th><th scope=col>&lt;dbl&gt;</th><th scope=col>&lt;dbl&gt;</th><th scope=col>&lt;dbl&gt;</th></tr>\n",
       "</thead>\n",
       "<tbody>\n",
       "\t<tr><th scope=row>delta</th><td>100</td><td>5e-04</td><td>30</td><td>20</td><td>0.03</td></tr>\n",
       "</tbody>\n",
       "</table>\n"
      ],
      "text/latex": [
       "A data.frame: 1 × 5\n",
       "\\begin{tabular}{r|lllll}\n",
       "  & resolution & varperm & varstock & nbiterations & consourb\\\\\n",
       "  & <dbl> & <dbl> & <dbl> & <dbl> & <dbl>\\\\\n",
       "\\hline\n",
       "\tdelta & 100 & 5e-04 & 30 & 20 & 0.03\\\\\n",
       "\\end{tabular}\n"
      ],
      "text/markdown": [
       "\n",
       "A data.frame: 1 × 5\n",
       "\n",
       "| <!--/--> | resolution &lt;dbl&gt; | varperm &lt;dbl&gt; | varstock &lt;dbl&gt; | nbiterations &lt;dbl&gt; | consourb &lt;dbl&gt; |\n",
       "|---|---|---|---|---|---|\n",
       "| delta | 100 | 5e-04 | 30 | 20 | 0.03 |\n",
       "\n"
      ],
      "text/plain": [
       "      resolution varperm varstock nbiterations consourb\n",
       "delta 100        5e-04   30       20           0.03    "
      ]
     },
     "metadata": {},
     "output_type": "display_data"
    }
   ],
   "source": [
    "D<-X[which(X[1]==\"R\"),]\n",
    "D[\"delta\",]<-c(100,max(na.omit(X[2]))/2,\n",
    "               max(na.omit(X[3]))/2,20,0.03)\n",
    "D"
   ]
  },
  {
   "cell_type": "markdown",
   "id": "ab9d6f5f",
   "metadata": {},
   "source": [
    "- ecart \"delta\" normalisé entre 0 et 1"
   ]
  },
  {
   "cell_type": "code",
   "execution_count": 39,
   "id": "6cebfa66",
   "metadata": {},
   "outputs": [
    {
     "data": {
      "text/html": [
       "<table class=\"dataframe\">\n",
       "<caption>A data.frame: 1 × 5</caption>\n",
       "<thead>\n",
       "\t<tr><th></th><th scope=col>resolution</th><th scope=col>varperm</th><th scope=col>varstock</th><th scope=col>nbiterations</th><th scope=col>consourb</th></tr>\n",
       "\t<tr><th></th><th scope=col>&lt;dbl&gt;</th><th scope=col>&lt;dbl&gt;</th><th scope=col>&lt;dbl&gt;</th><th scope=col>&lt;dbl&gt;</th><th scope=col>&lt;dbl&gt;</th></tr>\n",
       "</thead>\n",
       "<tbody>\n",
       "\t<tr><th scope=row>norm_delta</th><td>0.125</td><td>0.25</td><td>0.25</td><td>0.5</td><td>1</td></tr>\n",
       "</tbody>\n",
       "</table>\n"
      ],
      "text/latex": [
       "A data.frame: 1 × 5\n",
       "\\begin{tabular}{r|lllll}\n",
       "  & resolution & varperm & varstock & nbiterations & consourb\\\\\n",
       "  & <dbl> & <dbl> & <dbl> & <dbl> & <dbl>\\\\\n",
       "\\hline\n",
       "\tnorm\\_delta & 0.125 & 0.25 & 0.25 & 0.5 & 1\\\\\n",
       "\\end{tabular}\n"
      ],
      "text/markdown": [
       "\n",
       "A data.frame: 1 × 5\n",
       "\n",
       "| <!--/--> | resolution &lt;dbl&gt; | varperm &lt;dbl&gt; | varstock &lt;dbl&gt; | nbiterations &lt;dbl&gt; | consourb &lt;dbl&gt; |\n",
       "|---|---|---|---|---|---|\n",
       "| norm_delta | 0.125 | 0.25 | 0.25 | 0.5 | 1 |\n",
       "\n"
      ],
      "text/plain": [
       "           resolution varperm varstock nbiterations consourb\n",
       "norm_delta 0.125      0.25    0.25     0.5          1       "
      ]
     },
     "metadata": {},
     "output_type": "display_data"
    }
   ],
   "source": [
    "D_norm<-X[which(X[1]==\"R\"),]\n",
    "D_norm[\"norm_delta\",]<-c(0.125,0.25,0.25,0.5,1)\n",
    "D_norm"
   ]
  },
  {
   "cell_type": "markdown",
   "id": "4655fd33",
   "metadata": {},
   "source": [
    "#### b-) Plan One At Time (OAT)"
   ]
  },
  {
   "cell_type": "code",
   "execution_count": 40,
   "id": "79d3e232",
   "metadata": {},
   "outputs": [
    {
     "data": {
      "text/html": [
       "<table class=\"dataframe\">\n",
       "<caption>A data.frame: 3 × 8</caption>\n",
       "<thead>\n",
       "\t<tr><th></th><th scope=col>resolution</th><th scope=col>varperm</th><th scope=col>varstock</th><th scope=col>nbiterations</th><th scope=col>consourb</th><th scope=col>Y_mean</th><th scope=col>Y_median</th><th scope=col>rmse_moyen</th></tr>\n",
       "\t<tr><th></th><th scope=col>&lt;dbl&gt;</th><th scope=col>&lt;dbl&gt;</th><th scope=col>&lt;dbl&gt;</th><th scope=col>&lt;dbl&gt;</th><th scope=col>&lt;dbl&gt;</th><th scope=col>&lt;dbl&gt;</th><th scope=col>&lt;dbl&gt;</th><th scope=col>&lt;dbl&gt;</th></tr>\n",
       "</thead>\n",
       "<tbody>\n",
       "\t<tr><th scope=row>1</th><td>1000</td><td>-0.001</td><td>-30</td><td>23</td><td>0.03</td><td>3.452793</td><td>0.7838115</td><td>0.5943249</td></tr>\n",
       "\t<tr><th scope=row>2</th><td> 200</td><td>-0.001</td><td>-30</td><td>43</td><td>0.03</td><td>2.729792</td><td>1.5698361</td><td>0.7485651</td></tr>\n",
       "\t<tr><th scope=row>3</th><td> 300</td><td>-0.001</td><td>-30</td><td>23</td><td>0.03</td><td>2.423022</td><td>0.7665675</td><td>0.5894097</td></tr>\n",
       "</tbody>\n",
       "</table>\n"
      ],
      "text/latex": [
       "A data.frame: 3 × 8\n",
       "\\begin{tabular}{r|llllllll}\n",
       "  & resolution & varperm & varstock & nbiterations & consourb & Y\\_mean & Y\\_median & rmse\\_moyen\\\\\n",
       "  & <dbl> & <dbl> & <dbl> & <dbl> & <dbl> & <dbl> & <dbl> & <dbl>\\\\\n",
       "\\hline\n",
       "\t1 & 1000 & -0.001 & -30 & 23 & 0.03 & 3.452793 & 0.7838115 & 0.5943249\\\\\n",
       "\t2 &  200 & -0.001 & -30 & 43 & 0.03 & 2.729792 & 1.5698361 & 0.7485651\\\\\n",
       "\t3 &  300 & -0.001 & -30 & 23 & 0.03 & 2.423022 & 0.7665675 & 0.5894097\\\\\n",
       "\\end{tabular}\n"
      ],
      "text/markdown": [
       "\n",
       "A data.frame: 3 × 8\n",
       "\n",
       "| <!--/--> | resolution &lt;dbl&gt; | varperm &lt;dbl&gt; | varstock &lt;dbl&gt; | nbiterations &lt;dbl&gt; | consourb &lt;dbl&gt; | Y_mean &lt;dbl&gt; | Y_median &lt;dbl&gt; | rmse_moyen &lt;dbl&gt; |\n",
       "|---|---|---|---|---|---|---|---|---|\n",
       "| 1 | 1000 | -0.001 | -30 | 23 | 0.03 | 3.452793 | 0.7838115 | 0.5943249 |\n",
       "| 2 |  200 | -0.001 | -30 | 43 | 0.03 | 2.729792 | 1.5698361 | 0.7485651 |\n",
       "| 3 |  300 | -0.001 | -30 | 23 | 0.03 | 2.423022 | 0.7665675 | 0.5894097 |\n",
       "\n"
      ],
      "text/plain": [
       "  resolution varperm varstock nbiterations consourb Y_mean   Y_median \n",
       "1 1000       -0.001  -30      23           0.03     3.452793 0.7838115\n",
       "2  200       -0.001  -30      43           0.03     2.729792 1.5698361\n",
       "3  300       -0.001  -30      23           0.03     2.423022 0.7665675\n",
       "  rmse_moyen\n",
       "1 0.5943249 \n",
       "2 0.7485651 \n",
       "3 0.5894097 "
      ]
     },
     "metadata": {},
     "output_type": "display_data"
    }
   ],
   "source": [
    "Y<-rmse[3:10]\n",
    "head(Y,3)"
   ]
  },
  {
   "cell_type": "markdown",
   "id": "083e94da",
   "metadata": {},
   "source": [
    "##### premier plan OAT"
   ]
  },
  {
   "cell_type": "markdown",
   "id": "716882c2",
   "metadata": {},
   "source": [
    "- trier au hasard l'état initial des paramètre du plan OAT"
   ]
  },
  {
   "cell_type": "code",
   "execution_count": 41,
   "id": "a28f4534",
   "metadata": {},
   "outputs": [],
   "source": [
    "par1<-Y[sample(length(na.omit(Y[,1])),1),1]\n",
    "par2<-Y[sample(length(na.omit(Y[,2])),1),2]\n",
    "par3<-Y[sample(length(na.omit(Y[,3])),1),3]\n",
    "par4<-Y[sample(length(na.omit(Y[,4])),1),4]\n",
    "par5<-Y[sample(length(na.omit(Y[,5])),1),5]\n",
    "Mylist<-c(par1,par2,par3,par4,par5)"
   ]
  },
  {
   "cell_type": "markdown",
   "id": "9322ee23",
   "metadata": {},
   "source": [
    "- réponse moyenne du model au set initial de paramètres"
   ]
  },
  {
   "cell_type": "markdown",
   "id": "75565ab7",
   "metadata": {},
   "source": [
    "###### run 0"
   ]
  },
  {
   "cell_type": "code",
   "execution_count": 42,
   "id": "ccc43c79",
   "metadata": {},
   "outputs": [],
   "source": [
    "y0<-round(Y[which(Y[,1]==Mylist[1] & \n",
    "                 Y[,2]==Mylist[2] & \n",
    "                 Y[,3]==Mylist[3] &\n",
    "                 Y[,4]==Mylist[4] &\n",
    "                 Y[,5]==Mylist[5]),\n",
    "                 \"Y_mean\"],3)"
   ]
  },
  {
   "cell_type": "markdown",
   "id": "e80bf7d2",
   "metadata": {},
   "source": [
    "###### tirage aléatoire et modification de l'entrée tirée"
   ]
  },
  {
   "cell_type": "raw",
   "id": "690d3be1",
   "metadata": {},
   "source": [
    "ci<-sample(length(names(X)),1)\n",
    "chi<-Mylist[ci]\n",
    "\n",
    "X[which(X[ci]==Mylist[ci]),]\n",
    "\n",
    "Mylist"
   ]
  },
  {
   "cell_type": "code",
   "execution_count": 43,
   "id": "6a52a7ba",
   "metadata": {},
   "outputs": [],
   "source": [
    "ci<-sample(length(names(X)),1)\n",
    "chi<-Mylist[ci]\n",
    "if (chi==min(na.omit(X[ci]))){\n",
    "    e<-D[[ci]]\n",
    "    chi<-chi+e\n",
    "}\n",
    "if (chi==max(na.omit(X[ci]))){\n",
    "    e<-D[[ci]]\n",
    "    chi<-chi-e\n",
    "}\n",
    "if (chi!=min(na.omit(X[ci])) & chi!=max(na.omit(X[ci])) ){\n",
    "    plus_moins_di<-c(D[[ci]],-D[[ci]])\n",
    "    e<-plus_moins_di[sample(1:2,1)]\n",
    "    chi<-chi+e\n",
    "}\n",
    "Mylist[ci]<-chi"
   ]
  },
  {
   "cell_type": "markdown",
   "id": "58b04b75",
   "metadata": {},
   "source": [
    "###### run 1"
   ]
  },
  {
   "cell_type": "code",
   "execution_count": 44,
   "id": "f988fcdf",
   "metadata": {},
   "outputs": [],
   "source": [
    "y1<-round(Y[which(Y[,1]==Mylist[1] & \n",
    "                 Y[,2]==Mylist[2] & \n",
    "                 Y[,3]==Mylist[3] &\n",
    "                 Y[,4]==Mylist[4] &\n",
    "                 Y[,5]==Mylist[5]),\n",
    "                 \"Y_mean\"],3)"
   ]
  },
  {
   "cell_type": "markdown",
   "id": "d9c52f97",
   "metadata": {},
   "source": [
    "###### effet élémentaire E1"
   ]
  },
  {
   "cell_type": "code",
   "execution_count": 50,
   "id": "ca6aa974",
   "metadata": {},
   "outputs": [
    {
     "data": {
      "text/html": [
       "<style>\n",
       ".list-inline {list-style: none; margin:0; padding: 0}\n",
       ".list-inline>li {display: inline-block}\n",
       ".list-inline>li:not(:last-child)::after {content: \"\\00b7\"; padding: 0 .5ex}\n",
       "</style>\n",
       "<ol class=list-inline><li>300</li><li>-0.001</li><li>-60</li><li>3</li><li>0.03</li></ol>\n"
      ],
      "text/latex": [
       "\\begin{enumerate*}\n",
       "\\item 300\n",
       "\\item -0.001\n",
       "\\item -60\n",
       "\\item 3\n",
       "\\item 0.03\n",
       "\\end{enumerate*}\n"
      ],
      "text/markdown": [
       "1. 300\n",
       "2. -0.001\n",
       "3. -60\n",
       "4. 3\n",
       "5. 0.03\n",
       "\n",
       "\n"
      ],
      "text/plain": [
       "[1]  3e+02 -1e-03 -6e+01  3e+00  3e-02"
      ]
     },
     "metadata": {},
     "output_type": "display_data"
    }
   ],
   "source": [
    "Mylist"
   ]
  },
  {
   "cell_type": "code",
   "execution_count": null,
   "id": "b641c23e",
   "metadata": {},
   "outputs": [],
   "source": []
  },
  {
   "cell_type": "code",
   "execution_count": null,
   "id": "047918fe",
   "metadata": {},
   "outputs": [],
   "source": []
  },
  {
   "cell_type": "code",
   "execution_count": null,
   "id": "2bc30f6c",
   "metadata": {},
   "outputs": [],
   "source": []
  },
  {
   "cell_type": "code",
   "execution_count": null,
   "id": "1cf4337e",
   "metadata": {},
   "outputs": [],
   "source": []
  },
  {
   "cell_type": "code",
   "execution_count": null,
   "id": "2f8715f7",
   "metadata": {},
   "outputs": [],
   "source": []
  },
  {
   "cell_type": "code",
   "execution_count": null,
   "id": "959f4b5d",
   "metadata": {},
   "outputs": [],
   "source": []
  },
  {
   "cell_type": "code",
   "execution_count": null,
   "id": "53689a9b",
   "metadata": {},
   "outputs": [],
   "source": []
  },
  {
   "cell_type": "code",
   "execution_count": null,
   "id": "c2e531fd",
   "metadata": {},
   "outputs": [],
   "source": []
  },
  {
   "cell_type": "code",
   "execution_count": null,
   "id": "2bbd8c71",
   "metadata": {},
   "outputs": [],
   "source": []
  },
  {
   "cell_type": "code",
   "execution_count": null,
   "id": "f09bf190",
   "metadata": {},
   "outputs": [],
   "source": []
  },
  {
   "cell_type": "code",
   "execution_count": null,
   "id": "2faca7d1",
   "metadata": {},
   "outputs": [],
   "source": []
  },
  {
   "cell_type": "code",
   "execution_count": null,
   "id": "fce8c4cb",
   "metadata": {},
   "outputs": [],
   "source": []
  },
  {
   "cell_type": "code",
   "execution_count": null,
   "id": "9f96add5",
   "metadata": {},
   "outputs": [],
   "source": []
  },
  {
   "cell_type": "raw",
   "id": "7b3d1506",
   "metadata": {},
   "source": [
    "resolution<-unique(rmse$resolution)\n",
    "varperm<-unique(rmse$varperm)\n",
    "varperm<-stringr::str_replace_all(varperm, \"e-0\", \".0E-\")\n",
    "varperm[which(varperm==\"0\")]<-stringr::str_replace_all(varperm[which(varperm==\"0\")], \"0\", \"0.0\")\n",
    "varstock<-as.character(unique(rmse$varstock))\n",
    "#varstock<-paste(varstock, \".0\", sep=\"\")\n",
    "nbiterations<-unique(rmse$nbiterations)\n",
    "consourb<-unique(rmse$consourb)"
   ]
  },
  {
   "cell_type": "raw",
   "id": "0358d6c9",
   "metadata": {},
   "source": [
    "mylist<-list(resolution=resolution,\n",
    "             varperm=varperm,\n",
    "             varstock=varstock,\n",
    "             nbiterations=nbiterations,\n",
    "             consourb=consourb)\n",
    "             \n",
    "mylist"
   ]
  },
  {
   "cell_type": "raw",
   "id": "e22a1272",
   "metadata": {},
   "source": [
    "p<-\"C:/Users/kouno/Desktop/Programme_Crésus/Calibration Model Hydro/data/simulations\"\n",
    "l<-list.files(p)\n",
    "lapply(l,function(x) round(mean(as.numeric(rcsv_sep(file.path(p,x))$piezo),na.rm=TRUE),3))"
   ]
  },
  {
   "cell_type": "raw",
   "id": "3160878d",
   "metadata": {},
   "source": [
    "# z<-c(\"resolution\",\"varperm\",\"varstock\",\"nbiterations\",\"consourb\")\n",
    "for (zi in z){\n",
    "    em<-mylist[z[which(z!=zi)]]\n",
    "    print(zi)\n",
    "    idx <- data.frame(matrix(ncol=1))\n",
    "    names(idx)<-\"indice Bauer and Hamby\"\n",
    "    \n",
    "    idxtt <- data.frame(matrix(ncol=1))\n",
    "    names(idxtt)<-\"indice Bauer and Hamby\"\n",
    "    \n",
    "    L<-max(unlist(lapply(em,length)))\n",
    "\n",
    "    for (k in 1:L){\n",
    "        all_zi<-list.files(\"simulations\")\n",
    "        all_zi<-(Filter(function(x) grepl(\".csv\", x),all_zi))\n",
    "                        \n",
    "        list_par1<-mylist[[zi]]\n",
    "        list_par2<-em[[1]]\n",
    "        list_par3<-em[[2]]\n",
    "        list_par4<-em[[3]]\n",
    "        list_par5<-em[[4]]\n",
    "                        \n",
    "        if (is.na(list_par2[k])){\n",
    "            p2<-list_par2[sample(length(list_par2),1)]\n",
    "        }else{p2<-list_par2[k]}\n",
    "\n",
    "        if (is.na(list_par3[k])){\n",
    "            p3<-list_par3[sample(length(list_par3),1)]\n",
    "        }else{p3<-list_par3[k]}\n",
    "\n",
    "        if (is.na(list_par4[k])){\n",
    "            p4<-list_par4[sample(length(list_par4),1)]\n",
    "        }else{p4<-list_par4[k]}\n",
    "\n",
    "        if (is.na(list_par5[k])){\n",
    "            p5<-list_par5[sample(length(list_par5),1)]\n",
    "        }else{p5<-list_par5[k]}\n",
    "        \n",
    "        all_zi<-all_zi[which(unlist(lapply(lapply(all_zi,split_bar8),function(x) p2 %in% x)))]\n",
    "         if(length(all_zi)!=0){all_zi<-all_zi[which(unlist(lapply(lapply(all_zi,split_bar8),\n",
    "                                                                  function(x) p3 %in% x)))]}\n",
    "        if(length(all_zi)!=0){all_zi<-all_zi[which(unlist(lapply(lapply(all_zi,split_bar8),\n",
    "                                                                 function(x) p4 %in% x)))]}\n",
    "        if(length(all_zi)!=0){all_zi<-all_zi[which(unlist(lapply(lapply(all_zi,split_bar8),\n",
    "                                                                 function(x) p5 %in% x)))]}\n",
    "                                                                 \n",
    "        if(length(all_zi)!=0){max_zi<-list_par1[which.max(as.numeric(list_par1))]\n",
    "        max_zi<-all_zi[which(unlist(lapply(lapply(all_zi,split_bar8),\n",
    "                                           function(x) max_zi %in% x)))]}\n",
    "                                           \n",
    "        if(length(all_zi)!=0){min_zi<-list_par1[which.min(as.numeric(list_par1))]\n",
    "        min_zi<-all_zi[which(unlist(lapply(lapply(all_zi,split_bar8),\n",
    "                                           function(x) min_zi %in% x)))]}\n",
    "                        \n",
    "        if(length(all_zi)==0){\n",
    "\n",
    "            idx[paste(\"idx\",zi,\"_\",p2,\"_\",p3,\"_\",p4,\"_\",p5),]<-NA\n",
    "        }else{\n",
    "            if(length(min_zi)==0){\n",
    "                min_zi<-min(as.numeric(lapply(all_zi,function(x) par_from_fileName(x,zi))))\n",
    "                min_zi<-list_par1[which(as.numeric(list_par1)==min_zi)]\n",
    "                min_zi<-all_zi[which(unlist(lapply(lapply(all_zi,split_bar8),\n",
    "                                           function(x) min_zi %in% x)))]}\n",
    "                                                   \n",
    "            if(length(max_zi)==0){\n",
    "                max_zi<-max(as.numeric(lapply(all_zi,function(x) par_from_fileName(x,zi))))\n",
    "                max_zi<-list_par1[which(as.numeric(list_par1)==max_zi)]\n",
    "                max_zi<-all_zi[which(unlist(lapply(lapply(all_zi,split_bar8),\n",
    "                                           function(x) max_zi %in% x)))]}\n",
    "                                \n",
    "            max_zi<-as.numeric(max(rcsv_sep(file.path(\"simulations\",max_zi))$piezo))\n",
    "            min_zi<-as.numeric(min(rcsv_sep(file.path(\"simulations\",min_zi))$piezo))\n",
    "\n",
    "            I<-round((max_zi-min_zi)/max_zi,2)\n",
    "            idx[paste(\"idx\",zi,\"_\",p2,\"_\",p3,\"_\",p4,\"_\",p5),]<-I\n",
    "            }\n",
    "    }\n",
    "    idx[paste(\"indice moyen\",\"_\",zi),]<-mean(idx[,1],na.rm=TRUE)\n",
    "    idx<-tail(idx, -1)\n",
    "    \n",
    "    idxtt[paste(\"indice moyen\",\"_\",zi),]<-idx[paste(\"indice moyen\",\"_\",zi),]\n",
    "    \n",
    "    if (idxtt[paste(\"indice moyen\",\"_\",zi),1]>0.6){\n",
    "        idxtt[paste(\"indice moyen\",\"_\",zi),\"commentaire\"]<-paste(\"Important d'estimer précisément:\",zi)\n",
    "    }else{paste(zi,\"est\",\"Moins important à connaître précisément\")}\n",
    "    \n",
    "   # indices<-rbind(idxtt[-1,])\n",
    "    \n",
    "    outpath<-file.path(\"output_rmse\",\"sensibilité\")\n",
    "    create_folder(outpath)\n",
    "    write.csv2(na.omit(idx),file.path(outpath,paste(\"sensibilité\",\"_\",zi,\".csv\",sep=\"\")))\n",
    "    write.csv2(idxtt[-1,],file.path(outpath,paste(\"analyse de sensibilité de Bauer and Hamby\",\".csv\",sep=\"\")))\n",
    "}"
   ]
  },
  {
   "cell_type": "code",
   "execution_count": null,
   "id": "d9cda81c",
   "metadata": {},
   "outputs": [],
   "source": []
  },
  {
   "cell_type": "code",
   "execution_count": null,
   "id": "86777971",
   "metadata": {},
   "outputs": [],
   "source": []
  },
  {
   "cell_type": "code",
   "execution_count": null,
   "id": "2083c8e7",
   "metadata": {},
   "outputs": [],
   "source": []
  },
  {
   "cell_type": "code",
   "execution_count": null,
   "id": "e7e8c7b7",
   "metadata": {},
   "outputs": [],
   "source": []
  },
  {
   "cell_type": "code",
   "execution_count": null,
   "id": "dbc5ff15",
   "metadata": {},
   "outputs": [],
   "source": []
  },
  {
   "cell_type": "raw",
   "id": "74b8bfff",
   "metadata": {},
   "source": [
    "rmse<-rcsv_sep('tableau_rsme.csv')\n",
    "rmse[4:length(names(rmse))]<- sapply(rmse[4:length(names(rmse))],as.numeric)\n",
    "#rmse$resolution<-paste(rmse$resolution, \".0\", sep=\"\")\n",
    "rmse$resolution<-paste(rmse$resolution, sep=\"\")\n",
    "names(rmse)[5:8]<-c(\"varperm\",\"varstock\",\"nbiterations\",\"consourb\")\n",
    "head(rmse)"
   ]
  },
  {
   "cell_type": "raw",
   "id": "5a6fbb00",
   "metadata": {},
   "source": [
    "df<-rcsv_sep('tableau_rsme.csv')"
   ]
  },
  {
   "cell_type": "raw",
   "id": "800100f9",
   "metadata": {},
   "source": [
    "    meilleur_simulation<-df[which(df$sum==min(df$sum,na.rm=TRUE)),]\n",
    "    meilleur_rmse_moyen<-df[which(df$rmse_moyen==min(df$rmse_moyen,na.rm=TRUE)),]\n",
    "    meilleur_avg_rmse_moyen<-df[which(df$avg_rmse_moyen==min(df$avg_rmse_moyen,na.rm=TRUE)),]\n",
    "   # meilleur_rmse_pond<-df[which(df$rmse_pond==min(df$rmse_pond,na.rm=TRUE)),]\n",
    "    meilleur_pond_avg_rmse<-df[which(df$pond_avg_rmse==min(df$pond_avg_rmse,na.rm=TRUE)),]\n",
    "    meilleur_emad<-df[which(df$emad==min(df$emad,na.rm=TRUE)),]\n",
    "   # meilleur_rmse_global<-df[which(df$rmse_global==min(df$rmse_global,na.rm=TRUE)),]\n",
    "    meilleur_rmsle<-df[which(df$rmsle==min(df$rmsle,na.rm=TRUE)),]"
   ]
  },
  {
   "cell_type": "raw",
   "id": "4657fcd6",
   "metadata": {},
   "source": [
    "    best_list<-c()\n",
    "    print(c(\"la simulation qui optimise tous les critères est:\",paste(meilleur_simulation[1:8],collapse=\"_\")))\n",
    "    print(c(\"la simulation qui optimise le RMSE moyen est:\",paste(meilleur_rmse_moyen[1:8],collapse=\"_\")))\n",
    "    print(c(\"la simulation qui optimise la moyenne pondérée des RMSE moyen est:\",paste(meilleur_pond_avg_rmse[1:8],\n",
    "                                                                                     collapse=\"_\")))\n",
    "    print(c(\"la simulation qui optimise la moyenne des RMSE est:\",paste(meilleur_avg_rmse_moyen[1:8],collapse=\"_\")))\n",
    "    \n",
    "    print(c(\"la simulation qui optimise le EMAD est:\",paste(meilleur_emad[1:8],collapse=\"_\")))           \n",
    "    print(c(\"la simulation qui optimise la moyenne des RMSLE est:\",paste(meilleur_rmsle[1:8],collapse=\"_\")))"
   ]
  },
  {
   "cell_type": "raw",
   "id": "601749b1",
   "metadata": {},
   "source": [
    "    best_list<-c(paste(meilleur_simulation[3:8],collapse=\"_\"),paste(meilleur_rmse_moyen[3:8],collapse=\"_\"),\n",
    "                paste(meilleur_pond_avg_rmse[3:8],collapse=\"_\"),\n",
    "                 paste(meilleur_emad[3:8],collapse=\"_\"),paste(meilleur_rmsle[3:8],collapse=\"_\"))"
   ]
  },
  {
   "cell_type": "markdown",
   "id": "4e3a8c35",
   "metadata": {},
   "source": [
    "- Calcul d’indices de sensibilité"
   ]
  },
  {
   "cell_type": "raw",
   "id": "2edba1af-82df-478e-8672-d4f39d0523c9",
   "metadata": {},
   "source": [
    "print('Analyse de la sensibilité: Indice de sensibilité total - Décomposition de la variance')\n",
    "print('Pas nécessaire d’estimer précisément zi')\n",
    "print('Probablement important d’estimer précisément zi')"
   ]
  },
  {
   "cell_type": "raw",
   "id": "56e62791",
   "metadata": {
    "scrolled": true
   },
   "source": [
    "dt<-rmse\n",
    "rmse[4:(length(names(rmse))-5)]<-data.frame(lapply(rmse[4:(length(names(rmse))-5)],as.numeric))\n",
    "norm_par<-data.frame(sapply(rmse[4:(length(names(rmse)))], normaliz_zero))\n",
    "rmse[4:(length(names(rmse)))]<-data.frame(lapply(norm_par,as.numeric))\n",
    "head(rmse)"
   ]
  },
  {
   "cell_type": "raw",
   "id": "7daf1c8b",
   "metadata": {},
   "source": [
    "(sapply(rmse[4:(length(names(rmse)))], normaliz_zero))"
   ]
  },
  {
   "cell_type": "raw",
   "id": "e9a30bac",
   "metadata": {},
   "source": [
    "rmse[4:(length(names(rmse)))]"
   ]
  },
  {
   "cell_type": "raw",
   "id": "b52fa0f3",
   "metadata": {},
   "source": [
    "cov(rmse[\"resolution\"],rmse[4:(length(names(rmse))-4)])"
   ]
  },
  {
   "cell_type": "raw",
   "id": "184ff642-1c99-4b5d-90bd-d5db80796646",
   "metadata": {},
   "source": [
    "rmse<-rmse[which(rmse[\"simul\"]==\"simulation 1\"),]"
   ]
  },
  {
   "cell_type": "raw",
   "id": "d17ab6fa",
   "metadata": {},
   "source": [
    "names(rmse[4:(length(names(rmse))-7)])"
   ]
  },
  {
   "cell_type": "raw",
   "id": "e4db950b",
   "metadata": {},
   "source": [
    "prm<-names(rmse[4:(length(names(rmse))-7)])\n",
    "\n",
    "list_sensitiv<-c()\n",
    "for (p in prm){\n",
    "    \n",
    "    cov_rmse<-var(rmse[p],rmse[4:(length(names(rmse))-7)])\n",
    "    indice<-rowSums(cov_rmse,na.rm=TRUE)/var(rmse[\"Y_median\"])\n",
    "    #indice<-rowSums(cov_rmse,na.rm=TRUE)/sum(sapply(rmse[4:(length(names(rmse))-5)],var))\n",
    "    \n",
    "    list_sensitiv<-c(list_sensitiv,indice)\n",
    "    \n",
    "    if (indice>=0.5){print(c(\"le paramètre\",p,\"est important à connaître précisément\"))\n",
    "                    }else{print(c(\"le\",p,\"est moins important à connaître précisément\"))}\n",
    "}"
   ]
  },
  {
   "cell_type": "code",
   "execution_count": 44,
   "id": "40863bd5",
   "metadata": {},
   "outputs": [
    {
     "data": {
      "text/html": [
       "<style>\n",
       ".list-inline {list-style: none; margin:0; padding: 0}\n",
       ".list-inline>li {display: inline-block}\n",
       ".list-inline>li:not(:last-child)::after {content: \"\\00b7\"; padding: 0 .5ex}\n",
       "</style>\n",
       "<ol class=list-inline><li>5.00011655749625</li><li>6.88031570715144</li><li>6.06395927280708</li><li>8.36027868749281</li><li>12.411683221781</li><li>4.19025678476581</li></ol>\n"
      ],
      "text/latex": [
       "\\begin{enumerate*}\n",
       "\\item 5.00011655749625\n",
       "\\item 6.88031570715144\n",
       "\\item 6.06395927280708\n",
       "\\item 8.36027868749281\n",
       "\\item 12.411683221781\n",
       "\\item 4.19025678476581\n",
       "\\end{enumerate*}\n"
      ],
      "text/markdown": [
       "1. 5.00011655749625\n",
       "2. 6.88031570715144\n",
       "3. 6.06395927280708\n",
       "4. 8.36027868749281\n",
       "5. 12.411683221781\n",
       "6. 4.19025678476581\n",
       "\n",
       "\n"
      ],
      "text/plain": [
       "[1]  5.000117  6.880316  6.063959  8.360279 12.411683  4.190257"
      ]
     },
     "metadata": {},
     "output_type": "display_data"
    }
   ],
   "source": [
    "list_sensitiv"
   ]
  },
  {
   "cell_type": "markdown",
   "id": "4c83c157",
   "metadata": {},
   "source": [
    "### L’indice de Bauer-Hamby index"
   ]
  },
  {
   "cell_type": "raw",
   "id": "96613c51",
   "metadata": {},
   "source": [
    "- choisir l'itération -> la ligne des parametres a fixer\n",
    "- choisir le parametre zi -> max(list_zi) & min(list_zi)\n",
    "- fixer les autres paramètre grace à leur list et à l'itération\n",
    "- importer les simulations max et min \n",
    "- calculer l'indix\n",
    "- "
   ]
  },
  {
   "cell_type": "raw",
   "id": "d59b9891",
   "metadata": {},
   "source": [
    "BH_index"
   ]
  },
  {
   "cell_type": "raw",
   "id": "952b0fac",
   "metadata": {},
   "source": [
    "max_zi_pat<-paste(max_zi,\"_\",rmse[1,5],\"_\",rmse[1,6],\".0_\",rmse[1,7],\"_\",rmse[1,8],sep=\"\")\n",
    "min_zi_pat<-paste(min_zi,\"_\",rmse[1,5],\"_\",rmse[1,6],\".0_\",rmse[1,7],\"_\",rmse[1,8],sep=\"\")"
   ]
  },
  {
   "cell_type": "raw",
   "id": "e4448128",
   "metadata": {},
   "source": [
    "iteration<-1:5\n",
    "for (i in iteration){}"
   ]
  },
  {
   "cell_type": "raw",
   "id": "60ba3c3a",
   "metadata": {},
   "source": [
    "list_zi<-unique(unlist(rmse[zi]))\n",
    "names(rmse)"
   ]
  },
  {
   "cell_type": "raw",
   "id": "b30b1dcd",
   "metadata": {},
   "source": [
    "rmse<-dt"
   ]
  },
  {
   "cell_type": "raw",
   "id": "e6e941da",
   "metadata": {},
   "source": [
    "resolution<-unique(rmse$resolution)\n",
    "varperm<-unique(rmse$varperm)\n",
    "varperm<-stringr::str_replace_all(varperm, \"e-0\", \".0E-\")\n",
    "varperm[which(varperm==\"0\")]<-stringr::str_replace_all(varperm[which(varperm==\"0\")], \"0\", \"0.0\")\n",
    "varstock<-as.character(unique(rmse$varstock))\n",
    "#varstock<-paste(varstock, \".0\", sep=\"\")\n",
    "nbiterations<-unique(rmse$nbiterations)\n",
    "consourb<-unique(rmse$consourb)"
   ]
  },
  {
   "cell_type": "raw",
   "id": "2af7bbae",
   "metadata": {},
   "source": [
    "mylist<-list(resolution=resolution,\n",
    "             varperm=varperm,\n",
    "             varstock=varstock,\n",
    "             nbiterations=nbiterations,\n",
    "             consourb=consourb)"
   ]
  },
  {
   "cell_type": "raw",
   "id": "26245a23",
   "metadata": {},
   "source": [
    "z<-c(\"resolution\",\"varperm\",\"varstock\",\"nbiterations\",\"consourb\")\n",
    "for (zi in z){\n",
    "    em<-mylist[z[which(z!=zi)]]\n",
    "    print(zi)\n",
    "    idx <- data.frame(matrix(ncol=1))\n",
    "    names(idx)<-\"indice Bauer and Hamby\"\n",
    "    \n",
    "    idxtt <- data.frame(matrix(ncol=1))\n",
    "    names(idxtt)<-\"indice Bauer and Hamby\"\n",
    "    \n",
    "\n",
    "        all_zi<-list.files(\"simulations\")\n",
    "        all_zi<-(Filter(function(x) grepl(\".csv\", x),all_zi))\n",
    "                        \n",
    "        list_par1<-mylist[[zi]]\n",
    "        list_par2<-em[[1]]\n",
    "        list_par3<-em[[2]]\n",
    "        list_par4<-em[[3]]\n",
    "        list_par5<-em[[4]]\n",
    "\n",
    "        p2<-list_par2[2]\n",
    "        p3<-list_par3[2]\n",
    "        p4<-list_par4[2]\n",
    "        p5<-list_par5[2]\n",
    "}"
   ]
  },
  {
   "cell_type": "markdown",
   "id": "4d9c485d",
   "metadata": {},
   "source": [
    "#### Indice de sensibilité basés sur une décomposition de la variance"
   ]
  },
  {
   "cell_type": "raw",
   "id": "66b71479",
   "metadata": {},
   "source": [
    "plot(density((rmse$consourb)))\n",
    "plot(density((rmse$varstock)))\n",
    "plot(density((rmse$resolution)))\n",
    "plot(density((rmse$varperm)))"
   ]
  },
  {
   "cell_type": "raw",
   "id": "6dcdffad",
   "metadata": {},
   "source": [
    "standard_par<-data.frame(sapply(rmse[4:(length(names(rmse)))], standard))\n",
    "rmse[4:(length(names(rmse)))]<-data.frame(lapply(standard_par,as.numeric))"
   ]
  },
  {
   "cell_type": "raw",
   "id": "23665d93",
   "metadata": {},
   "source": [
    "names(rmse)"
   ]
  },
  {
   "cell_type": "raw",
   "id": "fcb54294",
   "metadata": {},
   "source": [
    "analyse_reg<-(lm(rmse$Y_median~rmse$resolution+rmse$varperm+rmse$varstock+rmse$nbiterations+rmse$consourb))\n",
    "summary(analyse_reg)"
   ]
  },
  {
   "cell_type": "raw",
   "id": "e322470d",
   "metadata": {},
   "source": [
    "X<-cbind(names(rmse[4:8]))\n",
    "X<-cbind(X,as.numeric(analyse_reg$coefficients[-1]))\n",
    "X<-data.frame(X)\n",
    "\n",
    "names(X)<-c(\"parametres\",\"sensibilité\")\n",
    "X$sensibilité<-as.numeric(X$sensibilité)"
   ]
  },
  {
   "cell_type": "raw",
   "id": "91b2385e",
   "metadata": {},
   "source": [
    "plot(analyse_reg,1)"
   ]
  },
  {
   "cell_type": "raw",
   "id": "c385db16",
   "metadata": {},
   "source": [
    "library(ggplot2)\n",
    "# Barplot basique\n",
    "p<-ggplot(data=X, aes(x=parametres, y=sensibilité, fill=parametres)) +\n",
    "  geom_bar(stat=\"identity\")+theme_minimal()\n",
    "# Barplot horizontal\n",
    "p + coord_flip()"
   ]
  },
  {
   "cell_type": "code",
   "execution_count": null,
   "id": "41134f01",
   "metadata": {},
   "outputs": [],
   "source": []
  }
 ],
 "metadata": {
  "kernelspec": {
   "display_name": "R",
   "language": "R",
   "name": "ir"
  },
  "language_info": {
   "codemirror_mode": "r",
   "file_extension": ".r",
   "mimetype": "text/x-r-source",
   "name": "R",
   "pygments_lexer": "r",
   "version": "4.1.0"
  }
 },
 "nbformat": 4,
 "nbformat_minor": 5
}
