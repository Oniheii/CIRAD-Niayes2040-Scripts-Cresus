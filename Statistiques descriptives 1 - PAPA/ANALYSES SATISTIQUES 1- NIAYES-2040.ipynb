{
 "cells": [
  {
   "cell_type": "markdown",
   "id": "fd1738c9",
   "metadata": {},
   "source": [
    "### ANALYSES SATISTIQUES PAPA-NIAYES-2040"
   ]
  },
  {
   "cell_type": "markdown",
   "id": "43f2cc01",
   "metadata": {},
   "source": [
    "#### A- ETAPE DATA"
   ]
  },
  {
   "cell_type": "markdown",
   "id": "1a4ad110",
   "metadata": {},
   "source": [
    "les bases de données"
   ]
  },
  {
   "cell_type": "code",
   "execution_count": 8,
   "id": "726739da",
   "metadata": {},
   "outputs": [
    {
     "data": {
      "text/html": [
       "<table class=\"dataframe\">\n",
       "<caption>A tibble: 6 × 175</caption>\n",
       "<thead>\n",
       "\t<tr><th scope=col>ID</th><th scope=col>date_enq</th><th scope=col>enqueteur</th><th scope=col>zone</th><th scope=col>village</th><th scope=col>prenom_ce</th><th scope=col>nom_ce</th><th scope=col>sexe_ce</th><th scope=col>naissance_</th><th scope=col>niveau_sco</th><th scope=col>⋯</th><th scope=col>dispo_eau_</th><th scope=col>dispo_ea_1</th><th scope=col>distance_m</th><th scope=col>distance_1</th><th scope=col>dist_dakar</th><th scope=col>dist_route</th><th scope=col>pourc_urb</th><th scope=col>Latitude</th><th scope=col>Longitude</th><th scope=col>NOM</th></tr>\n",
       "\t<tr><th scope=col>&lt;dbl&gt;</th><th scope=col>&lt;chr&gt;</th><th scope=col>&lt;dbl&gt;</th><th scope=col>&lt;chr&gt;</th><th scope=col>&lt;dbl&gt;</th><th scope=col>&lt;chr&gt;</th><th scope=col>&lt;chr&gt;</th><th scope=col>&lt;dbl&gt;</th><th scope=col>&lt;chr&gt;</th><th scope=col>&lt;chr&gt;</th><th scope=col>⋯</th><th scope=col>&lt;dbl&gt;</th><th scope=col>&lt;dbl&gt;</th><th scope=col>&lt;dbl&gt;</th><th scope=col>&lt;dbl&gt;</th><th scope=col>&lt;dbl&gt;</th><th scope=col>&lt;dbl&gt;</th><th scope=col>&lt;dbl&gt;</th><th scope=col>&lt;dbl&gt;</th><th scope=col>&lt;dbl&gt;</th><th scope=col>&lt;chr&gt;</th></tr>\n",
       "</thead>\n",
       "<tbody>\n",
       "\t<tr><td>171</td><td>10 déc. 2019</td><td>4</td><td>DI </td><td>15</td><td>Cheikh mbacké</td><td>Diop  </td><td>1</td><td>1 janv. 1947</td><td>Cor</td><td>⋯</td><td> 1.0</td><td> 1</td><td>4688.661</td><td>18087.44</td><td>30117.57</td><td> 515.55967</td><td>0.04997254</td><td>14.81919</td><td>-17.09330</td><td>Keur Moussa</td></tr>\n",
       "\t<tr><td>149</td><td>2 déc. 2019 </td><td>1</td><td>KM </td><td> 1</td><td>Saliou       </td><td>Pouye </td><td>1</td><td>1 janv. 1960</td><td>Cor</td><td>⋯</td><td>17.5</td><td>35</td><td>3355.459</td><td>14503.03</td><td>34074.25</td><td>  51.67987</td><td>0.05788113</td><td>14.74406</td><td>-17.05051</td><td>Keur Moussa</td></tr>\n",
       "\t<tr><td> 58</td><td>2 déc. 2019 </td><td>2</td><td>DI </td><td>19</td><td>Marame       </td><td>Gueye </td><td>2</td><td>1 janv. 1963</td><td>Cor</td><td>⋯</td><td> 1.0</td><td> 2</td><td>2596.254</td><td>20895.05</td><td>33017.03</td><td>1688.32318</td><td>0.04427466</td><td>14.89482</td><td>-17.09253</td><td>Keur Moussa</td></tr>\n",
       "\t<tr><td>148</td><td>2 déc. 2019 </td><td>1</td><td>DI </td><td>15</td><td>Khady        </td><td>Gueuye</td><td>2</td><td>1 janv. 1963</td><td>0  </td><td>⋯</td><td> 5.0</td><td> 5</td><td>3009.623</td><td>17068.33</td><td>30464.10</td><td> 439.15703</td><td>0.07874979</td><td>14.79241</td><td>-17.08544</td><td>Keur Moussa</td></tr>\n",
       "\t<tr><td> 44</td><td>27 nov. 2019</td><td>2</td><td>NGD</td><td>23</td><td>Papa         </td><td>Khoulé</td><td>1</td><td>1 janv. 1953</td><td>Cor</td><td>⋯</td><td> 0.0</td><td> 0</td><td>4503.671</td><td>17891.74</td><td>41455.20</td><td>3195.47605</td><td>0.03910200</td><td>14.92872</td><td>-17.02228</td><td>Pambal     </td></tr>\n",
       "\t<tr><td>127</td><td>4 déc. 2019 </td><td>3</td><td>KM </td><td>10</td><td>Ismael       </td><td>Faye  </td><td>1</td><td>1 janv. 1967</td><td>Cor</td><td>⋯</td><td> 0.0</td><td> 0</td><td>6915.245</td><td>17862.47</td><td>32674.75</td><td>2588.82272</td><td>0.06028299</td><td>14.71047</td><td>-17.06748</td><td>Keur Moussa</td></tr>\n",
       "</tbody>\n",
       "</table>\n"
      ],
      "text/latex": [
       "A tibble: 6 × 175\n",
       "\\begin{tabular}{lllllllllllllllllllll}\n",
       " ID & date\\_enq & enqueteur & zone & village & prenom\\_ce & nom\\_ce & sexe\\_ce & naissance\\_ & niveau\\_sco & ⋯ & dispo\\_eau\\_ & dispo\\_ea\\_1 & distance\\_m & distance\\_1 & dist\\_dakar & dist\\_route & pourc\\_urb & Latitude & Longitude & NOM\\\\\n",
       " <dbl> & <chr> & <dbl> & <chr> & <dbl> & <chr> & <chr> & <dbl> & <chr> & <chr> & ⋯ & <dbl> & <dbl> & <dbl> & <dbl> & <dbl> & <dbl> & <dbl> & <dbl> & <dbl> & <chr>\\\\\n",
       "\\hline\n",
       "\t 171 & 10 déc. 2019 & 4 & DI  & 15 & Cheikh mbacké & Diop   & 1 & 1 janv. 1947 & Cor & ⋯ &  1.0 &  1 & 4688.661 & 18087.44 & 30117.57 &  515.55967 & 0.04997254 & 14.81919 & -17.09330 & Keur Moussa\\\\\n",
       "\t 149 & 2 déc. 2019  & 1 & KM  &  1 & Saliou        & Pouye  & 1 & 1 janv. 1960 & Cor & ⋯ & 17.5 & 35 & 3355.459 & 14503.03 & 34074.25 &   51.67987 & 0.05788113 & 14.74406 & -17.05051 & Keur Moussa\\\\\n",
       "\t  58 & 2 déc. 2019  & 2 & DI  & 19 & Marame        & Gueye  & 2 & 1 janv. 1963 & Cor & ⋯ &  1.0 &  2 & 2596.254 & 20895.05 & 33017.03 & 1688.32318 & 0.04427466 & 14.89482 & -17.09253 & Keur Moussa\\\\\n",
       "\t 148 & 2 déc. 2019  & 1 & DI  & 15 & Khady         & Gueuye & 2 & 1 janv. 1963 & 0   & ⋯ &  5.0 &  5 & 3009.623 & 17068.33 & 30464.10 &  439.15703 & 0.07874979 & 14.79241 & -17.08544 & Keur Moussa\\\\\n",
       "\t  44 & 27 nov. 2019 & 2 & NGD & 23 & Papa          & Khoulé & 1 & 1 janv. 1953 & Cor & ⋯ &  0.0 &  0 & 4503.671 & 17891.74 & 41455.20 & 3195.47605 & 0.03910200 & 14.92872 & -17.02228 & Pambal     \\\\\n",
       "\t 127 & 4 déc. 2019  & 3 & KM  & 10 & Ismael        & Faye   & 1 & 1 janv. 1967 & Cor & ⋯ &  0.0 &  0 & 6915.245 & 17862.47 & 32674.75 & 2588.82272 & 0.06028299 & 14.71047 & -17.06748 & Keur Moussa\\\\\n",
       "\\end{tabular}\n"
      ],
      "text/markdown": [
       "\n",
       "A tibble: 6 × 175\n",
       "\n",
       "| ID &lt;dbl&gt; | date_enq &lt;chr&gt; | enqueteur &lt;dbl&gt; | zone &lt;chr&gt; | village &lt;dbl&gt; | prenom_ce &lt;chr&gt; | nom_ce &lt;chr&gt; | sexe_ce &lt;dbl&gt; | naissance_ &lt;chr&gt; | niveau_sco &lt;chr&gt; | ⋯ ⋯ | dispo_eau_ &lt;dbl&gt; | dispo_ea_1 &lt;dbl&gt; | distance_m &lt;dbl&gt; | distance_1 &lt;dbl&gt; | dist_dakar &lt;dbl&gt; | dist_route &lt;dbl&gt; | pourc_urb &lt;dbl&gt; | Latitude &lt;dbl&gt; | Longitude &lt;dbl&gt; | NOM &lt;chr&gt; |\n",
       "|---|---|---|---|---|---|---|---|---|---|---|---|---|---|---|---|---|---|---|---|---|\n",
       "| 171 | 10 déc. 2019 | 4 | DI  | 15 | Cheikh mbacké | Diop   | 1 | 1 janv. 1947 | Cor | ⋯ |  1.0 |  1 | 4688.661 | 18087.44 | 30117.57 |  515.55967 | 0.04997254 | 14.81919 | -17.09330 | Keur Moussa |\n",
       "| 149 | 2 déc. 2019  | 1 | KM  |  1 | Saliou        | Pouye  | 1 | 1 janv. 1960 | Cor | ⋯ | 17.5 | 35 | 3355.459 | 14503.03 | 34074.25 |   51.67987 | 0.05788113 | 14.74406 | -17.05051 | Keur Moussa |\n",
       "|  58 | 2 déc. 2019  | 2 | DI  | 19 | Marame        | Gueye  | 2 | 1 janv. 1963 | Cor | ⋯ |  1.0 |  2 | 2596.254 | 20895.05 | 33017.03 | 1688.32318 | 0.04427466 | 14.89482 | -17.09253 | Keur Moussa |\n",
       "| 148 | 2 déc. 2019  | 1 | DI  | 15 | Khady         | Gueuye | 2 | 1 janv. 1963 | 0   | ⋯ |  5.0 |  5 | 3009.623 | 17068.33 | 30464.10 |  439.15703 | 0.07874979 | 14.79241 | -17.08544 | Keur Moussa |\n",
       "|  44 | 27 nov. 2019 | 2 | NGD | 23 | Papa          | Khoulé | 1 | 1 janv. 1953 | Cor | ⋯ |  0.0 |  0 | 4503.671 | 17891.74 | 41455.20 | 3195.47605 | 0.03910200 | 14.92872 | -17.02228 | Pambal      |\n",
       "| 127 | 4 déc. 2019  | 3 | KM  | 10 | Ismael        | Faye   | 1 | 1 janv. 1967 | Cor | ⋯ |  0.0 |  0 | 6915.245 | 17862.47 | 32674.75 | 2588.82272 | 0.06028299 | 14.71047 | -17.06748 | Keur Moussa |\n",
       "\n"
      ],
      "text/plain": [
       "  ID  date_enq     enqueteur zone village prenom_ce     nom_ce sexe_ce\n",
       "1 171 10 déc. 2019 4         DI   15      Cheikh mbacké Diop   1      \n",
       "2 149 2 déc. 2019  1         KM    1      Saliou        Pouye  1      \n",
       "3  58 2 déc. 2019  2         DI   19      Marame        Gueye  2      \n",
       "4 148 2 déc. 2019  1         DI   15      Khady         Gueuye 2      \n",
       "5  44 27 nov. 2019 2         NGD  23      Papa          Khoulé 1      \n",
       "6 127 4 déc. 2019  3         KM   10      Ismael        Faye   1      \n",
       "  naissance_   niveau_sco <U+22EF>        dispo_eau_ dispo_ea_1 distance_m distance_1\n",
       "1 1 janv. 1947 Cor        <U+22EF>  1.0        1         4688.661   18087.44  \n",
       "2 1 janv. 1960 Cor        <U+22EF> 17.5       35         3355.459   14503.03  \n",
       "3 1 janv. 1963 Cor        <U+22EF>  1.0        2         2596.254   20895.05  \n",
       "4 1 janv. 1963 0          <U+22EF>  5.0        5         3009.623   17068.33  \n",
       "5 1 janv. 1953 Cor        <U+22EF>  0.0        0         4503.671   17891.74  \n",
       "6 1 janv. 1967 Cor        <U+22EF>  0.0        0         6915.245   17862.47  \n",
       "  dist_dakar dist_route pourc_urb  Latitude Longitude NOM        \n",
       "1 30117.57    515.55967 0.04997254 14.81919 -17.09330 Keur Moussa\n",
       "2 34074.25     51.67987 0.05788113 14.74406 -17.05051 Keur Moussa\n",
       "3 33017.03   1688.32318 0.04427466 14.89482 -17.09253 Keur Moussa\n",
       "4 30464.10    439.15703 0.07874979 14.79241 -17.08544 Keur Moussa\n",
       "5 41455.20   3195.47605 0.03910200 14.92872 -17.02228 Pambal     \n",
       "6 32674.75   2588.82272 0.06028299 14.71047 -17.06748 Keur Moussa"
      ]
     },
     "metadata": {},
     "output_type": "display_data"
    }
   ],
   "source": [
    "library(readxl)\n",
    "esther <- read_excel(\"data/base_esther_arrondissements.xlsx\")\n",
    "head(esther)"
   ]
  },
  {
   "cell_type": "code",
   "execution_count": 9,
   "id": "61bb1705",
   "metadata": {},
   "outputs": [
    {
     "data": {
      "text/html": [
       "<table class=\"dataframe\">\n",
       "<caption>A tibble: 6 × 121</caption>\n",
       "<thead>\n",
       "\t<tr><th scope=col>ville</th><th scope=col>commune</th><th scope=col>site</th><th scope=col>id</th><th scope=col>latitude</th><th scope=col>longitude</th><th scope=col>suptotculm</th><th scope=col>ratiosuplo</th><th scope=col>ratio_irr_</th><th scope=col>nb_boeufs_</th><th scope=col>⋯</th><th scope=col>log_trav_h</th><th scope=col>surf_score</th><th scope=col>y_hat</th><th scope=col>y_mean</th><th scope=col>sse_i</th><th scope=col>sst_i</th><th scope=col>ss_bis</th><th scope=col>credit</th><th scope=col>capital</th><th scope=col>NOM</th></tr>\n",
       "\t<tr><th scope=col>&lt;chr&gt;</th><th scope=col>&lt;chr&gt;</th><th scope=col>&lt;chr&gt;</th><th scope=col>&lt;dbl&gt;</th><th scope=col>&lt;dbl&gt;</th><th scope=col>&lt;dbl&gt;</th><th scope=col>&lt;dbl&gt;</th><th scope=col>&lt;chr&gt;</th><th scope=col>&lt;chr&gt;</th><th scope=col>&lt;dbl&gt;</th><th scope=col>⋯</th><th scope=col>&lt;dbl&gt;</th><th scope=col>&lt;dbl&gt;</th><th scope=col>&lt;chr&gt;</th><th scope=col>&lt;dbl&gt;</th><th scope=col>&lt;chr&gt;</th><th scope=col>&lt;dbl&gt;</th><th scope=col>&lt;chr&gt;</th><th scope=col>&lt;dbl&gt;</th><th scope=col>&lt;chr&gt;</th><th scope=col>&lt;chr&gt;</th></tr>\n",
       "</thead>\n",
       "<tbody>\n",
       "\t<tr><td>DAKAR</td><td>Bambilor        </td><td>Ndirene          </td><td>1781</td><td>14.80999</td><td>-17.18827</td><td>0.10000</td><td>0</td><td>0</td><td>0</td><td>⋯</td><td> 2.9957323</td><td>1</td><td>0.004973173 </td><td>0.4602103</td><td>0.207240805</td><td>6.42887163</td><td>8.94464016 </td><td>0e+00</td><td>0     </td><td>Sangalkam</td></tr>\n",
       "\t<tr><td>THIES</td><td>Taiba Ndiaye    </td><td>Wangal           </td><td>1783</td><td>14.98524</td><td>-16.92657</td><td>1.25000</td><td>0</td><td>1</td><td>0</td><td>⋯</td><td> 0.4700036</td><td>1</td><td>-0.308731645</td><td>0.4602103</td><td>0.591271698</td><td>0.00009590</td><td>0.606428683</td><td>0e+00</td><td>0     </td><td>Méouane  </td></tr>\n",
       "\t<tr><td>LOUGA</td><td>Kab Gaye        </td><td>Darou Dia        </td><td>1784</td><td>15.27758</td><td>-16.62518</td><td>0.18000</td><td>0</td><td>1</td><td>0</td><td>⋯</td><td> 1.7147983</td><td>1</td><td>-1.327292085</td><td>0.4602103</td><td>3.195164919</td><td>1.57399142</td><td>9.254314423</td><td>4e+04</td><td>31000 </td><td>Ndande   </td></tr>\n",
       "\t<tr><td>THIES</td><td>Noto Gouye Diama</td><td>Bagne bou reuye  </td><td>1785</td><td>14.96821</td><td>-17.03665</td><td>3.50000</td><td>0</td><td>1</td><td>0</td><td>⋯</td><td>-0.1541507</td><td>2</td><td>-0.965735734</td><td>0.4602103</td><td>2.033322096</td><td>0.37743935</td><td>0.658670306</td><td>0e+00</td><td>891000</td><td>Pambal   </td></tr>\n",
       "\t<tr><td>LOUGA</td><td>Thieppe         </td><td>KHININE AMADOU BA</td><td>1788</td><td>15.46266</td><td>-16.64911</td><td>1.00000</td><td>0</td><td>1</td><td>0</td><td>⋯</td><td> 0.6931472</td><td>1</td><td>-1.729028821</td><td>0.4602103</td><td>4.792768002</td><td>0.05425961</td><td>5.866936684</td><td>0e+00</td><td>268000</td><td>Ndande   </td></tr>\n",
       "\t<tr><td>THIES</td><td>Darou khoudoss  </td><td>Dioli            </td><td>1789</td><td>15.24794</td><td>-16.80247</td><td>9.17515</td><td>0</td><td>1</td><td>0</td><td>⋯</td><td>-0.4247393</td><td>3</td><td>-2.71914959 </td><td>0.4602103</td><td>10.10832882</td><td>0.78313571</td><td>5.264318466</td><td>4e+05</td><td>0     </td><td>Méouane  </td></tr>\n",
       "</tbody>\n",
       "</table>\n"
      ],
      "text/latex": [
       "A tibble: 6 × 121\n",
       "\\begin{tabular}{lllllllllllllllllllll}\n",
       " ville & commune & site & id & latitude & longitude & suptotculm & ratiosuplo & ratio\\_irr\\_ & nb\\_boeufs\\_ & ⋯ & log\\_trav\\_h & surf\\_score & y\\_hat & y\\_mean & sse\\_i & sst\\_i & ss\\_bis & credit & capital & NOM\\\\\n",
       " <chr> & <chr> & <chr> & <dbl> & <dbl> & <dbl> & <dbl> & <chr> & <chr> & <dbl> & ⋯ & <dbl> & <dbl> & <chr> & <dbl> & <chr> & <dbl> & <chr> & <dbl> & <chr> & <chr>\\\\\n",
       "\\hline\n",
       "\t DAKAR & Bambilor         & Ndirene           & 1781 & 14.80999 & -17.18827 & 0.10000 & 0 & 0 & 0 & ⋯ &  2.9957323 & 1 & 0.004973173  & 0.4602103 & 0.207240805 & 6.42887163 & 8.94464016  & 0e+00 & 0      & Sangalkam\\\\\n",
       "\t THIES & Taiba Ndiaye     & Wangal            & 1783 & 14.98524 & -16.92657 & 1.25000 & 0 & 1 & 0 & ⋯ &  0.4700036 & 1 & -0.308731645 & 0.4602103 & 0.591271698 & 0.00009590 & 0.606428683 & 0e+00 & 0      & Méouane  \\\\\n",
       "\t LOUGA & Kab Gaye         & Darou Dia         & 1784 & 15.27758 & -16.62518 & 0.18000 & 0 & 1 & 0 & ⋯ &  1.7147983 & 1 & -1.327292085 & 0.4602103 & 3.195164919 & 1.57399142 & 9.254314423 & 4e+04 & 31000  & Ndande   \\\\\n",
       "\t THIES & Noto Gouye Diama & Bagne bou reuye   & 1785 & 14.96821 & -17.03665 & 3.50000 & 0 & 1 & 0 & ⋯ & -0.1541507 & 2 & -0.965735734 & 0.4602103 & 2.033322096 & 0.37743935 & 0.658670306 & 0e+00 & 891000 & Pambal   \\\\\n",
       "\t LOUGA & Thieppe          & KHININE AMADOU BA & 1788 & 15.46266 & -16.64911 & 1.00000 & 0 & 1 & 0 & ⋯ &  0.6931472 & 1 & -1.729028821 & 0.4602103 & 4.792768002 & 0.05425961 & 5.866936684 & 0e+00 & 268000 & Ndande   \\\\\n",
       "\t THIES & Darou khoudoss   & Dioli             & 1789 & 15.24794 & -16.80247 & 9.17515 & 0 & 1 & 0 & ⋯ & -0.4247393 & 3 & -2.71914959  & 0.4602103 & 10.10832882 & 0.78313571 & 5.264318466 & 4e+05 & 0      & Méouane  \\\\\n",
       "\\end{tabular}\n"
      ],
      "text/markdown": [
       "\n",
       "A tibble: 6 × 121\n",
       "\n",
       "| ville &lt;chr&gt; | commune &lt;chr&gt; | site &lt;chr&gt; | id &lt;dbl&gt; | latitude &lt;dbl&gt; | longitude &lt;dbl&gt; | suptotculm &lt;dbl&gt; | ratiosuplo &lt;chr&gt; | ratio_irr_ &lt;chr&gt; | nb_boeufs_ &lt;dbl&gt; | ⋯ ⋯ | log_trav_h &lt;dbl&gt; | surf_score &lt;dbl&gt; | y_hat &lt;chr&gt; | y_mean &lt;dbl&gt; | sse_i &lt;chr&gt; | sst_i &lt;dbl&gt; | ss_bis &lt;chr&gt; | credit &lt;dbl&gt; | capital &lt;chr&gt; | NOM &lt;chr&gt; |\n",
       "|---|---|---|---|---|---|---|---|---|---|---|---|---|---|---|---|---|---|---|---|---|\n",
       "| DAKAR | Bambilor         | Ndirene           | 1781 | 14.80999 | -17.18827 | 0.10000 | 0 | 0 | 0 | ⋯ |  2.9957323 | 1 | 0.004973173  | 0.4602103 | 0.207240805 | 6.42887163 | 8.94464016  | 0e+00 | 0      | Sangalkam |\n",
       "| THIES | Taiba Ndiaye     | Wangal            | 1783 | 14.98524 | -16.92657 | 1.25000 | 0 | 1 | 0 | ⋯ |  0.4700036 | 1 | -0.308731645 | 0.4602103 | 0.591271698 | 0.00009590 | 0.606428683 | 0e+00 | 0      | Méouane   |\n",
       "| LOUGA | Kab Gaye         | Darou Dia         | 1784 | 15.27758 | -16.62518 | 0.18000 | 0 | 1 | 0 | ⋯ |  1.7147983 | 1 | -1.327292085 | 0.4602103 | 3.195164919 | 1.57399142 | 9.254314423 | 4e+04 | 31000  | Ndande    |\n",
       "| THIES | Noto Gouye Diama | Bagne bou reuye   | 1785 | 14.96821 | -17.03665 | 3.50000 | 0 | 1 | 0 | ⋯ | -0.1541507 | 2 | -0.965735734 | 0.4602103 | 2.033322096 | 0.37743935 | 0.658670306 | 0e+00 | 891000 | Pambal    |\n",
       "| LOUGA | Thieppe          | KHININE AMADOU BA | 1788 | 15.46266 | -16.64911 | 1.00000 | 0 | 1 | 0 | ⋯ |  0.6931472 | 1 | -1.729028821 | 0.4602103 | 4.792768002 | 0.05425961 | 5.866936684 | 0e+00 | 268000 | Ndande    |\n",
       "| THIES | Darou khoudoss   | Dioli             | 1789 | 15.24794 | -16.80247 | 9.17515 | 0 | 1 | 0 | ⋯ | -0.4247393 | 3 | -2.71914959  | 0.4602103 | 10.10832882 | 0.78313571 | 5.264318466 | 4e+05 | 0      | Méouane   |\n",
       "\n"
      ],
      "text/plain": [
       "  ville commune          site              id   latitude longitude suptotculm\n",
       "1 DAKAR Bambilor         Ndirene           1781 14.80999 -17.18827 0.10000   \n",
       "2 THIES Taiba Ndiaye     Wangal            1783 14.98524 -16.92657 1.25000   \n",
       "3 LOUGA Kab Gaye         Darou Dia         1784 15.27758 -16.62518 0.18000   \n",
       "4 THIES Noto Gouye Diama Bagne bou reuye   1785 14.96821 -17.03665 3.50000   \n",
       "5 LOUGA Thieppe          KHININE AMADOU BA 1788 15.46266 -16.64911 1.00000   \n",
       "6 THIES Darou khoudoss   Dioli             1789 15.24794 -16.80247 9.17515   \n",
       "  ratiosuplo ratio_irr_ nb_boeufs_ <U+22EF>        log_trav_h surf_score y_hat       \n",
       "1 0          0          0          <U+22EF>  2.9957323 1          0.004973173 \n",
       "2 0          1          0          <U+22EF>  0.4700036 1          -0.308731645\n",
       "3 0          1          0          <U+22EF>  1.7147983 1          -1.327292085\n",
       "4 0          1          0          <U+22EF> -0.1541507 2          -0.965735734\n",
       "5 0          1          0          <U+22EF>  0.6931472 1          -1.729028821\n",
       "6 0          1          0          <U+22EF> -0.4247393 3          -2.71914959 \n",
       "  y_mean    sse_i       sst_i      ss_bis      credit capital NOM      \n",
       "1 0.4602103 0.207240805 6.42887163 8.94464016  0e+00  0       Sangalkam\n",
       "2 0.4602103 0.591271698 0.00009590 0.606428683 0e+00  0       Méouane  \n",
       "3 0.4602103 3.195164919 1.57399142 9.254314423 4e+04  31000   Ndande   \n",
       "4 0.4602103 2.033322096 0.37743935 0.658670306 0e+00  891000  Pambal   \n",
       "5 0.4602103 4.792768002 0.05425961 5.866936684 0e+00  268000  Ndande   \n",
       "6 0.4602103 10.10832882 0.78313571 5.264318466 4e+05  0       Méouane  "
      ]
     },
     "metadata": {},
     "output_type": "display_data"
    }
   ],
   "source": [
    "papa <- read_excel(\"data/base_papa_arrondissements.xlsx\")\n",
    "head(papa)"
   ]
  },
  {
   "cell_type": "code",
   "execution_count": 10,
   "id": "048e0690",
   "metadata": {},
   "outputs": [],
   "source": [
    "library(Hmisc)"
   ]
  },
  {
   "cell_type": "raw",
   "id": "c47f7724",
   "metadata": {},
   "source": [
    "describe(data)\n",
    "lubridate::parse_date_time(esther$date_enq, orders = c(\"ymd\",\"dmy\",\"mdy\"),tz=\"GMT\")"
   ]
  },
  {
   "cell_type": "markdown",
   "id": "a68a1768",
   "metadata": {},
   "source": [
    "#### I - DEMOGRAPHIE ET SURFACE"
   ]
  },
  {
   "cell_type": "markdown",
   "id": "92b360c8",
   "metadata": {},
   "source": [
    "Esther"
   ]
  },
  {
   "cell_type": "code",
   "execution_count": 11,
   "id": "2b8dd168",
   "metadata": {},
   "outputs": [
    {
     "data": {
      "text/plain": [
       "   taille_men      surface_ch       surface_ir        surface_to    \n",
       " Min.   : 3.00   Min.   : 0.000   Min.   : 0.0000   Min.   : 0.100  \n",
       " 1st Qu.: 9.00   1st Qu.: 1.000   1st Qu.: 0.4625   1st Qu.: 1.375  \n",
       " Median :12.00   Median : 2.000   Median : 1.0000   Median : 2.000  \n",
       " Mean   :12.55   Mean   : 2.929   Mean   : 1.7287   Mean   : 3.086  \n",
       " 3rd Qu.:16.00   3rd Qu.: 3.562   3rd Qu.: 2.0000   3rd Qu.: 4.000  \n",
       " Max.   :35.00   Max.   :15.500   Max.   :15.5000   Max.   :15.500  \n",
       "   surf_culti     \n",
       " Min.   : 0.0225  \n",
       " 1st Qu.: 0.8488  \n",
       " Median : 1.5000  \n",
       " Mean   : 2.2035  \n",
       " 3rd Qu.: 3.0000  \n",
       " Max.   :13.9500  "
      ]
     },
     "metadata": {},
     "output_type": "display_data"
    }
   ],
   "source": [
    "surf<-subset(esther,select=c(\"taille_men\",\"surface_ch\",\"surface_ir\",\"surface_to\",\"surf_culti\"))\n",
    "\n",
    "surfp<-subset(papa,select=c(\"taille_men\",\"suptotculm\"))\n",
    "surfp$inter<-(cut2(surfp$suptotculm, m=100.25))\n",
    "surfp$inter<-as.character(surfp$inter)\n",
    "\n",
    "summary(surf)"
   ]
  },
  {
   "cell_type": "markdown",
   "id": "455c1dbd",
   "metadata": {},
   "source": [
    "papa"
   ]
  },
  {
   "cell_type": "code",
   "execution_count": 12,
   "id": "b41b67a9",
   "metadata": {},
   "outputs": [
    {
     "data": {
      "text/plain": [
       "   taille_men      suptotculm          NOM               inter          \n",
       " Min.   : 2.00   Min.   : 0.0200   Length:401         Length:401        \n",
       " 1st Qu.: 8.00   1st Qu.: 0.7023   Class :character   Class :character  \n",
       " Median :10.00   Median : 1.6500   Mode  :character   Mode  :character  \n",
       " Mean   :11.23   Mean   : 2.5067                                        \n",
       " 3rd Qu.:13.00   3rd Qu.: 3.0000                                        \n",
       " Max.   :35.00   Max.   :25.8000                                        "
      ]
     },
     "metadata": {},
     "output_type": "display_data"
    },
    {
     "data": {
      "text/plain": [
       "surfp$inter \n",
       "       n  missing distinct \n",
       "     401        0        4 \n",
       "                                                              \n",
       "Value      [0.02, 0.75) [0.75, 1.70) [1.70, 3.25) [3.25,25.80]\n",
       "Frequency           101          100          104           96\n",
       "Proportion        0.252        0.249        0.259        0.239"
      ]
     },
     "metadata": {},
     "output_type": "display_data"
    },
    {
     "data": {
      "text/plain": [
       "surfp$NOM \n",
       "       n  missing distinct \n",
       "     401        0        6 \n",
       "\n",
       "lowest : Keur Moussa  Méouane      Ndande       Pambal       Rufisque-Est\n",
       "highest: Méouane      Ndande       Pambal       Rufisque-Est Sangalkam   \n",
       "                                                                           \n",
       "Value       Keur Moussa      Méouane       Ndande       Pambal Rufisque-Est\n",
       "Frequency            51           89          140           73            6\n",
       "Proportion        0.127        0.222        0.349        0.182        0.015\n",
       "                       \n",
       "Value         Sangalkam\n",
       "Frequency            42\n",
       "Proportion        0.105"
      ]
     },
     "metadata": {},
     "output_type": "display_data"
    }
   ],
   "source": [
    "surfp<-subset(papa,select=c(\"taille_men\",\"suptotculm\",\"NOM\"))\n",
    "surfp$inter<-(cut2(surfp$suptotculm, m=100.25))\n",
    "surfp$inter<-as.character(surfp$inter)\n",
    "\n",
    "summary(surfp)\n",
    "Hmisc::describe(surfp$inter)\n",
    "Hmisc::describe(surfp$NOM)"
   ]
  },
  {
   "cell_type": "markdown",
   "id": "823e655e",
   "metadata": {},
   "source": [
    "- a-) Correlation entre  taille de ménage et surface (totale, irriguée, cultivée...)\n",
    "\n",
    "         C'est la première ligne qui nous interesse"
   ]
  },
  {
   "cell_type": "code",
   "execution_count": 13,
   "id": "d08d8413",
   "metadata": {},
   "outputs": [
    {
     "name": "stderr",
     "output_type": "stream",
     "text": [
      "corrplot 0.90 loaded\n",
      "\n"
     ]
    },
    {
     "data": {
      "text/html": [
       "<strong>$corr</strong> = <table class=\"dataframe\">\n",
       "<caption>A matrix: 2 × 2 of type dbl</caption>\n",
       "<thead>\n",
       "\t<tr><th></th><th scope=col>taille_men</th><th scope=col>suptotculm</th></tr>\n",
       "</thead>\n",
       "<tbody>\n",
       "\t<tr><th scope=row>taille_men</th><td>1.0000000</td><td>0.3236848</td></tr>\n",
       "\t<tr><th scope=row>suptotculm</th><td>0.3236848</td><td>1.0000000</td></tr>\n",
       "</tbody>\n",
       "</table>\n"
      ],
      "text/latex": [
       "\\textbf{\\$corr} = A matrix: 2 × 2 of type dbl\n",
       "\\begin{tabular}{r|ll}\n",
       "  & taille\\_men & suptotculm\\\\\n",
       "\\hline\n",
       "\ttaille\\_men & 1.0000000 & 0.3236848\\\\\n",
       "\tsuptotculm & 0.3236848 & 1.0000000\\\\\n",
       "\\end{tabular}\n"
      ],
      "text/markdown": [
       "**$corr** = \n",
       "A matrix: 2 × 2 of type dbl\n",
       "\n",
       "| <!--/--> | taille_men | suptotculm |\n",
       "|---|---|---|\n",
       "| taille_men | 1.0000000 | 0.3236848 |\n",
       "| suptotculm | 0.3236848 | 1.0000000 |\n",
       "\n"
      ],
      "text/plain": [
       "$corr\n",
       "           taille_men suptotculm\n",
       "taille_men  1.0000000  0.3236848\n",
       "suptotculm  0.3236848  1.0000000\n"
      ]
     },
     "metadata": {},
     "output_type": "display_data"
    },
    {
     "data": {
      "image/png": "[encoded data removed]",
      "text/plain": [
       "Plot with title \"\""
      ]
     },
     "metadata": {
      "image/png": {
       "height": 420,
       "width": 420
      }
     },
     "output_type": "display_data"
    }
   ],
   "source": [
    "library(corrplot)\n",
    "#mcor <- cor(surf)\n",
    "mcor2 <- cor(surfp[,1:2])\n",
    "\n",
    "#corrplot(mcor, type=\"upper\", order=\"hclust\", tl.col=\"black\", tl.srt=45)[1]\n",
    "corrplot(mcor2, type=\"upper\", order=\"hclust\", tl.col=\"black\", tl.srt=45)[1]"
   ]
  },
  {
   "cell_type": "markdown",
   "id": "643cf5f4",
   "metadata": {},
   "source": [
    "- b-) Nuage de point"
   ]
  },
  {
   "cell_type": "code",
   "execution_count": 14,
   "id": "f8727f32",
   "metadata": {},
   "outputs": [
    {
     "data": {
      "image/png": "[encoded data removed]",
      "text/plain": [
       "plot without title"
      ]
     },
     "metadata": {
      "image/png": {
       "height": 420,
       "width": 420
      }
     },
     "output_type": "display_data"
    },
    {
     "data": {
      "image/png": "[encoded data removed]",
      "text/plain": [
       "plot without title"
      ]
     },
     "metadata": {
      "image/png": {
       "height": 420,
       "width": 420
      }
     },
     "output_type": "display_data"
    },
    {
     "data": {
      "image/png": "[encoded data removed]",
      "text/plain": [
       "plot without title"
      ]
     },
     "metadata": {
      "image/png": {
       "height": 420,
       "width": 420
      }
     },
     "output_type": "display_data"
    },
    {
     "data": {
      "image/png": "[encoded data removed]",
      "text/plain": [
       "plot without title"
      ]
     },
     "metadata": {
      "image/png": {
       "height": 420,
       "width": 420
      }
     },
     "output_type": "display_data"
    },
    {
     "data": {
      "image/png": "[encoded data removed]",
      "text/plain": [
       "plot without title"
      ]
     },
     "metadata": {
      "image/png": {
       "height": 420,
       "width": 420
      }
     },
     "output_type": "display_data"
    },
    {
     "data": {
      "text/plain": [
       "surfp$NOM: Keur Moussa\n",
       "NULL\n",
       "------------------------------------------------------------ \n",
       "surfp$NOM: Méouane\n",
       "NULL\n",
       "------------------------------------------------------------ \n",
       "surfp$NOM: Ndande\n",
       "NULL\n",
       "------------------------------------------------------------ \n",
       "surfp$NOM: Pambal\n",
       "NULL\n",
       "------------------------------------------------------------ \n",
       "surfp$NOM: Rufisque-Est\n",
       "NULL\n",
       "------------------------------------------------------------ \n",
       "surfp$NOM: Sangalkam\n",
       "NULL"
      ]
     },
     "metadata": {},
     "output_type": "display_data"
    },
    {
     "data": {
      "image/png": "[encoded data removed]",
      "text/plain": [
       "plot without title"
      ]
     },
     "metadata": {
      "image/png": {
       "height": 420,
       "width": 420
      }
     },
     "output_type": "display_data"
    }
   ],
   "source": [
    "by(surfp[,1:2], surfp$NOM, FUN = function(X) pairs(X))"
   ]
  },
  {
   "cell_type": "code",
   "execution_count": 15,
   "id": "e44d1557",
   "metadata": {},
   "outputs": [
    {
     "data": {
      "image/png": "[encoded data removed]",
      "text/plain": [
       "plot without title"
      ]
     },
     "metadata": {
      "image/png": {
       "height": 420,
       "width": 420
      }
     },
     "output_type": "display_data"
    }
   ],
   "source": [
    "#pairs(surf)\n",
    "pairs(surfp[,1:2])"
   ]
  },
  {
   "cell_type": "code",
   "execution_count": 16,
   "id": "dda2045e",
   "metadata": {},
   "outputs": [],
   "source": [
    "#par(mfrow=c(2,1))"
   ]
  },
  {
   "cell_type": "markdown",
   "id": "1c7aee47",
   "metadata": {},
   "source": [
    "Stats desc"
   ]
  },
  {
   "cell_type": "code",
   "execution_count": 17,
   "id": "bb640850",
   "metadata": {},
   "outputs": [
    {
     "data": {
      "text/plain": [
       "\n",
       "Call:\n",
       "lm(formula = surf$taille_men ~ surf$surface_to)\n",
       "\n",
       "Residuals:\n",
       "   Min     1Q Median     3Q    Max \n",
       "-8.967 -3.952 -0.837  3.142 20.310 \n",
       "\n",
       "Coefficients:\n",
       "                Estimate Std. Error t value Pr(>|t|)    \n",
       "(Intercept)      11.2040     0.6291  17.809  < 2e-16 ***\n",
       "surf$surface_to   0.4358     0.1517   2.873  0.00461 ** \n",
       "---\n",
       "Signif. codes:  0 '***' 0.001 '**' 0.01 '*' 0.05 '.' 0.1 ' ' 1\n",
       "\n",
       "Residual standard error: 5.384 on 162 degrees of freedom\n",
       "Multiple R-squared:  0.04849,\tAdjusted R-squared:  0.04262 \n",
       "F-statistic: 8.256 on 1 and 162 DF,  p-value: 0.004606\n"
      ]
     },
     "metadata": {},
     "output_type": "display_data"
    }
   ],
   "source": [
    "summary(lm(surf$taille_men~surf$surface_to))"
   ]
  },
  {
   "cell_type": "code",
   "execution_count": 18,
   "id": "8a346e61",
   "metadata": {},
   "outputs": [
    {
     "data": {
      "text/plain": [
       "\n",
       "Call:\n",
       "lm(formula = surfp$taille_men ~ surfp$suptotculm)\n",
       "\n",
       "Residuals:\n",
       "    Min      1Q  Median      3Q     Max \n",
       "-12.961  -3.014  -0.770   2.111  23.503 \n",
       "\n",
       "Coefficients:\n",
       "                 Estimate Std. Error t value Pr(>|t|)    \n",
       "(Intercept)        9.8566     0.3125  31.546  < 2e-16 ***\n",
       "surfp$suptotculm   0.5467     0.0800   6.833 3.11e-11 ***\n",
       "---\n",
       "Signif. codes:  0 '***' 0.001 '**' 0.01 '*' 0.05 '.' 0.1 ' ' 1\n",
       "\n",
       "Residual standard error: 4.798 on 399 degrees of freedom\n",
       "Multiple R-squared:  0.1048,\tAdjusted R-squared:  0.1025 \n",
       "F-statistic:  46.7 on 1 and 399 DF,  p-value: 3.112e-11\n"
      ]
     },
     "metadata": {},
     "output_type": "display_data"
    }
   ],
   "source": [
    "summary(lm(surfp$taille_men~surfp$suptotculm))"
   ]
  },
  {
   "cell_type": "markdown",
   "id": "758c888b",
   "metadata": {},
   "source": [
    "- c-) Lien par groupe"
   ]
  },
  {
   "cell_type": "code",
   "execution_count": 19,
   "id": "e1f3b41c",
   "metadata": {},
   "outputs": [
    {
     "data": {
      "text/plain": [
       "surfp$NOM: Keur Moussa\n",
       "[1] -0.01931961\n",
       "------------------------------------------------------------ \n",
       "surfp$NOM: Méouane\n",
       "[1] 0.287763\n",
       "------------------------------------------------------------ \n",
       "surfp$NOM: Ndande\n",
       "[1] -0.03894201\n",
       "------------------------------------------------------------ \n",
       "surfp$NOM: Pambal\n",
       "[1] 0.5448644\n",
       "------------------------------------------------------------ \n",
       "surfp$NOM: Rufisque-Est\n",
       "[1] 0.6377481\n",
       "------------------------------------------------------------ \n",
       "surfp$NOM: Sangalkam\n",
       "[1] -0.3896109"
      ]
     },
     "metadata": {},
     "output_type": "display_data"
    }
   ],
   "source": [
    "by(surfp, surfp$NOM, FUN = function(X) cor(X$taille_men,\n",
    "                    X$suptotculm, method = \"spearman\"))"
   ]
  },
  {
   "cell_type": "code",
   "execution_count": 20,
   "id": "3af1a558",
   "metadata": {},
   "outputs": [
    {
     "data": {
      "text/html": [
       "<style>\n",
       ".list-inline {list-style: none; margin:0; padding: 0}\n",
       ".list-inline>li {display: inline-block}\n",
       ".list-inline>li:not(:last-child)::after {content: \"\\00b7\"; padding: 0 .5ex}\n",
       "</style>\n",
       "<ol class=list-inline><li>'Sangalkam'</li><li>'Méouane'</li><li>'Ndande'</li><li>'Pambal'</li><li>'Keur Moussa'</li><li>'Rufisque-Est'</li></ol>\n"
      ],
      "text/latex": [
       "\\begin{enumerate*}\n",
       "\\item 'Sangalkam'\n",
       "\\item 'Méouane'\n",
       "\\item 'Ndande'\n",
       "\\item 'Pambal'\n",
       "\\item 'Keur Moussa'\n",
       "\\item 'Rufisque-Est'\n",
       "\\end{enumerate*}\n"
      ],
      "text/markdown": [
       "1. 'Sangalkam'\n",
       "2. 'Méouane'\n",
       "3. 'Ndande'\n",
       "4. 'Pambal'\n",
       "5. 'Keur Moussa'\n",
       "6. 'Rufisque-Est'\n",
       "\n",
       "\n"
      ],
      "text/plain": [
       "[1] \"Sangalkam\"    \"Méouane\"      \"Ndande\"       \"Pambal\"       \"Keur Moussa\" \n",
       "[6] \"Rufisque-Est\""
      ]
     },
     "metadata": {},
     "output_type": "display_data"
    }
   ],
   "source": [
    "unique(papa$NOM)"
   ]
  },
  {
   "cell_type": "code",
   "execution_count": null,
   "id": "5c2fb4ee",
   "metadata": {},
   "outputs": [],
   "source": []
  },
  {
   "cell_type": "code",
   "execution_count": null,
   "id": "674855d6",
   "metadata": {},
   "outputs": [],
   "source": []
  },
  {
   "cell_type": "code",
   "execution_count": null,
   "id": "127c8a79",
   "metadata": {},
   "outputs": [],
   "source": []
  },
  {
   "cell_type": "markdown",
   "id": "45657737",
   "metadata": {},
   "source": [
    "- d-) Lien entre  surfac  et capital"
   ]
  },
  {
   "cell_type": "code",
   "execution_count": 14,
   "id": "afcde276",
   "metadata": {},
   "outputs": [],
   "source": [
    "# \"capital\",\"cout_intra\",\"NOM\",\"syst_exhau\""
   ]
  },
  {
   "cell_type": "code",
   "execution_count": 15,
   "id": "a3f55af9",
   "metadata": {},
   "outputs": [
    {
     "data": {
      "text/html": [
       "<table class=\"dataframe\">\n",
       "<caption>A tibble: 401 × 121</caption>\n",
       "<thead>\n",
       "\t<tr><th scope=col>ville</th><th scope=col>commune</th><th scope=col>site</th><th scope=col>id</th><th scope=col>latitude</th><th scope=col>longitude</th><th scope=col>suptotculm</th><th scope=col>ratiosuplo</th><th scope=col>ratio_irr_</th><th scope=col>nb_boeufs_</th><th scope=col>⋯</th><th scope=col>log_trav_h</th><th scope=col>surf_score</th><th scope=col>y_hat</th><th scope=col>y_mean</th><th scope=col>sse_i</th><th scope=col>sst_i</th><th scope=col>ss_bis</th><th scope=col>credit</th><th scope=col>capital</th><th scope=col>NOM</th></tr>\n",
       "\t<tr><th scope=col>&lt;chr&gt;</th><th scope=col>&lt;chr&gt;</th><th scope=col>&lt;chr&gt;</th><th scope=col>&lt;dbl&gt;</th><th scope=col>&lt;dbl&gt;</th><th scope=col>&lt;dbl&gt;</th><th scope=col>&lt;dbl&gt;</th><th scope=col>&lt;chr&gt;</th><th scope=col>&lt;chr&gt;</th><th scope=col>&lt;dbl&gt;</th><th scope=col>⋯</th><th scope=col>&lt;dbl&gt;</th><th scope=col>&lt;dbl&gt;</th><th scope=col>&lt;chr&gt;</th><th scope=col>&lt;dbl&gt;</th><th scope=col>&lt;chr&gt;</th><th scope=col>&lt;dbl&gt;</th><th scope=col>&lt;chr&gt;</th><th scope=col>&lt;dbl&gt;</th><th scope=col>&lt;chr&gt;</th><th scope=col>&lt;chr&gt;</th></tr>\n",
       "</thead>\n",
       "<tbody>\n",
       "\t<tr><td>DAKAR</td><td>Bambilor         </td><td>Ndirene               </td><td>1781</td><td>14.80999</td><td>-17.18827</td><td> 0.1000000</td><td>0 </td><td>0 </td><td>0</td><td>⋯</td><td> 2.9957323</td><td>1</td><td>0.004973173 </td><td>0.4602103</td><td>0.207240805</td><td> 6.428871632</td><td>8.94464016 </td><td>0e+00</td><td>0      </td><td>Sangalkam  </td></tr>\n",
       "\t<tr><td>THIES</td><td>Taiba Ndiaye     </td><td>Wangal                </td><td>1783</td><td>14.98524</td><td>-16.92657</td><td> 1.2500000</td><td>0 </td><td>1 </td><td>0</td><td>⋯</td><td> 0.4700036</td><td>1</td><td>-0.308731645</td><td>0.4602103</td><td>0.591271698</td><td> 0.000095900</td><td>0.606428683</td><td>0e+00</td><td>0      </td><td>Méouane    </td></tr>\n",
       "\t<tr><td>LOUGA</td><td>Kab Gaye         </td><td>Darou Dia             </td><td>1784</td><td>15.27758</td><td>-16.62518</td><td> 0.1800000</td><td>0 </td><td>1 </td><td>0</td><td>⋯</td><td> 1.7147983</td><td>1</td><td>-1.327292085</td><td>0.4602103</td><td>3.195164919</td><td> 1.573991418</td><td>9.254314423</td><td>4e+04</td><td>31000  </td><td>Ndande     </td></tr>\n",
       "\t<tr><td>THIES</td><td>Noto Gouye Diama </td><td>Bagne bou reuye       </td><td>1785</td><td>14.96821</td><td>-17.03665</td><td> 3.5000000</td><td>0 </td><td>1 </td><td>0</td><td>⋯</td><td>-0.1541507</td><td>2</td><td>-0.965735734</td><td>0.4602103</td><td>2.033322096</td><td> 0.377439350</td><td>0.658670306</td><td>0e+00</td><td>891000 </td><td>Pambal     </td></tr>\n",
       "\t<tr><td>LOUGA</td><td>Thieppe          </td><td>KHININE AMADOU BA     </td><td>1788</td><td>15.46266</td><td>-16.64911</td><td> 1.0000000</td><td>0 </td><td>1 </td><td>0</td><td>⋯</td><td> 0.6931472</td><td>1</td><td>-1.729028821</td><td>0.4602103</td><td>4.792768002</td><td> 0.054259606</td><td>5.866936684</td><td>0e+00</td><td>268000 </td><td>Ndande     </td></tr>\n",
       "\t<tr><td>THIES</td><td>Darou khoudoss   </td><td>Dioli                 </td><td>1789</td><td>15.24794</td><td>-16.80247</td><td> 9.1751499</td><td>0 </td><td>1 </td><td>0</td><td>⋯</td><td>-0.4247393</td><td>3</td><td>-2.71914959 </td><td>0.4602103</td><td>10.10832882</td><td> 0.783135712</td><td>5.264318466</td><td>4e+05</td><td>0      </td><td>Méouane    </td></tr>\n",
       "\t<tr><td>THIES</td><td>Taiba Ndiaye     </td><td>Ndjidj                </td><td>1793</td><td>15.00203</td><td>-16.91789</td><td> 0.5000000</td><td>0 </td><td>1 </td><td>0</td><td>⋯</td><td> 0.6931472</td><td>1</td><td>-0.664806008</td><td>0.4602103</td><td>1.265661597</td><td> 0.054259606</td><td>1.844036818</td><td>1e+05</td><td>367000 </td><td>Méouane    </td></tr>\n",
       "\t<tr><td>DAKAR</td><td>Sangalkam        </td><td>Khal Golo             </td><td>1800</td><td>14.77593</td><td>-17.24269</td><td> 0.7022936</td><td>0 </td><td>0 </td><td>0</td><td>⋯</td><td> 0.3534038</td><td>1</td><td>-0.929431736</td><td>0.4602103</td><td>1.931105018</td><td> 0.011407626</td><td>1.645667076</td><td>0e+00</td><td>140000 </td><td>Sangalkam  </td></tr>\n",
       "\t<tr><td>THIES</td><td>Darou khoudoss   </td><td>Khourou Taslim        </td><td>1804</td><td>15.31338</td><td>-16.77080</td><td> 6.2833333</td><td>0 </td><td>1 </td><td>0</td><td>⋯</td><td>-0.4516062</td><td>3</td><td>-3.740627766</td><td>0.4602103</td><td>17.64704132</td><td> 0.831409335</td><td>10.81766319</td><td>0e+00</td><td>0      </td><td>Ndande     </td></tr>\n",
       "\t<tr><td>THIES</td><td>Taiba Ndiaye     </td><td>Pallene               </td><td>1808</td><td>15.06311</td><td>-16.93855</td><td> 3.4000001</td><td>0 </td><td>1 </td><td>0</td><td>⋯</td><td>-0.5306283</td><td>2</td><td>-1.120585203</td><td>0.4602103</td><td>2.498914242</td><td> 0.981761098</td><td>0.348049134</td><td>0e+00</td><td>601000 </td><td>Méouane    </td></tr>\n",
       "\t<tr><td>THIES</td><td>Noto Gouye Diama </td><td>Kackene               </td><td>1816</td><td>14.99337</td><td>-17.00882</td><td> 1.5000000</td><td>0 </td><td>1 </td><td>0</td><td>⋯</td><td> 0.2876821</td><td>1</td><td>-0.035261791</td><td>0.4602103</td><td>0.245492563</td><td> 0.029765967</td><td>0.104292758</td><td>0e+00</td><td>0      </td><td>Pambal     </td></tr>\n",
       "\t<tr><td>THIES</td><td>Noto Gouye Diama </td><td>Ngadiaga              </td><td>1817</td><td>14.95602</td><td>-17.05038</td><td> 9.5000000</td><td>0 </td><td>1 </td><td>0</td><td>⋯</td><td>-0.8649974</td><td>3</td><td>-1.885874391</td><td>0.4602103</td><td>5.504113197</td><td> 1.756175399</td><td>1.042189717</td><td>0e+00</td><td>2336500</td><td>Pambal     </td></tr>\n",
       "\t<tr><td>LOUGA</td><td>Diokoul Diawrigne</td><td>Ndiawrigne Mame Mousse</td><td>1821</td><td>15.39544</td><td>-16.61397</td><td> 0.0400000</td><td>0 </td><td>1 </td><td>0</td><td>⋯</td><td> 3.9120231</td><td>1</td><td>-0.855792642</td><td>0.4602103</td><td>1.731863737</td><td>11.915011410</td><td>22.73206711</td><td>0e+00</td><td>0      </td><td>Ndande     </td></tr>\n",
       "\t<tr><td>THIES</td><td>Noto Gouye Diama </td><td>Bagne bou reuye       </td><td>1840</td><td>14.96750</td><td>-17.03821</td><td> 3.0000000</td><td>0 </td><td>1 </td><td>1</td><td>⋯</td><td>-1.0986123</td><td>2</td><td>-0.968615651</td><td>0.4602103</td><td>2.041543484</td><td> 2.429927588</td><td>0.016899122</td><td>0e+00</td><td>521900 </td><td>Pambal     </td></tr>\n",
       "\t<tr><td>THIES</td><td>Taiba Ndiaye     </td><td>Pallene               </td><td>1842</td><td>15.05914</td><td>-16.94169</td><td> 6.0000000</td><td>0 </td><td>0 </td><td>0</td><td>⋯</td><td>-0.6931472</td><td>2</td><td>-1.095102072</td><td>0.4602103</td><td>2.418996572</td><td> 1.330233455</td><td>0.161567777</td><td>0e+00</td><td>0      </td><td>Méouane    </td></tr>\n",
       "\t<tr><td>THIES</td><td>Noto Gouye Diama </td><td>Bagne bou reuye       </td><td>1844</td><td>14.96952</td><td>-17.03269</td><td> 9.5000000</td><td>0 </td><td>1 </td><td>2</td><td>⋯</td><td>-0.8649974</td><td>3</td><td>-1.986653209</td><td>0.4602103</td><td>5.987140656</td><td> 1.756175399</td><td>1.258111596</td><td>0e+00</td><td>0      </td><td>Pambal     </td></tr>\n",
       "\t<tr><td>THIES</td><td>Darou khoudoss   </td><td>Doulou Golo           </td><td>1845</td><td>15.16259</td><td>-16.88879</td><td> 3.0000000</td><td>0 </td><td>1 </td><td>0</td><td>⋯</td><td>-1.0986123</td><td>2</td><td>-1.611546755</td><td>0.4602103</td><td>4.2921772  </td><td> 2.429927588</td><td>0.263101816</td><td>0e+00</td><td>1962000</td><td>Méouane    </td></tr>\n",
       "\t<tr><td>THIES</td><td>Djender Guedji   </td><td>Wadiane               </td><td>1847</td><td>14.89136</td><td>-17.07847</td><td> 1.0000000</td><td>0 </td><td>1 </td><td>0</td><td>⋯</td><td> 0.0000000</td><td>1</td><td>0.215702042 </td><td>0.4602103</td><td>0.059784271</td><td> 0.211793482</td><td>0.046527371</td><td>0e+00</td><td>170000 </td><td>Keur Moussa</td></tr>\n",
       "\t<tr><td>THIES</td><td>Noto Gouye Diama </td><td>Bagne bou reuye       </td><td>1849</td><td>14.97082</td><td>-17.03245</td><td>12.2500000</td><td>0 </td><td>1 </td><td>0</td><td>⋯</td><td>-0.7137665</td><td>3</td><td>-1.983115435</td><td>0.4602103</td><td>5.969840527</td><td> 1.378221393</td><td>1.611246824</td><td>0e+00</td><td>1710000</td><td>Pambal     </td></tr>\n",
       "\t<tr><td>THIES</td><td>Darou khoudoss   </td><td>Doulou Golo           </td><td>1850</td><td>15.16373</td><td>-16.88721</td><td> 2.5000000</td><td>0 </td><td>1 </td><td>0</td><td>⋯</td><td> 0.1823216</td><td>2</td><td>-1.647382975</td><td>0.4602103</td><td>4.441949368</td><td> 0.077222109</td><td>3.347818613</td><td>0e+00</td><td>0      </td><td>Méouane    </td></tr>\n",
       "\t<tr><td>THIES</td><td>Djender Guedji   </td><td>Wadiane               </td><td>1854</td><td>14.89153</td><td>-17.07876</td><td> 1.0000000</td><td>NA</td><td>NA</td><td>0</td><td>⋯</td><td> 0.0000000</td><td>1</td><td>0.207611904 </td><td>0.4602103</td><td>0.06380593 </td><td> 0.211793482</td><td>0.0431027  </td><td>0e+00</td><td>0      </td><td>Keur Moussa</td></tr>\n",
       "\t<tr><td>THIES</td><td>Noto Gouye Diama </td><td>Bagne bou reuye       </td><td>1858</td><td>14.96824</td><td>-17.03982</td><td> 4.0000000</td><td>0 </td><td>1 </td><td>0</td><td>⋯</td><td>-0.2876821</td><td>2</td><td>-0.993920326</td><td>0.4602103</td><td>2.114495754</td><td> 0.559342921</td><td>0.498772442</td><td>0e+00</td><td>912400 </td><td>Pambal     </td></tr>\n",
       "\t<tr><td>THIES</td><td>Taiba Ndiaye     </td><td>Pallene               </td><td>1859</td><td>15.06093</td><td>-16.93969</td><td> 0.5000000</td><td>0 </td><td>0 </td><td>0</td><td>⋯</td><td> 1.3862944</td><td>1</td><td>-0.094891824</td><td>0.4602103</td><td>0.308138341</td><td> 0.857631743</td><td>2.193912506</td><td>0e+00</td><td>0      </td><td>Méouane    </td></tr>\n",
       "\t<tr><td>LOUGA</td><td>Diokoul Diawrigne</td><td>Beigne Penda          </td><td>1862</td><td>15.50191</td><td>-16.68670</td><td> 0.0525000</td><td>0 </td><td>1 </td><td>0</td><td>⋯</td><td> 3.6400893</td><td>1</td><td>-2.294252634</td><td>0.4602103</td><td>7.587065697</td><td>10.111630440</td><td>35.21641541</td><td>0e+00</td><td>160000 </td><td>Ndande     </td></tr>\n",
       "\t<tr><td>THIES</td><td>Meouane          </td><td>BASSIN 16             </td><td>1868</td><td>15.10538</td><td>-16.82491</td><td> 2.0000000</td><td>0 </td><td>1 </td><td>0</td><td>⋯</td><td> 0.0000000</td><td>2</td><td>-1.84889853 </td><td>0.4602103</td><td>5.331983566</td><td> 0.211793482</td><td>3.418425798</td><td>0e+00</td><td>1155000</td><td>Méouane    </td></tr>\n",
       "\t<tr><td>DAKAR</td><td>Bambilor         </td><td>Ndirene               </td><td>1870</td><td>14.81046</td><td>-17.19417</td><td> 1.0000000</td><td>0 </td><td>0 </td><td>0</td><td>⋯</td><td> 1.3862944</td><td>1</td><td>-0.090534873</td><td>0.4602103</td><td>0.303320199</td><td> 0.857631743</td><td>2.181024551</td><td>0e+00</td><td>0      </td><td>Sangalkam  </td></tr>\n",
       "\t<tr><td>THIES</td><td>Noto Gouye Diama </td><td>Diore                 </td><td>1871</td><td>14.96940</td><td>-17.03188</td><td> 4.0000000</td><td>0 </td><td>1 </td><td>0</td><td>⋯</td><td>-0.6931472</td><td>2</td><td>-0.993973434</td><td>0.4602103</td><td>2.114650249</td><td> 1.330233455</td><td>0.090496428</td><td>0e+00</td><td>795000 </td><td>Pambal     </td></tr>\n",
       "\t<tr><td>LOUGA</td><td>Diokoul Diawrigne</td><td>Lompoul village       </td><td>1874</td><td>15.43390</td><td>-16.68651</td><td> 0.5835000</td><td>0 </td><td>1 </td><td>0</td><td>⋯</td><td> 1.9250052</td><td>1</td><td>-1.010688424</td><td>0.4602103</td><td>2.163542986</td><td> 2.145624399</td><td>8.618297577</td><td>0e+00</td><td>482000 </td><td>Ndande     </td></tr>\n",
       "\t<tr><td>THIES</td><td>Noto Gouye Diama </td><td>Ngadiaga              </td><td>1880</td><td>14.95662</td><td>-17.05144</td><td> 3.5000000</td><td>0 </td><td>1 </td><td>0</td><td>⋯</td><td> 0.5389965</td><td>2</td><td>-0.900222063</td><td>0.4602103</td><td>1.850776076</td><td> 0.006207273</td><td>2.071350098</td><td>5e+05</td><td>1112000</td><td>Pambal     </td></tr>\n",
       "\t<tr><td>LOUGA</td><td>Thieppe          </td><td>RONY NDEUG 2          </td><td>1882</td><td>15.48970</td><td>-16.70052</td><td> 2.2200000</td><td>0 </td><td>1 </td><td>0</td><td>⋯</td><td> 0.5887871</td><td>2</td><td>-3.097928524</td><td>0.4602103</td><td>12.66035175</td><td> 0.016532019</td><td>13.59187222</td><td>0e+00</td><td>565000 </td><td>Ndande     </td></tr>\n",
       "\t<tr><td>⋮</td><td>⋮</td><td>⋮</td><td>⋮</td><td>⋮</td><td>⋮</td><td>⋮</td><td>⋮</td><td>⋮</td><td>⋮</td><td>⋱</td><td>⋮</td><td>⋮</td><td>⋮</td><td>⋮</td><td>⋮</td><td>⋮</td><td>⋮</td><td>⋮</td><td>⋮</td><td>⋮</td></tr>\n",
       "\t<tr><td>THIES</td><td>Darou khoudoss   </td><td>koro              </td><td>3066</td><td>15.09556</td><td>-16.86611</td><td> 0.7500000</td><td>0</td><td>1</td><td>0</td><td>⋯</td><td> 0.2876821</td><td>1</td><td>-0.570623398</td><td>0.4602103</td><td>1.062618017</td><td>0.029765967</td><td>0.736688375</td><td>     0</td><td>0      </td><td>Méouane    </td></tr>\n",
       "\t<tr><td>LOUGA</td><td>Kab Gaye         </td><td>Kad Peulh         </td><td>3069</td><td>15.36636</td><td>-16.72495</td><td> 0.1296789</td><td>0</td><td>1</td><td>0</td><td>⋯</td><td> 2.0426939</td><td>1</td><td>-1.977033019</td><td>0.4602103</td><td>5.940155029</td><td>2.504254580</td><td>16.15820503</td><td>     0</td><td>0      </td><td>Ndande     </td></tr>\n",
       "\t<tr><td>THIES</td><td>Noto Gouye Diama </td><td>Ndigaale          </td><td>3077</td><td>14.93930</td><td>-17.06597</td><td> 0.7000000</td><td>0</td><td>1</td><td>0</td><td>⋯</td><td> 1.0498221</td><td>1</td><td>-0.068626866</td><td>0.4602103</td><td>0.279668719</td><td>0.347642064</td><td>1.250928044</td><td>     0</td><td>0      </td><td>Pambal     </td></tr>\n",
       "\t<tr><td>LOUGA</td><td>Diokoul Diawrigne</td><td>Dakhar Demba Codou</td><td>3079</td><td>15.41852</td><td>-16.61128</td><td> 0.2354000</td><td>0</td><td>1</td><td>0</td><td>⋯</td><td> 2.1396163</td><td>1</td><td>-1.309406757</td><td>0.4602103</td><td>3.131544352</td><td>2.820404530</td><td>11.89575958</td><td>     0</td><td>263000 </td><td>Ndande     </td></tr>\n",
       "\t<tr><td>LOUGA</td><td>Kab Gaye         </td><td>MABOYE DIERI      </td><td>3083</td><td>15.41411</td><td>-16.71770</td><td> 2.0000000</td><td>0</td><td>1</td><td>0</td><td>⋯</td><td> 0.0000000</td><td>2</td><td>-2.441445827</td><td>0.4602103</td><td>8.41960907 </td><td>0.211793482</td><td>5.960658073</td><td>     0</td><td>335000 </td><td>Ndande     </td></tr>\n",
       "\t<tr><td>THIES</td><td>Taiba Ndiaye     </td><td>Pallene           </td><td>3086</td><td>15.06181</td><td>-16.93892</td><td> 2.0000000</td><td>0</td><td>0</td><td>0</td><td>⋯</td><td> 0.0000000</td><td>2</td><td>-1.104804397</td><td>0.4602103</td><td>2.449270964</td><td>0.211793482</td><td>1.220592856</td><td>     0</td><td>585000 </td><td>Méouane    </td></tr>\n",
       "\t<tr><td>THIES</td><td>Darou khoudoss   </td><td>koro              </td><td>3087</td><td>15.11346</td><td>-16.86640</td><td> 1.2500000</td><td>0</td><td>1</td><td>0</td><td>⋯</td><td>-0.2231435</td><td>1</td><td>-0.650884986</td><td>0.4602103</td><td>1.234532714</td><td>0.466972411</td><td>0.18296276 </td><td>     0</td><td>0      </td><td>Méouane    </td></tr>\n",
       "\t<tr><td>LOUGA</td><td>Kab Gaye         </td><td>Teurel            </td><td>3088</td><td>15.39432</td><td>-16.66138</td><td> 0.0490000</td><td>0</td><td>1</td><td>0</td><td>⋯</td><td> 3.0159349</td><td>1</td><td>-1.070576549</td><td>0.4602103</td><td>2.34330821 </td><td>6.531728745</td><td>16.69957542</td><td>     0</td><td>0      </td><td>Ndande     </td></tr>\n",
       "\t<tr><td>THIES</td><td>Djender Guedji   </td><td>Wadiane           </td><td>3093</td><td>14.85514</td><td>-17.10083</td><td> 1.5000000</td><td>0</td><td>1</td><td>0</td><td>⋯</td><td>-0.4054651</td><td>1</td><td>0.094447292 </td><td>0.4602103</td><td>0.133782551</td><td>0.749393821</td><td>0.249912381</td><td>     0</td><td>0      </td><td>Keur Moussa</td></tr>\n",
       "\t<tr><td>LOUGA</td><td>Diokoul Diawrigne</td><td>Beigne Penda      </td><td>3094</td><td>15.50185</td><td>-16.68673</td><td> 0.4252941</td><td>0</td><td>1</td><td>0</td><td>⋯</td><td> 1.9535866</td><td>1</td><td>-2.293070078</td><td>0.4602103</td><td>7.580552578</td><td>2.230172873</td><td>18.03409195</td><td>     0</td><td>485000 </td><td>Ndande     </td></tr>\n",
       "\t<tr><td>THIES</td><td>Thies Nord       </td><td>TANGOR            </td><td>3096</td><td>14.81910</td><td>-16.95141</td><td> 0.4921756</td><td>0</td><td>1</td><td>0</td><td>⋯</td><td> 1.4020669</td><td>1</td><td>-1.029376388</td><td>0.4602103</td><td>2.218868494</td><td>0.887094021</td><td>5.91191721 </td><td>     0</td><td>0      </td><td>Keur Moussa</td></tr>\n",
       "\t<tr><td>THIES</td><td>Djender Guedji   </td><td>MAISSAOU          </td><td>3098</td><td>14.82744</td><td>-17.08825</td><td> 2.0000000</td><td>0</td><td>1</td><td>0</td><td>⋯</td><td>-0.6931472</td><td>2</td><td>-0.808354318</td><td>0.4602103</td><td>1.609256029</td><td>1.330233455</td><td>0.013272681</td><td>     0</td><td>536000 </td><td>Keur Moussa</td></tr>\n",
       "\t<tr><td>LOUGA</td><td>Kab Gaye         </td><td>Tawa Peulh        </td><td>3103</td><td>15.32304</td><td>-16.73483</td><td> 0.2878242</td><td>0</td><td>1</td><td>0</td><td>⋯</td><td> 1.9385526</td><td>1</td><td>-2.27962184 </td><td>0.4602103</td><td>7.506680489</td><td>2.185496330</td><td>17.79299736</td><td>105000</td><td>199000 </td><td>Ndande     </td></tr>\n",
       "\t<tr><td>THIES</td><td>Djender Guedji   </td><td>Waygo             </td><td>3104</td><td>14.86818</td><td>-17.09445</td><td> 2.0000000</td><td>0</td><td>1</td><td>0</td><td>⋯</td><td>-0.6931472</td><td>2</td><td>-0.909990847</td><td>0.4602103</td><td>1.877451062</td><td>1.330233455</td><td>0.047021169</td><td>     0</td><td>395000 </td><td>Keur Moussa</td></tr>\n",
       "\t<tr><td>DAKAR</td><td>Sangalkam        </td><td>Tetiere           </td><td>3110</td><td>14.81277</td><td>-17.24865</td><td> 0.6977778</td><td>0</td><td>1</td><td>0</td><td>⋯</td><td> 1.4584668</td><td>1</td><td>-0.357022554</td><td>0.4602103</td><td>0.667869449</td><td>0.996516109</td><td>3.296001434</td><td>     0</td><td>0      </td><td>Sangalkam  </td></tr>\n",
       "\t<tr><td>LOUGA</td><td>Diokoul Diawrigne</td><td>Tound Maleye      </td><td>3119</td><td>15.54262</td><td>-16.62982</td><td> 0.2200000</td><td>0</td><td>1</td><td>0</td><td>⋯</td><td> 2.6127400</td><td>1</td><td>-3.32190156 </td><td>0.4602103</td><td>14.30437088</td><td>4.633384228</td><td>35.2199707 </td><td>     0</td><td>195000 </td><td>Ndande     </td></tr>\n",
       "\t<tr><td>THIES</td><td>Keur Moussa      </td><td>diorgui           </td><td>3120</td><td>14.85916</td><td>-17.04626</td><td> 1.0000000</td><td>0</td><td>1</td><td>0</td><td>⋯</td><td> 0.6931472</td><td>1</td><td>-0.503877819</td><td>0.4602103</td><td>0.92946589 </td><td>0.054259606</td><td>1.432868958</td><td>     0</td><td>550000 </td><td>Pambal     </td></tr>\n",
       "\t<tr><td>THIES</td><td>Djender Guedji   </td><td>MAISSAOU          </td><td>3125</td><td>14.82735</td><td>-17.07490</td><td> 2.0000000</td><td>0</td><td>1</td><td>0</td><td>⋯</td><td> 0.4054651</td><td>2</td><td>-1.050129533</td><td>0.4602103</td><td>2.281126261</td><td>0.002997032</td><td>2.118755817</td><td>     0</td><td>620000 </td><td>Keur Moussa</td></tr>\n",
       "\t<tr><td>THIES</td><td>Noto Gouye Diama </td><td>Bagne bou reuye   </td><td>3132</td><td>14.96725</td><td>-17.03832</td><td> 2.0000000</td><td>0</td><td>1</td><td>0</td><td>⋯</td><td>-0.6931472</td><td>2</td><td>-0.965874255</td><td>0.4602103</td><td>2.033717155</td><td>1.330233455</td><td>0.074380063</td><td>     0</td><td>0      </td><td>Pambal     </td></tr>\n",
       "\t<tr><td>LOUGA</td><td>Kab Gaye         </td><td>Lompoul Mer       </td><td>3135</td><td>15.44345</td><td>-16.73007</td><td> 4.0000000</td><td>0</td><td>1</td><td>0</td><td>⋯</td><td> 0.0000000</td><td>2</td><td>-2.733397007</td><td>0.4602103</td><td>10.1991272 </td><td>0.211793482</td><td>7.471458912</td><td>     0</td><td>521000 </td><td>Ndande     </td></tr>\n",
       "\t<tr><td>THIES</td><td>Djender Guedji   </td><td>Beudeu            </td><td>3142</td><td>14.88878</td><td>-17.07827</td><td> 4.0000000</td><td>0</td><td>1</td><td>0</td><td>⋯</td><td>-0.6931472</td><td>2</td><td>-0.770738065</td><td>0.4602103</td><td>1.515233874</td><td>1.330233455</td><td>0.00602035 </td><td>     0</td><td>505000 </td><td>Keur Moussa</td></tr>\n",
       "\t<tr><td>THIES</td><td>Noto Gouye Diama </td><td>Ndigaale          </td><td>3143</td><td>14.93878</td><td>-17.05320</td><td> 0.6846154</td><td>0</td><td>1</td><td>0</td><td>⋯</td><td> 0.3788981</td><td>1</td><td>0.13172473  </td><td>0.4602103</td><td>0.107902743</td><td>0.006611670</td><td>0.061094668</td><td>     0</td><td>0      </td><td>Pambal     </td></tr>\n",
       "\t<tr><td>DAKAR</td><td>Sangalkam        </td><td>Maye              </td><td>3146</td><td>14.88638</td><td>-17.13618</td><td>14.9222221</td><td>0</td><td>1</td><td>0</td><td>⋯</td><td>-2.0097044</td><td>3</td><td>-1.827296734</td><td>0.4602103</td><td>5.23268795 </td><td>6.100478172</td><td>0.033272531</td><td>     0</td><td>1885000</td><td>Keur Moussa</td></tr>\n",
       "\t<tr><td>THIES</td><td>Keur Moussa      </td><td>diorgui           </td><td>3149</td><td>14.82910</td><td>-17.03080</td><td> 1.0000000</td><td>1</td><td>1</td><td>0</td><td>⋯</td><td> 0.0000000</td><td>1</td><td>-0.51206845 </td><td>0.4602103</td><td>0.945325911</td><td>0.211793482</td><td>0.262214124</td><td>     0</td><td>90000  </td><td>Pambal     </td></tr>\n",
       "\t<tr><td>THIES</td><td>Noto Gouye Diama </td><td>Ndigaale          </td><td>3153</td><td>14.93967</td><td>-17.05458</td><td> 0.5769231</td><td>0</td><td>1</td><td>0</td><td>⋯</td><td> 0.5500463</td><td>1</td><td>0.106538951 </td><td>0.4602103</td><td>0.125083402</td><td>0.008070522</td><td>0.1966988  </td><td>     0</td><td>110000 </td><td>Pambal     </td></tr>\n",
       "\t<tr><td>LOUGA</td><td>Diokoul Diawrigne</td><td>Lompoul village   </td><td>3154</td><td>15.42413</td><td>-16.66948</td><td> 1.3567125</td><td>0</td><td>1</td><td>0</td><td>⋯</td><td> 0.3880827</td><td>1</td><td>-0.901470661</td><td>0.4602103</td><td>1.854174972</td><td>0.005202382</td><td>1.662947893</td><td>     0</td><td>880000 </td><td>Ndande     </td></tr>\n",
       "\t<tr><td>LOUGA</td><td>Kab Gaye         </td><td>MABOYE DIERI      </td><td>3155</td><td>15.41402</td><td>-16.72075</td><td> 1.0000000</td><td>0</td><td>1</td><td>0</td><td>⋯</td><td> 0.6931472</td><td>1</td><td>-1.48505044 </td><td>0.4602103</td><td>3.784039021</td><td>0.054259606</td><td>4.744544506</td><td>     0</td><td>245000 </td><td>Ndande     </td></tr>\n",
       "\t<tr><td>DAKAR</td><td>Sangalkam        </td><td>Ndiouki           </td><td>3168</td><td>14.82214</td><td>-17.28720</td><td> 0.6600000</td><td>0</td><td>1</td><td>0</td><td>⋯</td><td> 0.4155155</td><td>1</td><td>-1.026758552</td><td>0.4602103</td><td>2.21107626 </td><td>0.001997621</td><td>2.080154657</td><td>     0</td><td>70500  </td><td>Sangalkam  </td></tr>\n",
       "\t<tr><td>THIES</td><td>Meouane          </td><td>BASSIN 16         </td><td>3169</td><td>15.10493</td><td>-16.82552</td><td> 6.0000000</td><td>0</td><td>1</td><td>0</td><td>⋯</td><td>-1.0986123</td><td>2</td><td>-1.844511867</td><td>0.4602103</td><td>5.311744213</td><td>2.429927588</td><td>0.556366205</td><td>     0</td><td>0      </td><td>Méouane    </td></tr>\n",
       "\t<tr><td>LOUGA</td><td>Kab Gaye         </td><td>Lompoul Mer       </td><td>3172</td><td>15.44332</td><td>-16.73071</td><td> 3.5000000</td><td>0</td><td>1</td><td>0</td><td>⋯</td><td> 0.1335314</td><td>2</td><td>-2.742139816</td><td>0.4602103</td><td>10.25504589</td><td>0.106719054</td><td>8.26948452 </td><td>     0</td><td>575000 </td><td>Ndande     </td></tr>\n",
       "</tbody>\n",
       "</table>\n"
      ],
      "text/latex": [
       "A tibble: 401 × 121\n",
       "\\begin{tabular}{lllllllllllllllllllll}\n",
       " ville & commune & site & id & latitude & longitude & suptotculm & ratiosuplo & ratio\\_irr\\_ & nb\\_boeufs\\_ & ⋯ & log\\_trav\\_h & surf\\_score & y\\_hat & y\\_mean & sse\\_i & sst\\_i & ss\\_bis & credit & capital & NOM\\\\\n",
       " <chr> & <chr> & <chr> & <dbl> & <dbl> & <dbl> & <dbl> & <chr> & <chr> & <dbl> & ⋯ & <dbl> & <dbl> & <chr> & <dbl> & <chr> & <dbl> & <chr> & <dbl> & <chr> & <chr>\\\\\n",
       "\\hline\n",
       "\t DAKAR & Bambilor          & Ndirene                & 1781 & 14.80999 & -17.18827 &  0.1000000 & 0  & 0  & 0 & ⋯ &  2.9957323 & 1 & 0.004973173  & 0.4602103 & 0.207240805 &  6.428871632 & 8.94464016  & 0e+00 & 0       & Sangalkam  \\\\\n",
       "\t THIES & Taiba Ndiaye      & Wangal                 & 1783 & 14.98524 & -16.92657 &  1.2500000 & 0  & 1  & 0 & ⋯ &  0.4700036 & 1 & -0.308731645 & 0.4602103 & 0.591271698 &  0.000095900 & 0.606428683 & 0e+00 & 0       & Méouane    \\\\\n",
       "\t LOUGA & Kab Gaye          & Darou Dia              & 1784 & 15.27758 & -16.62518 &  0.1800000 & 0  & 1  & 0 & ⋯ &  1.7147983 & 1 & -1.327292085 & 0.4602103 & 3.195164919 &  1.573991418 & 9.254314423 & 4e+04 & 31000   & Ndande     \\\\\n",
       "\t THIES & Noto Gouye Diama  & Bagne bou reuye        & 1785 & 14.96821 & -17.03665 &  3.5000000 & 0  & 1  & 0 & ⋯ & -0.1541507 & 2 & -0.965735734 & 0.4602103 & 2.033322096 &  0.377439350 & 0.658670306 & 0e+00 & 891000  & Pambal     \\\\\n",
       "\t LOUGA & Thieppe           & KHININE AMADOU BA      & 1788 & 15.46266 & -16.64911 &  1.0000000 & 0  & 1  & 0 & ⋯ &  0.6931472 & 1 & -1.729028821 & 0.4602103 & 4.792768002 &  0.054259606 & 5.866936684 & 0e+00 & 268000  & Ndande     \\\\\n",
       "\t THIES & Darou khoudoss    & Dioli                  & 1789 & 15.24794 & -16.80247 &  9.1751499 & 0  & 1  & 0 & ⋯ & -0.4247393 & 3 & -2.71914959  & 0.4602103 & 10.10832882 &  0.783135712 & 5.264318466 & 4e+05 & 0       & Méouane    \\\\\n",
       "\t THIES & Taiba Ndiaye      & Ndjidj                 & 1793 & 15.00203 & -16.91789 &  0.5000000 & 0  & 1  & 0 & ⋯ &  0.6931472 & 1 & -0.664806008 & 0.4602103 & 1.265661597 &  0.054259606 & 1.844036818 & 1e+05 & 367000  & Méouane    \\\\\n",
       "\t DAKAR & Sangalkam         & Khal Golo              & 1800 & 14.77593 & -17.24269 &  0.7022936 & 0  & 0  & 0 & ⋯ &  0.3534038 & 1 & -0.929431736 & 0.4602103 & 1.931105018 &  0.011407626 & 1.645667076 & 0e+00 & 140000  & Sangalkam  \\\\\n",
       "\t THIES & Darou khoudoss    & Khourou Taslim         & 1804 & 15.31338 & -16.77080 &  6.2833333 & 0  & 1  & 0 & ⋯ & -0.4516062 & 3 & -3.740627766 & 0.4602103 & 17.64704132 &  0.831409335 & 10.81766319 & 0e+00 & 0       & Ndande     \\\\\n",
       "\t THIES & Taiba Ndiaye      & Pallene                & 1808 & 15.06311 & -16.93855 &  3.4000001 & 0  & 1  & 0 & ⋯ & -0.5306283 & 2 & -1.120585203 & 0.4602103 & 2.498914242 &  0.981761098 & 0.348049134 & 0e+00 & 601000  & Méouane    \\\\\n",
       "\t THIES & Noto Gouye Diama  & Kackene                & 1816 & 14.99337 & -17.00882 &  1.5000000 & 0  & 1  & 0 & ⋯ &  0.2876821 & 1 & -0.035261791 & 0.4602103 & 0.245492563 &  0.029765967 & 0.104292758 & 0e+00 & 0       & Pambal     \\\\\n",
       "\t THIES & Noto Gouye Diama  & Ngadiaga               & 1817 & 14.95602 & -17.05038 &  9.5000000 & 0  & 1  & 0 & ⋯ & -0.8649974 & 3 & -1.885874391 & 0.4602103 & 5.504113197 &  1.756175399 & 1.042189717 & 0e+00 & 2336500 & Pambal     \\\\\n",
       "\t LOUGA & Diokoul Diawrigne & Ndiawrigne Mame Mousse & 1821 & 15.39544 & -16.61397 &  0.0400000 & 0  & 1  & 0 & ⋯ &  3.9120231 & 1 & -0.855792642 & 0.4602103 & 1.731863737 & 11.915011410 & 22.73206711 & 0e+00 & 0       & Ndande     \\\\\n",
       "\t THIES & Noto Gouye Diama  & Bagne bou reuye        & 1840 & 14.96750 & -17.03821 &  3.0000000 & 0  & 1  & 1 & ⋯ & -1.0986123 & 2 & -0.968615651 & 0.4602103 & 2.041543484 &  2.429927588 & 0.016899122 & 0e+00 & 521900  & Pambal     \\\\\n",
       "\t THIES & Taiba Ndiaye      & Pallene                & 1842 & 15.05914 & -16.94169 &  6.0000000 & 0  & 0  & 0 & ⋯ & -0.6931472 & 2 & -1.095102072 & 0.4602103 & 2.418996572 &  1.330233455 & 0.161567777 & 0e+00 & 0       & Méouane    \\\\\n",
       "\t THIES & Noto Gouye Diama  & Bagne bou reuye        & 1844 & 14.96952 & -17.03269 &  9.5000000 & 0  & 1  & 2 & ⋯ & -0.8649974 & 3 & -1.986653209 & 0.4602103 & 5.987140656 &  1.756175399 & 1.258111596 & 0e+00 & 0       & Pambal     \\\\\n",
       "\t THIES & Darou khoudoss    & Doulou Golo            & 1845 & 15.16259 & -16.88879 &  3.0000000 & 0  & 1  & 0 & ⋯ & -1.0986123 & 2 & -1.611546755 & 0.4602103 & 4.2921772   &  2.429927588 & 0.263101816 & 0e+00 & 1962000 & Méouane    \\\\\n",
       "\t THIES & Djender Guedji    & Wadiane                & 1847 & 14.89136 & -17.07847 &  1.0000000 & 0  & 1  & 0 & ⋯ &  0.0000000 & 1 & 0.215702042  & 0.4602103 & 0.059784271 &  0.211793482 & 0.046527371 & 0e+00 & 170000  & Keur Moussa\\\\\n",
       "\t THIES & Noto Gouye Diama  & Bagne bou reuye        & 1849 & 14.97082 & -17.03245 & 12.2500000 & 0  & 1  & 0 & ⋯ & -0.7137665 & 3 & -1.983115435 & 0.4602103 & 5.969840527 &  1.378221393 & 1.611246824 & 0e+00 & 1710000 & Pambal     \\\\\n",
       "\t THIES & Darou khoudoss    & Doulou Golo            & 1850 & 15.16373 & -16.88721 &  2.5000000 & 0  & 1  & 0 & ⋯ &  0.1823216 & 2 & -1.647382975 & 0.4602103 & 4.441949368 &  0.077222109 & 3.347818613 & 0e+00 & 0       & Méouane    \\\\\n",
       "\t THIES & Djender Guedji    & Wadiane                & 1854 & 14.89153 & -17.07876 &  1.0000000 & NA & NA & 0 & ⋯ &  0.0000000 & 1 & 0.207611904  & 0.4602103 & 0.06380593  &  0.211793482 & 0.0431027   & 0e+00 & 0       & Keur Moussa\\\\\n",
       "\t THIES & Noto Gouye Diama  & Bagne bou reuye        & 1858 & 14.96824 & -17.03982 &  4.0000000 & 0  & 1  & 0 & ⋯ & -0.2876821 & 2 & -0.993920326 & 0.4602103 & 2.114495754 &  0.559342921 & 0.498772442 & 0e+00 & 912400  & Pambal     \\\\\n",
       "\t THIES & Taiba Ndiaye      & Pallene                & 1859 & 15.06093 & -16.93969 &  0.5000000 & 0  & 0  & 0 & ⋯ &  1.3862944 & 1 & -0.094891824 & 0.4602103 & 0.308138341 &  0.857631743 & 2.193912506 & 0e+00 & 0       & Méouane    \\\\\n",
       "\t LOUGA & Diokoul Diawrigne & Beigne Penda           & 1862 & 15.50191 & -16.68670 &  0.0525000 & 0  & 1  & 0 & ⋯ &  3.6400893 & 1 & -2.294252634 & 0.4602103 & 7.587065697 & 10.111630440 & 35.21641541 & 0e+00 & 160000  & Ndande     \\\\\n",
       "\t THIES & Meouane           & BASSIN 16              & 1868 & 15.10538 & -16.82491 &  2.0000000 & 0  & 1  & 0 & ⋯ &  0.0000000 & 2 & -1.84889853  & 0.4602103 & 5.331983566 &  0.211793482 & 3.418425798 & 0e+00 & 1155000 & Méouane    \\\\\n",
       "\t DAKAR & Bambilor          & Ndirene                & 1870 & 14.81046 & -17.19417 &  1.0000000 & 0  & 0  & 0 & ⋯ &  1.3862944 & 1 & -0.090534873 & 0.4602103 & 0.303320199 &  0.857631743 & 2.181024551 & 0e+00 & 0       & Sangalkam  \\\\\n",
       "\t THIES & Noto Gouye Diama  & Diore                  & 1871 & 14.96940 & -17.03188 &  4.0000000 & 0  & 1  & 0 & ⋯ & -0.6931472 & 2 & -0.993973434 & 0.4602103 & 2.114650249 &  1.330233455 & 0.090496428 & 0e+00 & 795000  & Pambal     \\\\\n",
       "\t LOUGA & Diokoul Diawrigne & Lompoul village        & 1874 & 15.43390 & -16.68651 &  0.5835000 & 0  & 1  & 0 & ⋯ &  1.9250052 & 1 & -1.010688424 & 0.4602103 & 2.163542986 &  2.145624399 & 8.618297577 & 0e+00 & 482000  & Ndande     \\\\\n",
       "\t THIES & Noto Gouye Diama  & Ngadiaga               & 1880 & 14.95662 & -17.05144 &  3.5000000 & 0  & 1  & 0 & ⋯ &  0.5389965 & 2 & -0.900222063 & 0.4602103 & 1.850776076 &  0.006207273 & 2.071350098 & 5e+05 & 1112000 & Pambal     \\\\\n",
       "\t LOUGA & Thieppe           & RONY NDEUG 2           & 1882 & 15.48970 & -16.70052 &  2.2200000 & 0  & 1  & 0 & ⋯ &  0.5887871 & 2 & -3.097928524 & 0.4602103 & 12.66035175 &  0.016532019 & 13.59187222 & 0e+00 & 565000  & Ndande     \\\\\n",
       "\t ⋮ & ⋮ & ⋮ & ⋮ & ⋮ & ⋮ & ⋮ & ⋮ & ⋮ & ⋮ & ⋱ & ⋮ & ⋮ & ⋮ & ⋮ & ⋮ & ⋮ & ⋮ & ⋮ & ⋮ & ⋮\\\\\n",
       "\t THIES & Darou khoudoss    & koro               & 3066 & 15.09556 & -16.86611 &  0.7500000 & 0 & 1 & 0 & ⋯ &  0.2876821 & 1 & -0.570623398 & 0.4602103 & 1.062618017 & 0.029765967 & 0.736688375 &      0 & 0       & Méouane    \\\\\n",
       "\t LOUGA & Kab Gaye          & Kad Peulh          & 3069 & 15.36636 & -16.72495 &  0.1296789 & 0 & 1 & 0 & ⋯ &  2.0426939 & 1 & -1.977033019 & 0.4602103 & 5.940155029 & 2.504254580 & 16.15820503 &      0 & 0       & Ndande     \\\\\n",
       "\t THIES & Noto Gouye Diama  & Ndigaale           & 3077 & 14.93930 & -17.06597 &  0.7000000 & 0 & 1 & 0 & ⋯ &  1.0498221 & 1 & -0.068626866 & 0.4602103 & 0.279668719 & 0.347642064 & 1.250928044 &      0 & 0       & Pambal     \\\\\n",
       "\t LOUGA & Diokoul Diawrigne & Dakhar Demba Codou & 3079 & 15.41852 & -16.61128 &  0.2354000 & 0 & 1 & 0 & ⋯ &  2.1396163 & 1 & -1.309406757 & 0.4602103 & 3.131544352 & 2.820404530 & 11.89575958 &      0 & 263000  & Ndande     \\\\\n",
       "\t LOUGA & Kab Gaye          & MABOYE DIERI       & 3083 & 15.41411 & -16.71770 &  2.0000000 & 0 & 1 & 0 & ⋯ &  0.0000000 & 2 & -2.441445827 & 0.4602103 & 8.41960907  & 0.211793482 & 5.960658073 &      0 & 335000  & Ndande     \\\\\n",
       "\t THIES & Taiba Ndiaye      & Pallene            & 3086 & 15.06181 & -16.93892 &  2.0000000 & 0 & 0 & 0 & ⋯ &  0.0000000 & 2 & -1.104804397 & 0.4602103 & 2.449270964 & 0.211793482 & 1.220592856 &      0 & 585000  & Méouane    \\\\\n",
       "\t THIES & Darou khoudoss    & koro               & 3087 & 15.11346 & -16.86640 &  1.2500000 & 0 & 1 & 0 & ⋯ & -0.2231435 & 1 & -0.650884986 & 0.4602103 & 1.234532714 & 0.466972411 & 0.18296276  &      0 & 0       & Méouane    \\\\\n",
       "\t LOUGA & Kab Gaye          & Teurel             & 3088 & 15.39432 & -16.66138 &  0.0490000 & 0 & 1 & 0 & ⋯ &  3.0159349 & 1 & -1.070576549 & 0.4602103 & 2.34330821  & 6.531728745 & 16.69957542 &      0 & 0       & Ndande     \\\\\n",
       "\t THIES & Djender Guedji    & Wadiane            & 3093 & 14.85514 & -17.10083 &  1.5000000 & 0 & 1 & 0 & ⋯ & -0.4054651 & 1 & 0.094447292  & 0.4602103 & 0.133782551 & 0.749393821 & 0.249912381 &      0 & 0       & Keur Moussa\\\\\n",
       "\t LOUGA & Diokoul Diawrigne & Beigne Penda       & 3094 & 15.50185 & -16.68673 &  0.4252941 & 0 & 1 & 0 & ⋯ &  1.9535866 & 1 & -2.293070078 & 0.4602103 & 7.580552578 & 2.230172873 & 18.03409195 &      0 & 485000  & Ndande     \\\\\n",
       "\t THIES & Thies Nord        & TANGOR             & 3096 & 14.81910 & -16.95141 &  0.4921756 & 0 & 1 & 0 & ⋯ &  1.4020669 & 1 & -1.029376388 & 0.4602103 & 2.218868494 & 0.887094021 & 5.91191721  &      0 & 0       & Keur Moussa\\\\\n",
       "\t THIES & Djender Guedji    & MAISSAOU           & 3098 & 14.82744 & -17.08825 &  2.0000000 & 0 & 1 & 0 & ⋯ & -0.6931472 & 2 & -0.808354318 & 0.4602103 & 1.609256029 & 1.330233455 & 0.013272681 &      0 & 536000  & Keur Moussa\\\\\n",
       "\t LOUGA & Kab Gaye          & Tawa Peulh         & 3103 & 15.32304 & -16.73483 &  0.2878242 & 0 & 1 & 0 & ⋯ &  1.9385526 & 1 & -2.27962184  & 0.4602103 & 7.506680489 & 2.185496330 & 17.79299736 & 105000 & 199000  & Ndande     \\\\\n",
       "\t THIES & Djender Guedji    & Waygo              & 3104 & 14.86818 & -17.09445 &  2.0000000 & 0 & 1 & 0 & ⋯ & -0.6931472 & 2 & -0.909990847 & 0.4602103 & 1.877451062 & 1.330233455 & 0.047021169 &      0 & 395000  & Keur Moussa\\\\\n",
       "\t DAKAR & Sangalkam         & Tetiere            & 3110 & 14.81277 & -17.24865 &  0.6977778 & 0 & 1 & 0 & ⋯ &  1.4584668 & 1 & -0.357022554 & 0.4602103 & 0.667869449 & 0.996516109 & 3.296001434 &      0 & 0       & Sangalkam  \\\\\n",
       "\t LOUGA & Diokoul Diawrigne & Tound Maleye       & 3119 & 15.54262 & -16.62982 &  0.2200000 & 0 & 1 & 0 & ⋯ &  2.6127400 & 1 & -3.32190156  & 0.4602103 & 14.30437088 & 4.633384228 & 35.2199707  &      0 & 195000  & Ndande     \\\\\n",
       "\t THIES & Keur Moussa       & diorgui            & 3120 & 14.85916 & -17.04626 &  1.0000000 & 0 & 1 & 0 & ⋯ &  0.6931472 & 1 & -0.503877819 & 0.4602103 & 0.92946589  & 0.054259606 & 1.432868958 &      0 & 550000  & Pambal     \\\\\n",
       "\t THIES & Djender Guedji    & MAISSAOU           & 3125 & 14.82735 & -17.07490 &  2.0000000 & 0 & 1 & 0 & ⋯ &  0.4054651 & 2 & -1.050129533 & 0.4602103 & 2.281126261 & 0.002997032 & 2.118755817 &      0 & 620000  & Keur Moussa\\\\\n",
       "\t THIES & Noto Gouye Diama  & Bagne bou reuye    & 3132 & 14.96725 & -17.03832 &  2.0000000 & 0 & 1 & 0 & ⋯ & -0.6931472 & 2 & -0.965874255 & 0.4602103 & 2.033717155 & 1.330233455 & 0.074380063 &      0 & 0       & Pambal     \\\\\n",
       "\t LOUGA & Kab Gaye          & Lompoul Mer        & 3135 & 15.44345 & -16.73007 &  4.0000000 & 0 & 1 & 0 & ⋯ &  0.0000000 & 2 & -2.733397007 & 0.4602103 & 10.1991272  & 0.211793482 & 7.471458912 &      0 & 521000  & Ndande     \\\\\n",
       "\t THIES & Djender Guedji    & Beudeu             & 3142 & 14.88878 & -17.07827 &  4.0000000 & 0 & 1 & 0 & ⋯ & -0.6931472 & 2 & -0.770738065 & 0.4602103 & 1.515233874 & 1.330233455 & 0.00602035  &      0 & 505000  & Keur Moussa\\\\\n",
       "\t THIES & Noto Gouye Diama  & Ndigaale           & 3143 & 14.93878 & -17.05320 &  0.6846154 & 0 & 1 & 0 & ⋯ &  0.3788981 & 1 & 0.13172473   & 0.4602103 & 0.107902743 & 0.006611670 & 0.061094668 &      0 & 0       & Pambal     \\\\\n",
       "\t DAKAR & Sangalkam         & Maye               & 3146 & 14.88638 & -17.13618 & 14.9222221 & 0 & 1 & 0 & ⋯ & -2.0097044 & 3 & -1.827296734 & 0.4602103 & 5.23268795  & 6.100478172 & 0.033272531 &      0 & 1885000 & Keur Moussa\\\\\n",
       "\t THIES & Keur Moussa       & diorgui            & 3149 & 14.82910 & -17.03080 &  1.0000000 & 1 & 1 & 0 & ⋯ &  0.0000000 & 1 & -0.51206845  & 0.4602103 & 0.945325911 & 0.211793482 & 0.262214124 &      0 & 90000   & Pambal     \\\\\n",
       "\t THIES & Noto Gouye Diama  & Ndigaale           & 3153 & 14.93967 & -17.05458 &  0.5769231 & 0 & 1 & 0 & ⋯ &  0.5500463 & 1 & 0.106538951  & 0.4602103 & 0.125083402 & 0.008070522 & 0.1966988   &      0 & 110000  & Pambal     \\\\\n",
       "\t LOUGA & Diokoul Diawrigne & Lompoul village    & 3154 & 15.42413 & -16.66948 &  1.3567125 & 0 & 1 & 0 & ⋯ &  0.3880827 & 1 & -0.901470661 & 0.4602103 & 1.854174972 & 0.005202382 & 1.662947893 &      0 & 880000  & Ndande     \\\\\n",
       "\t LOUGA & Kab Gaye          & MABOYE DIERI       & 3155 & 15.41402 & -16.72075 &  1.0000000 & 0 & 1 & 0 & ⋯ &  0.6931472 & 1 & -1.48505044  & 0.4602103 & 3.784039021 & 0.054259606 & 4.744544506 &      0 & 245000  & Ndande     \\\\\n",
       "\t DAKAR & Sangalkam         & Ndiouki            & 3168 & 14.82214 & -17.28720 &  0.6600000 & 0 & 1 & 0 & ⋯ &  0.4155155 & 1 & -1.026758552 & 0.4602103 & 2.21107626  & 0.001997621 & 2.080154657 &      0 & 70500   & Sangalkam  \\\\\n",
       "\t THIES & Meouane           & BASSIN 16          & 3169 & 15.10493 & -16.82552 &  6.0000000 & 0 & 1 & 0 & ⋯ & -1.0986123 & 2 & -1.844511867 & 0.4602103 & 5.311744213 & 2.429927588 & 0.556366205 &      0 & 0       & Méouane    \\\\\n",
       "\t LOUGA & Kab Gaye          & Lompoul Mer        & 3172 & 15.44332 & -16.73071 &  3.5000000 & 0 & 1 & 0 & ⋯ &  0.1335314 & 2 & -2.742139816 & 0.4602103 & 10.25504589 & 0.106719054 & 8.26948452  &      0 & 575000  & Ndande     \\\\\n",
       "\\end{tabular}\n"
      ],
      "text/markdown": [
       "\n",
       "A tibble: 401 × 121\n",
       "\n",
       "| ville &lt;chr&gt; | commune &lt;chr&gt; | site &lt;chr&gt; | id &lt;dbl&gt; | latitude &lt;dbl&gt; | longitude &lt;dbl&gt; | suptotculm &lt;dbl&gt; | ratiosuplo &lt;chr&gt; | ratio_irr_ &lt;chr&gt; | nb_boeufs_ &lt;dbl&gt; | ⋯ ⋯ | log_trav_h &lt;dbl&gt; | surf_score &lt;dbl&gt; | y_hat &lt;chr&gt; | y_mean &lt;dbl&gt; | sse_i &lt;chr&gt; | sst_i &lt;dbl&gt; | ss_bis &lt;chr&gt; | credit &lt;dbl&gt; | capital &lt;chr&gt; | NOM &lt;chr&gt; |\n",
       "|---|---|---|---|---|---|---|---|---|---|---|---|---|---|---|---|---|---|---|---|---|\n",
       "| DAKAR | Bambilor          | Ndirene                | 1781 | 14.80999 | -17.18827 |  0.1000000 | 0  | 0  | 0 | ⋯ |  2.9957323 | 1 | 0.004973173  | 0.4602103 | 0.207240805 |  6.428871632 | 8.94464016  | 0e+00 | 0       | Sangalkam   |\n",
       "| THIES | Taiba Ndiaye      | Wangal                 | 1783 | 14.98524 | -16.92657 |  1.2500000 | 0  | 1  | 0 | ⋯ |  0.4700036 | 1 | -0.308731645 | 0.4602103 | 0.591271698 |  0.000095900 | 0.606428683 | 0e+00 | 0       | Méouane     |\n",
       "| LOUGA | Kab Gaye          | Darou Dia              | 1784 | 15.27758 | -16.62518 |  0.1800000 | 0  | 1  | 0 | ⋯ |  1.7147983 | 1 | -1.327292085 | 0.4602103 | 3.195164919 |  1.573991418 | 9.254314423 | 4e+04 | 31000   | Ndande      |\n",
       "| THIES | Noto Gouye Diama  | Bagne bou reuye        | 1785 | 14.96821 | -17.03665 |  3.5000000 | 0  | 1  | 0 | ⋯ | -0.1541507 | 2 | -0.965735734 | 0.4602103 | 2.033322096 |  0.377439350 | 0.658670306 | 0e+00 | 891000  | Pambal      |\n",
       "| LOUGA | Thieppe           | KHININE AMADOU BA      | 1788 | 15.46266 | -16.64911 |  1.0000000 | 0  | 1  | 0 | ⋯ |  0.6931472 | 1 | -1.729028821 | 0.4602103 | 4.792768002 |  0.054259606 | 5.866936684 | 0e+00 | 268000  | Ndande      |\n",
       "| THIES | Darou khoudoss    | Dioli                  | 1789 | 15.24794 | -16.80247 |  9.1751499 | 0  | 1  | 0 | ⋯ | -0.4247393 | 3 | -2.71914959  | 0.4602103 | 10.10832882 |  0.783135712 | 5.264318466 | 4e+05 | 0       | Méouane     |\n",
       "| THIES | Taiba Ndiaye      | Ndjidj                 | 1793 | 15.00203 | -16.91789 |  0.5000000 | 0  | 1  | 0 | ⋯ |  0.6931472 | 1 | -0.664806008 | 0.4602103 | 1.265661597 |  0.054259606 | 1.844036818 | 1e+05 | 367000  | Méouane     |\n",
       "| DAKAR | Sangalkam         | Khal Golo              | 1800 | 14.77593 | -17.24269 |  0.7022936 | 0  | 0  | 0 | ⋯ |  0.3534038 | 1 | -0.929431736 | 0.4602103 | 1.931105018 |  0.011407626 | 1.645667076 | 0e+00 | 140000  | Sangalkam   |\n",
       "| THIES | Darou khoudoss    | Khourou Taslim         | 1804 | 15.31338 | -16.77080 |  6.2833333 | 0  | 1  | 0 | ⋯ | -0.4516062 | 3 | -3.740627766 | 0.4602103 | 17.64704132 |  0.831409335 | 10.81766319 | 0e+00 | 0       | Ndande      |\n",
       "| THIES | Taiba Ndiaye      | Pallene                | 1808 | 15.06311 | -16.93855 |  3.4000001 | 0  | 1  | 0 | ⋯ | -0.5306283 | 2 | -1.120585203 | 0.4602103 | 2.498914242 |  0.981761098 | 0.348049134 | 0e+00 | 601000  | Méouane     |\n",
       "| THIES | Noto Gouye Diama  | Kackene                | 1816 | 14.99337 | -17.00882 |  1.5000000 | 0  | 1  | 0 | ⋯ |  0.2876821 | 1 | -0.035261791 | 0.4602103 | 0.245492563 |  0.029765967 | 0.104292758 | 0e+00 | 0       | Pambal      |\n",
       "| THIES | Noto Gouye Diama  | Ngadiaga               | 1817 | 14.95602 | -17.05038 |  9.5000000 | 0  | 1  | 0 | ⋯ | -0.8649974 | 3 | -1.885874391 | 0.4602103 | 5.504113197 |  1.756175399 | 1.042189717 | 0e+00 | 2336500 | Pambal      |\n",
       "| LOUGA | Diokoul Diawrigne | Ndiawrigne Mame Mousse | 1821 | 15.39544 | -16.61397 |  0.0400000 | 0  | 1  | 0 | ⋯ |  3.9120231 | 1 | -0.855792642 | 0.4602103 | 1.731863737 | 11.915011410 | 22.73206711 | 0e+00 | 0       | Ndande      |\n",
       "| THIES | Noto Gouye Diama  | Bagne bou reuye        | 1840 | 14.96750 | -17.03821 |  3.0000000 | 0  | 1  | 1 | ⋯ | -1.0986123 | 2 | -0.968615651 | 0.4602103 | 2.041543484 |  2.429927588 | 0.016899122 | 0e+00 | 521900  | Pambal      |\n",
       "| THIES | Taiba Ndiaye      | Pallene                | 1842 | 15.05914 | -16.94169 |  6.0000000 | 0  | 0  | 0 | ⋯ | -0.6931472 | 2 | -1.095102072 | 0.4602103 | 2.418996572 |  1.330233455 | 0.161567777 | 0e+00 | 0       | Méouane     |\n",
       "| THIES | Noto Gouye Diama  | Bagne bou reuye        | 1844 | 14.96952 | -17.03269 |  9.5000000 | 0  | 1  | 2 | ⋯ | -0.8649974 | 3 | -1.986653209 | 0.4602103 | 5.987140656 |  1.756175399 | 1.258111596 | 0e+00 | 0       | Pambal      |\n",
       "| THIES | Darou khoudoss    | Doulou Golo            | 1845 | 15.16259 | -16.88879 |  3.0000000 | 0  | 1  | 0 | ⋯ | -1.0986123 | 2 | -1.611546755 | 0.4602103 | 4.2921772   |  2.429927588 | 0.263101816 | 0e+00 | 1962000 | Méouane     |\n",
       "| THIES | Djender Guedji    | Wadiane                | 1847 | 14.89136 | -17.07847 |  1.0000000 | 0  | 1  | 0 | ⋯ |  0.0000000 | 1 | 0.215702042  | 0.4602103 | 0.059784271 |  0.211793482 | 0.046527371 | 0e+00 | 170000  | Keur Moussa |\n",
       "| THIES | Noto Gouye Diama  | Bagne bou reuye        | 1849 | 14.97082 | -17.03245 | 12.2500000 | 0  | 1  | 0 | ⋯ | -0.7137665 | 3 | -1.983115435 | 0.4602103 | 5.969840527 |  1.378221393 | 1.611246824 | 0e+00 | 1710000 | Pambal      |\n",
       "| THIES | Darou khoudoss    | Doulou Golo            | 1850 | 15.16373 | -16.88721 |  2.5000000 | 0  | 1  | 0 | ⋯ |  0.1823216 | 2 | -1.647382975 | 0.4602103 | 4.441949368 |  0.077222109 | 3.347818613 | 0e+00 | 0       | Méouane     |\n",
       "| THIES | Djender Guedji    | Wadiane                | 1854 | 14.89153 | -17.07876 |  1.0000000 | NA | NA | 0 | ⋯ |  0.0000000 | 1 | 0.207611904  | 0.4602103 | 0.06380593  |  0.211793482 | 0.0431027   | 0e+00 | 0       | Keur Moussa |\n",
       "| THIES | Noto Gouye Diama  | Bagne bou reuye        | 1858 | 14.96824 | -17.03982 |  4.0000000 | 0  | 1  | 0 | ⋯ | -0.2876821 | 2 | -0.993920326 | 0.4602103 | 2.114495754 |  0.559342921 | 0.498772442 | 0e+00 | 912400  | Pambal      |\n",
       "| THIES | Taiba Ndiaye      | Pallene                | 1859 | 15.06093 | -16.93969 |  0.5000000 | 0  | 0  | 0 | ⋯ |  1.3862944 | 1 | -0.094891824 | 0.4602103 | 0.308138341 |  0.857631743 | 2.193912506 | 0e+00 | 0       | Méouane     |\n",
       "| LOUGA | Diokoul Diawrigne | Beigne Penda           | 1862 | 15.50191 | -16.68670 |  0.0525000 | 0  | 1  | 0 | ⋯ |  3.6400893 | 1 | -2.294252634 | 0.4602103 | 7.587065697 | 10.111630440 | 35.21641541 | 0e+00 | 160000  | Ndande      |\n",
       "| THIES | Meouane           | BASSIN 16              | 1868 | 15.10538 | -16.82491 |  2.0000000 | 0  | 1  | 0 | ⋯ |  0.0000000 | 2 | -1.84889853  | 0.4602103 | 5.331983566 |  0.211793482 | 3.418425798 | 0e+00 | 1155000 | Méouane     |\n",
       "| DAKAR | Bambilor          | Ndirene                | 1870 | 14.81046 | -17.19417 |  1.0000000 | 0  | 0  | 0 | ⋯ |  1.3862944 | 1 | -0.090534873 | 0.4602103 | 0.303320199 |  0.857631743 | 2.181024551 | 0e+00 | 0       | Sangalkam   |\n",
       "| THIES | Noto Gouye Diama  | Diore                  | 1871 | 14.96940 | -17.03188 |  4.0000000 | 0  | 1  | 0 | ⋯ | -0.6931472 | 2 | -0.993973434 | 0.4602103 | 2.114650249 |  1.330233455 | 0.090496428 | 0e+00 | 795000  | Pambal      |\n",
       "| LOUGA | Diokoul Diawrigne | Lompoul village        | 1874 | 15.43390 | -16.68651 |  0.5835000 | 0  | 1  | 0 | ⋯ |  1.9250052 | 1 | -1.010688424 | 0.4602103 | 2.163542986 |  2.145624399 | 8.618297577 | 0e+00 | 482000  | Ndande      |\n",
       "| THIES | Noto Gouye Diama  | Ngadiaga               | 1880 | 14.95662 | -17.05144 |  3.5000000 | 0  | 1  | 0 | ⋯ |  0.5389965 | 2 | -0.900222063 | 0.4602103 | 1.850776076 |  0.006207273 | 2.071350098 | 5e+05 | 1112000 | Pambal      |\n",
       "| LOUGA | Thieppe           | RONY NDEUG 2           | 1882 | 15.48970 | -16.70052 |  2.2200000 | 0  | 1  | 0 | ⋯ |  0.5887871 | 2 | -3.097928524 | 0.4602103 | 12.66035175 |  0.016532019 | 13.59187222 | 0e+00 | 565000  | Ndande      |\n",
       "| ⋮ | ⋮ | ⋮ | ⋮ | ⋮ | ⋮ | ⋮ | ⋮ | ⋮ | ⋮ | ⋱ | ⋮ | ⋮ | ⋮ | ⋮ | ⋮ | ⋮ | ⋮ | ⋮ | ⋮ | ⋮ |\n",
       "| THIES | Darou khoudoss    | koro               | 3066 | 15.09556 | -16.86611 |  0.7500000 | 0 | 1 | 0 | ⋯ |  0.2876821 | 1 | -0.570623398 | 0.4602103 | 1.062618017 | 0.029765967 | 0.736688375 |      0 | 0       | Méouane     |\n",
       "| LOUGA | Kab Gaye          | Kad Peulh          | 3069 | 15.36636 | -16.72495 |  0.1296789 | 0 | 1 | 0 | ⋯ |  2.0426939 | 1 | -1.977033019 | 0.4602103 | 5.940155029 | 2.504254580 | 16.15820503 |      0 | 0       | Ndande      |\n",
       "| THIES | Noto Gouye Diama  | Ndigaale           | 3077 | 14.93930 | -17.06597 |  0.7000000 | 0 | 1 | 0 | ⋯ |  1.0498221 | 1 | -0.068626866 | 0.4602103 | 0.279668719 | 0.347642064 | 1.250928044 |      0 | 0       | Pambal      |\n",
       "| LOUGA | Diokoul Diawrigne | Dakhar Demba Codou | 3079 | 15.41852 | -16.61128 |  0.2354000 | 0 | 1 | 0 | ⋯ |  2.1396163 | 1 | -1.309406757 | 0.4602103 | 3.131544352 | 2.820404530 | 11.89575958 |      0 | 263000  | Ndande      |\n",
       "| LOUGA | Kab Gaye          | MABOYE DIERI       | 3083 | 15.41411 | -16.71770 |  2.0000000 | 0 | 1 | 0 | ⋯ |  0.0000000 | 2 | -2.441445827 | 0.4602103 | 8.41960907  | 0.211793482 | 5.960658073 |      0 | 335000  | Ndande      |\n",
       "| THIES | Taiba Ndiaye      | Pallene            | 3086 | 15.06181 | -16.93892 |  2.0000000 | 0 | 0 | 0 | ⋯ |  0.0000000 | 2 | -1.104804397 | 0.4602103 | 2.449270964 | 0.211793482 | 1.220592856 |      0 | 585000  | Méouane     |\n",
       "| THIES | Darou khoudoss    | koro               | 3087 | 15.11346 | -16.86640 |  1.2500000 | 0 | 1 | 0 | ⋯ | -0.2231435 | 1 | -0.650884986 | 0.4602103 | 1.234532714 | 0.466972411 | 0.18296276  |      0 | 0       | Méouane     |\n",
       "| LOUGA | Kab Gaye          | Teurel             | 3088 | 15.39432 | -16.66138 |  0.0490000 | 0 | 1 | 0 | ⋯ |  3.0159349 | 1 | -1.070576549 | 0.4602103 | 2.34330821  | 6.531728745 | 16.69957542 |      0 | 0       | Ndande      |\n",
       "| THIES | Djender Guedji    | Wadiane            | 3093 | 14.85514 | -17.10083 |  1.5000000 | 0 | 1 | 0 | ⋯ | -0.4054651 | 1 | 0.094447292  | 0.4602103 | 0.133782551 | 0.749393821 | 0.249912381 |      0 | 0       | Keur Moussa |\n",
       "| LOUGA | Diokoul Diawrigne | Beigne Penda       | 3094 | 15.50185 | -16.68673 |  0.4252941 | 0 | 1 | 0 | ⋯ |  1.9535866 | 1 | -2.293070078 | 0.4602103 | 7.580552578 | 2.230172873 | 18.03409195 |      0 | 485000  | Ndande      |\n",
       "| THIES | Thies Nord        | TANGOR             | 3096 | 14.81910 | -16.95141 |  0.4921756 | 0 | 1 | 0 | ⋯ |  1.4020669 | 1 | -1.029376388 | 0.4602103 | 2.218868494 | 0.887094021 | 5.91191721  |      0 | 0       | Keur Moussa |\n",
       "| THIES | Djender Guedji    | MAISSAOU           | 3098 | 14.82744 | -17.08825 |  2.0000000 | 0 | 1 | 0 | ⋯ | -0.6931472 | 2 | -0.808354318 | 0.4602103 | 1.609256029 | 1.330233455 | 0.013272681 |      0 | 536000  | Keur Moussa |\n",
       "| LOUGA | Kab Gaye          | Tawa Peulh         | 3103 | 15.32304 | -16.73483 |  0.2878242 | 0 | 1 | 0 | ⋯ |  1.9385526 | 1 | -2.27962184  | 0.4602103 | 7.506680489 | 2.185496330 | 17.79299736 | 105000 | 199000  | Ndande      |\n",
       "| THIES | Djender Guedji    | Waygo              | 3104 | 14.86818 | -17.09445 |  2.0000000 | 0 | 1 | 0 | ⋯ | -0.6931472 | 2 | -0.909990847 | 0.4602103 | 1.877451062 | 1.330233455 | 0.047021169 |      0 | 395000  | Keur Moussa |\n",
       "| DAKAR | Sangalkam         | Tetiere            | 3110 | 14.81277 | -17.24865 |  0.6977778 | 0 | 1 | 0 | ⋯ |  1.4584668 | 1 | -0.357022554 | 0.4602103 | 0.667869449 | 0.996516109 | 3.296001434 |      0 | 0       | Sangalkam   |\n",
       "| LOUGA | Diokoul Diawrigne | Tound Maleye       | 3119 | 15.54262 | -16.62982 |  0.2200000 | 0 | 1 | 0 | ⋯ |  2.6127400 | 1 | -3.32190156  | 0.4602103 | 14.30437088 | 4.633384228 | 35.2199707  |      0 | 195000  | Ndande      |\n",
       "| THIES | Keur Moussa       | diorgui            | 3120 | 14.85916 | -17.04626 |  1.0000000 | 0 | 1 | 0 | ⋯ |  0.6931472 | 1 | -0.503877819 | 0.4602103 | 0.92946589  | 0.054259606 | 1.432868958 |      0 | 550000  | Pambal      |\n",
       "| THIES | Djender Guedji    | MAISSAOU           | 3125 | 14.82735 | -17.07490 |  2.0000000 | 0 | 1 | 0 | ⋯ |  0.4054651 | 2 | -1.050129533 | 0.4602103 | 2.281126261 | 0.002997032 | 2.118755817 |      0 | 620000  | Keur Moussa |\n",
       "| THIES | Noto Gouye Diama  | Bagne bou reuye    | 3132 | 14.96725 | -17.03832 |  2.0000000 | 0 | 1 | 0 | ⋯ | -0.6931472 | 2 | -0.965874255 | 0.4602103 | 2.033717155 | 1.330233455 | 0.074380063 |      0 | 0       | Pambal      |\n",
       "| LOUGA | Kab Gaye          | Lompoul Mer        | 3135 | 15.44345 | -16.73007 |  4.0000000 | 0 | 1 | 0 | ⋯ |  0.0000000 | 2 | -2.733397007 | 0.4602103 | 10.1991272  | 0.211793482 | 7.471458912 |      0 | 521000  | Ndande      |\n",
       "| THIES | Djender Guedji    | Beudeu             | 3142 | 14.88878 | -17.07827 |  4.0000000 | 0 | 1 | 0 | ⋯ | -0.6931472 | 2 | -0.770738065 | 0.4602103 | 1.515233874 | 1.330233455 | 0.00602035  |      0 | 505000  | Keur Moussa |\n",
       "| THIES | Noto Gouye Diama  | Ndigaale           | 3143 | 14.93878 | -17.05320 |  0.6846154 | 0 | 1 | 0 | ⋯ |  0.3788981 | 1 | 0.13172473   | 0.4602103 | 0.107902743 | 0.006611670 | 0.061094668 |      0 | 0       | Pambal      |\n",
       "| DAKAR | Sangalkam         | Maye               | 3146 | 14.88638 | -17.13618 | 14.9222221 | 0 | 1 | 0 | ⋯ | -2.0097044 | 3 | -1.827296734 | 0.4602103 | 5.23268795  | 6.100478172 | 0.033272531 |      0 | 1885000 | Keur Moussa |\n",
       "| THIES | Keur Moussa       | diorgui            | 3149 | 14.82910 | -17.03080 |  1.0000000 | 1 | 1 | 0 | ⋯ |  0.0000000 | 1 | -0.51206845  | 0.4602103 | 0.945325911 | 0.211793482 | 0.262214124 |      0 | 90000   | Pambal      |\n",
       "| THIES | Noto Gouye Diama  | Ndigaale           | 3153 | 14.93967 | -17.05458 |  0.5769231 | 0 | 1 | 0 | ⋯ |  0.5500463 | 1 | 0.106538951  | 0.4602103 | 0.125083402 | 0.008070522 | 0.1966988   |      0 | 110000  | Pambal      |\n",
       "| LOUGA | Diokoul Diawrigne | Lompoul village    | 3154 | 15.42413 | -16.66948 |  1.3567125 | 0 | 1 | 0 | ⋯ |  0.3880827 | 1 | -0.901470661 | 0.4602103 | 1.854174972 | 0.005202382 | 1.662947893 |      0 | 880000  | Ndande      |\n",
       "| LOUGA | Kab Gaye          | MABOYE DIERI       | 3155 | 15.41402 | -16.72075 |  1.0000000 | 0 | 1 | 0 | ⋯ |  0.6931472 | 1 | -1.48505044  | 0.4602103 | 3.784039021 | 0.054259606 | 4.744544506 |      0 | 245000  | Ndande      |\n",
       "| DAKAR | Sangalkam         | Ndiouki            | 3168 | 14.82214 | -17.28720 |  0.6600000 | 0 | 1 | 0 | ⋯ |  0.4155155 | 1 | -1.026758552 | 0.4602103 | 2.21107626  | 0.001997621 | 2.080154657 |      0 | 70500   | Sangalkam   |\n",
       "| THIES | Meouane           | BASSIN 16          | 3169 | 15.10493 | -16.82552 |  6.0000000 | 0 | 1 | 0 | ⋯ | -1.0986123 | 2 | -1.844511867 | 0.4602103 | 5.311744213 | 2.429927588 | 0.556366205 |      0 | 0       | Méouane     |\n",
       "| LOUGA | Kab Gaye          | Lompoul Mer        | 3172 | 15.44332 | -16.73071 |  3.5000000 | 0 | 1 | 0 | ⋯ |  0.1335314 | 2 | -2.742139816 | 0.4602103 | 10.25504589 | 0.106719054 | 8.26948452  |      0 | 575000  | Ndande      |\n",
       "\n"
      ],
      "text/plain": [
       "    ville commune           site                   id   latitude longitude\n",
       "1   DAKAR Bambilor          Ndirene                1781 14.80999 -17.18827\n",
       "2   THIES Taiba Ndiaye      Wangal                 1783 14.98524 -16.92657\n",
       "3   LOUGA Kab Gaye          Darou Dia              1784 15.27758 -16.62518\n",
       "4   THIES Noto Gouye Diama  Bagne bou reuye        1785 14.96821 -17.03665\n",
       "5   LOUGA Thieppe           KHININE AMADOU BA      1788 15.46266 -16.64911\n",
       "6   THIES Darou khoudoss    Dioli                  1789 15.24794 -16.80247\n",
       "7   THIES Taiba Ndiaye      Ndjidj                 1793 15.00203 -16.91789\n",
       "8   DAKAR Sangalkam         Khal Golo              1800 14.77593 -17.24269\n",
       "9   THIES Darou khoudoss    Khourou Taslim         1804 15.31338 -16.77080\n",
       "10  THIES Taiba Ndiaye      Pallene                1808 15.06311 -16.93855\n",
       "11  THIES Noto Gouye Diama  Kackene                1816 14.99337 -17.00882\n",
       "12  THIES Noto Gouye Diama  Ngadiaga               1817 14.95602 -17.05038\n",
       "13  LOUGA Diokoul Diawrigne Ndiawrigne Mame Mousse 1821 15.39544 -16.61397\n",
       "14  THIES Noto Gouye Diama  Bagne bou reuye        1840 14.96750 -17.03821\n",
       "15  THIES Taiba Ndiaye      Pallene                1842 15.05914 -16.94169\n",
       "16  THIES Noto Gouye Diama  Bagne bou reuye        1844 14.96952 -17.03269\n",
       "17  THIES Darou khoudoss    Doulou Golo            1845 15.16259 -16.88879\n",
       "18  THIES Djender Guedji    Wadiane                1847 14.89136 -17.07847\n",
       "19  THIES Noto Gouye Diama  Bagne bou reuye        1849 14.97082 -17.03245\n",
       "20  THIES Darou khoudoss    Doulou Golo            1850 15.16373 -16.88721\n",
       "21  THIES Djender Guedji    Wadiane                1854 14.89153 -17.07876\n",
       "22  THIES Noto Gouye Diama  Bagne bou reuye        1858 14.96824 -17.03982\n",
       "23  THIES Taiba Ndiaye      Pallene                1859 15.06093 -16.93969\n",
       "24  LOUGA Diokoul Diawrigne Beigne Penda           1862 15.50191 -16.68670\n",
       "25  THIES Meouane           BASSIN 16              1868 15.10538 -16.82491\n",
       "26  DAKAR Bambilor          Ndirene                1870 14.81046 -17.19417\n",
       "27  THIES Noto Gouye Diama  Diore                  1871 14.96940 -17.03188\n",
       "28  LOUGA Diokoul Diawrigne Lompoul village        1874 15.43390 -16.68651\n",
       "29  THIES Noto Gouye Diama  Ngadiaga               1880 14.95662 -17.05144\n",
       "30  LOUGA Thieppe           RONY NDEUG 2           1882 15.48970 -16.70052\n",
       "<U+22EE>   <U+22EE> <U+22EE>          <U+22EE>               <U+22EE> <U+22EE> <U+22EE> \n",
       "372 THIES Darou khoudoss    koro                   3066 15.09556 -16.86611\n",
       "373 LOUGA Kab Gaye          Kad Peulh              3069 15.36636 -16.72495\n",
       "374 THIES Noto Gouye Diama  Ndigaale               3077 14.93930 -17.06597\n",
       "375 LOUGA Diokoul Diawrigne Dakhar Demba Codou     3079 15.41852 -16.61128\n",
       "376 LOUGA Kab Gaye          MABOYE DIERI           3083 15.41411 -16.71770\n",
       "377 THIES Taiba Ndiaye      Pallene                3086 15.06181 -16.93892\n",
       "378 THIES Darou khoudoss    koro                   3087 15.11346 -16.86640\n",
       "379 LOUGA Kab Gaye          Teurel                 3088 15.39432 -16.66138\n",
       "380 THIES Djender Guedji    Wadiane                3093 14.85514 -17.10083\n",
       "381 LOUGA Diokoul Diawrigne Beigne Penda           3094 15.50185 -16.68673\n",
       "382 THIES Thies Nord        TANGOR                 3096 14.81910 -16.95141\n",
       "383 THIES Djender Guedji    MAISSAOU               3098 14.82744 -17.08825\n",
       "384 LOUGA Kab Gaye          Tawa Peulh             3103 15.32304 -16.73483\n",
       "385 THIES Djender Guedji    Waygo                  3104 14.86818 -17.09445\n",
       "386 DAKAR Sangalkam         Tetiere                3110 14.81277 -17.24865\n",
       "387 LOUGA Diokoul Diawrigne Tound Maleye           3119 15.54262 -16.62982\n",
       "388 THIES Keur Moussa       diorgui                3120 14.85916 -17.04626\n",
       "389 THIES Djender Guedji    MAISSAOU               3125 14.82735 -17.07490\n",
       "390 THIES Noto Gouye Diama  Bagne bou reuye        3132 14.96725 -17.03832\n",
       "391 LOUGA Kab Gaye          Lompoul Mer            3135 15.44345 -16.73007\n",
       "392 THIES Djender Guedji    Beudeu                 3142 14.88878 -17.07827\n",
       "393 THIES Noto Gouye Diama  Ndigaale               3143 14.93878 -17.05320\n",
       "394 DAKAR Sangalkam         Maye                   3146 14.88638 -17.13618\n",
       "395 THIES Keur Moussa       diorgui                3149 14.82910 -17.03080\n",
       "396 THIES Noto Gouye Diama  Ndigaale               3153 14.93967 -17.05458\n",
       "397 LOUGA Diokoul Diawrigne Lompoul village        3154 15.42413 -16.66948\n",
       "398 LOUGA Kab Gaye          MABOYE DIERI           3155 15.41402 -16.72075\n",
       "399 DAKAR Sangalkam         Ndiouki                3168 14.82214 -17.28720\n",
       "400 THIES Meouane           BASSIN 16              3169 15.10493 -16.82552\n",
       "401 LOUGA Kab Gaye          Lompoul Mer            3172 15.44332 -16.73071\n",
       "    suptotculm ratiosuplo ratio_irr_ nb_boeufs_ <U+22EF>        log_trav_h surf_score\n",
       "1    0.1000000 0          0          0          <U+22EF>  2.9957323 1         \n",
       "2    1.2500000 0          1          0          <U+22EF>  0.4700036 1         \n",
       "3    0.1800000 0          1          0          <U+22EF>  1.7147983 1         \n",
       "4    3.5000000 0          1          0          <U+22EF> -0.1541507 2         \n",
       "5    1.0000000 0          1          0          <U+22EF>  0.6931472 1         \n",
       "6    9.1751499 0          1          0          <U+22EF> -0.4247393 3         \n",
       "7    0.5000000 0          1          0          <U+22EF>  0.6931472 1         \n",
       "8    0.7022936 0          0          0          <U+22EF>  0.3534038 1         \n",
       "9    6.2833333 0          1          0          <U+22EF> -0.4516062 3         \n",
       "10   3.4000001 0          1          0          <U+22EF> -0.5306283 2         \n",
       "11   1.5000000 0          1          0          <U+22EF>  0.2876821 1         \n",
       "12   9.5000000 0          1          0          <U+22EF> -0.8649974 3         \n",
       "13   0.0400000 0          1          0          <U+22EF>  3.9120231 1         \n",
       "14   3.0000000 0          1          1          <U+22EF> -1.0986123 2         \n",
       "15   6.0000000 0          0          0          <U+22EF> -0.6931472 2         \n",
       "16   9.5000000 0          1          2          <U+22EF> -0.8649974 3         \n",
       "17   3.0000000 0          1          0          <U+22EF> -1.0986123 2         \n",
       "18   1.0000000 0          1          0          <U+22EF>  0.0000000 1         \n",
       "19  12.2500000 0          1          0          <U+22EF> -0.7137665 3         \n",
       "20   2.5000000 0          1          0          <U+22EF>  0.1823216 2         \n",
       "21   1.0000000 NA         NA         0          <U+22EF>  0.0000000 1         \n",
       "22   4.0000000 0          1          0          <U+22EF> -0.2876821 2         \n",
       "23   0.5000000 0          0          0          <U+22EF>  1.3862944 1         \n",
       "24   0.0525000 0          1          0          <U+22EF>  3.6400893 1         \n",
       "25   2.0000000 0          1          0          <U+22EF>  0.0000000 2         \n",
       "26   1.0000000 0          0          0          <U+22EF>  1.3862944 1         \n",
       "27   4.0000000 0          1          0          <U+22EF> -0.6931472 2         \n",
       "28   0.5835000 0          1          0          <U+22EF>  1.9250052 1         \n",
       "29   3.5000000 0          1          0          <U+22EF>  0.5389965 2         \n",
       "30   2.2200000 0          1          0          <U+22EF>  0.5887871 2         \n",
       "<U+22EE>   <U+22EE>   <U+22EE>   <U+22EE>   <U+22EE>   <U+22F1> <U+22EE>   <U+22EE>  \n",
       "372  0.7500000 0          1          0          <U+22EF>  0.2876821 1         \n",
       "373  0.1296789 0          1          0          <U+22EF>  2.0426939 1         \n",
       "374  0.7000000 0          1          0          <U+22EF>  1.0498221 1         \n",
       "375  0.2354000 0          1          0          <U+22EF>  2.1396163 1         \n",
       "376  2.0000000 0          1          0          <U+22EF>  0.0000000 2         \n",
       "377  2.0000000 0          0          0          <U+22EF>  0.0000000 2         \n",
       "378  1.2500000 0          1          0          <U+22EF> -0.2231435 1         \n",
       "379  0.0490000 0          1          0          <U+22EF>  3.0159349 1         \n",
       "380  1.5000000 0          1          0          <U+22EF> -0.4054651 1         \n",
       "381  0.4252941 0          1          0          <U+22EF>  1.9535866 1         \n",
       "382  0.4921756 0          1          0          <U+22EF>  1.4020669 1         \n",
       "383  2.0000000 0          1          0          <U+22EF> -0.6931472 2         \n",
       "384  0.2878242 0          1          0          <U+22EF>  1.9385526 1         \n",
       "385  2.0000000 0          1          0          <U+22EF> -0.6931472 2         \n",
       "386  0.6977778 0          1          0          <U+22EF>  1.4584668 1         \n",
       "387  0.2200000 0          1          0          <U+22EF>  2.6127400 1         \n",
       "388  1.0000000 0          1          0          <U+22EF>  0.6931472 1         \n",
       "389  2.0000000 0          1          0          <U+22EF>  0.4054651 2         \n",
       "390  2.0000000 0          1          0          <U+22EF> -0.6931472 2         \n",
       "391  4.0000000 0          1          0          <U+22EF>  0.0000000 2         \n",
       "392  4.0000000 0          1          0          <U+22EF> -0.6931472 2         \n",
       "393  0.6846154 0          1          0          <U+22EF>  0.3788981 1         \n",
       "394 14.9222221 0          1          0          <U+22EF> -2.0097044 3         \n",
       "395  1.0000000 1          1          0          <U+22EF>  0.0000000 1         \n",
       "396  0.5769231 0          1          0          <U+22EF>  0.5500463 1         \n",
       "397  1.3567125 0          1          0          <U+22EF>  0.3880827 1         \n",
       "398  1.0000000 0          1          0          <U+22EF>  0.6931472 1         \n",
       "399  0.6600000 0          1          0          <U+22EF>  0.4155155 1         \n",
       "400  6.0000000 0          1          0          <U+22EF> -1.0986123 2         \n",
       "401  3.5000000 0          1          0          <U+22EF>  0.1335314 2         \n",
       "    y_hat        y_mean    sse_i       sst_i        ss_bis      credit capital\n",
       "1   0.004973173  0.4602103 0.207240805  6.428871632 8.94464016  0e+00  0      \n",
       "2   -0.308731645 0.4602103 0.591271698  0.000095900 0.606428683 0e+00  0      \n",
       "3   -1.327292085 0.4602103 3.195164919  1.573991418 9.254314423 4e+04  31000  \n",
       "4   -0.965735734 0.4602103 2.033322096  0.377439350 0.658670306 0e+00  891000 \n",
       "5   -1.729028821 0.4602103 4.792768002  0.054259606 5.866936684 0e+00  268000 \n",
       "6   -2.71914959  0.4602103 10.10832882  0.783135712 5.264318466 4e+05  0      \n",
       "7   -0.664806008 0.4602103 1.265661597  0.054259606 1.844036818 1e+05  367000 \n",
       "8   -0.929431736 0.4602103 1.931105018  0.011407626 1.645667076 0e+00  140000 \n",
       "9   -3.740627766 0.4602103 17.64704132  0.831409335 10.81766319 0e+00  0      \n",
       "10  -1.120585203 0.4602103 2.498914242  0.981761098 0.348049134 0e+00  601000 \n",
       "11  -0.035261791 0.4602103 0.245492563  0.029765967 0.104292758 0e+00  0      \n",
       "12  -1.885874391 0.4602103 5.504113197  1.756175399 1.042189717 0e+00  2336500\n",
       "13  -0.855792642 0.4602103 1.731863737 11.915011410 22.73206711 0e+00  0      \n",
       "14  -0.968615651 0.4602103 2.041543484  2.429927588 0.016899122 0e+00  521900 \n",
       "15  -1.095102072 0.4602103 2.418996572  1.330233455 0.161567777 0e+00  0      \n",
       "16  -1.986653209 0.4602103 5.987140656  1.756175399 1.258111596 0e+00  0      \n",
       "17  -1.611546755 0.4602103 4.2921772    2.429927588 0.263101816 0e+00  1962000\n",
       "18  0.215702042  0.4602103 0.059784271  0.211793482 0.046527371 0e+00  170000 \n",
       "19  -1.983115435 0.4602103 5.969840527  1.378221393 1.611246824 0e+00  1710000\n",
       "20  -1.647382975 0.4602103 4.441949368  0.077222109 3.347818613 0e+00  0      \n",
       "21  0.207611904  0.4602103 0.06380593   0.211793482 0.0431027   0e+00  0      \n",
       "22  -0.993920326 0.4602103 2.114495754  0.559342921 0.498772442 0e+00  912400 \n",
       "23  -0.094891824 0.4602103 0.308138341  0.857631743 2.193912506 0e+00  0      \n",
       "24  -2.294252634 0.4602103 7.587065697 10.111630440 35.21641541 0e+00  160000 \n",
       "25  -1.84889853  0.4602103 5.331983566  0.211793482 3.418425798 0e+00  1155000\n",
       "26  -0.090534873 0.4602103 0.303320199  0.857631743 2.181024551 0e+00  0      \n",
       "27  -0.993973434 0.4602103 2.114650249  1.330233455 0.090496428 0e+00  795000 \n",
       "28  -1.010688424 0.4602103 2.163542986  2.145624399 8.618297577 0e+00  482000 \n",
       "29  -0.900222063 0.4602103 1.850776076  0.006207273 2.071350098 5e+05  1112000\n",
       "30  -3.097928524 0.4602103 12.66035175  0.016532019 13.59187222 0e+00  565000 \n",
       "<U+22EE>   <U+22EE>     <U+22EE>  <U+22EE>    <U+22EE>     <U+22EE>    <U+22EE> <U+22EE>\n",
       "372 -0.570623398 0.4602103 1.062618017 0.029765967  0.736688375      0 0      \n",
       "373 -1.977033019 0.4602103 5.940155029 2.504254580  16.15820503      0 0      \n",
       "374 -0.068626866 0.4602103 0.279668719 0.347642064  1.250928044      0 0      \n",
       "375 -1.309406757 0.4602103 3.131544352 2.820404530  11.89575958      0 263000 \n",
       "376 -2.441445827 0.4602103 8.41960907  0.211793482  5.960658073      0 335000 \n",
       "377 -1.104804397 0.4602103 2.449270964 0.211793482  1.220592856      0 585000 \n",
       "378 -0.650884986 0.4602103 1.234532714 0.466972411  0.18296276       0 0      \n",
       "379 -1.070576549 0.4602103 2.34330821  6.531728745  16.69957542      0 0      \n",
       "380 0.094447292  0.4602103 0.133782551 0.749393821  0.249912381      0 0      \n",
       "381 -2.293070078 0.4602103 7.580552578 2.230172873  18.03409195      0 485000 \n",
       "382 -1.029376388 0.4602103 2.218868494 0.887094021  5.91191721       0 0      \n",
       "383 -0.808354318 0.4602103 1.609256029 1.330233455  0.013272681      0 536000 \n",
       "384 -2.27962184  0.4602103 7.506680489 2.185496330  17.79299736 105000 199000 \n",
       "385 -0.909990847 0.4602103 1.877451062 1.330233455  0.047021169      0 395000 \n",
       "386 -0.357022554 0.4602103 0.667869449 0.996516109  3.296001434      0 0      \n",
       "387 -3.32190156  0.4602103 14.30437088 4.633384228  35.2199707       0 195000 \n",
       "388 -0.503877819 0.4602103 0.92946589  0.054259606  1.432868958      0 550000 \n",
       "389 -1.050129533 0.4602103 2.281126261 0.002997032  2.118755817      0 620000 \n",
       "390 -0.965874255 0.4602103 2.033717155 1.330233455  0.074380063      0 0      \n",
       "391 -2.733397007 0.4602103 10.1991272  0.211793482  7.471458912      0 521000 \n",
       "392 -0.770738065 0.4602103 1.515233874 1.330233455  0.00602035       0 505000 \n",
       "393 0.13172473   0.4602103 0.107902743 0.006611670  0.061094668      0 0      \n",
       "394 -1.827296734 0.4602103 5.23268795  6.100478172  0.033272531      0 1885000\n",
       "395 -0.51206845  0.4602103 0.945325911 0.211793482  0.262214124      0 90000  \n",
       "396 0.106538951  0.4602103 0.125083402 0.008070522  0.1966988        0 110000 \n",
       "397 -0.901470661 0.4602103 1.854174972 0.005202382  1.662947893      0 880000 \n",
       "398 -1.48505044  0.4602103 3.784039021 0.054259606  4.744544506      0 245000 \n",
       "399 -1.026758552 0.4602103 2.21107626  0.001997621  2.080154657      0 70500  \n",
       "400 -1.844511867 0.4602103 5.311744213 2.429927588  0.556366205      0 0      \n",
       "401 -2.742139816 0.4602103 10.25504589 0.106719054  8.26948452       0 575000 \n",
       "    NOM        \n",
       "1   Sangalkam  \n",
       "2   Méouane    \n",
       "3   Ndande     \n",
       "4   Pambal     \n",
       "5   Ndande     \n",
       "6   Méouane    \n",
       "7   Méouane    \n",
       "8   Sangalkam  \n",
       "9   Ndande     \n",
       "10  Méouane    \n",
       "11  Pambal     \n",
       "12  Pambal     \n",
       "13  Ndande     \n",
       "14  Pambal     \n",
       "15  Méouane    \n",
       "16  Pambal     \n",
       "17  Méouane    \n",
       "18  Keur Moussa\n",
       "19  Pambal     \n",
       "20  Méouane    \n",
       "21  Keur Moussa\n",
       "22  Pambal     \n",
       "23  Méouane    \n",
       "24  Ndande     \n",
       "25  Méouane    \n",
       "26  Sangalkam  \n",
       "27  Pambal     \n",
       "28  Ndande     \n",
       "29  Pambal     \n",
       "30  Ndande     \n",
       "<U+22EE>   <U+22EE>   \n",
       "372 Méouane    \n",
       "373 Ndande     \n",
       "374 Pambal     \n",
       "375 Ndande     \n",
       "376 Ndande     \n",
       "377 Méouane    \n",
       "378 Méouane    \n",
       "379 Ndande     \n",
       "380 Keur Moussa\n",
       "381 Ndande     \n",
       "382 Keur Moussa\n",
       "383 Keur Moussa\n",
       "384 Ndande     \n",
       "385 Keur Moussa\n",
       "386 Sangalkam  \n",
       "387 Ndande     \n",
       "388 Pambal     \n",
       "389 Keur Moussa\n",
       "390 Pambal     \n",
       "391 Ndande     \n",
       "392 Keur Moussa\n",
       "393 Pambal     \n",
       "394 Keur Moussa\n",
       "395 Pambal     \n",
       "396 Pambal     \n",
       "397 Ndande     \n",
       "398 Ndande     \n",
       "399 Sangalkam  \n",
       "400 Méouane    \n",
       "401 Ndande     "
      ]
     },
     "metadata": {},
     "output_type": "display_data"
    }
   ],
   "source": [
    "papa"
   ]
  },
  {
   "cell_type": "code",
   "execution_count": 21,
   "id": "7d45bf89",
   "metadata": {},
   "outputs": [],
   "source": [
    "papa$exploit_cat<-\"\"\n",
    "for (i in 1:length(papa$id)){\n",
    "    if ((papa$syst_exhau[i]==\"Manuel\") & (papa$suptotculm[i]<5)){papa$exploit_cat[i]<-\"inf_5_ha & irrig_man\"}\n",
    "    if ((papa$suptotculm[i]>=2) & (papa$suptotculm[i]<=6) & (papa$syst_exhau[i]!=\"Manuel\") & (papa$revenu_ag_[i]>0)){papa$exploit_cat[i]<-\"2_to_6ha & irrig_non_man & marech\"}\n",
    "    if ((papa$suptotculm[i]>=3) & (papa$suptotculm[i]<=10) & (papa$syst_exhau[i]!=\"Manuel\") & (papa$revenu_ele[i]>0)){papa$exploit_cat[i]<-\"3_to_10ha & irrig_non_man & elev_verg\"}\n",
    "    if (papa$exploit_cat[i]==\"\"){papa$exploit_cat[i]<-\"autres\"}\n",
    "}"
   ]
  },
  {
   "cell_type": "code",
   "execution_count": 22,
   "id": "32d45382",
   "metadata": {},
   "outputs": [
    {
     "name": "stderr",
     "output_type": "stream",
     "text": [
      "Warning message in eval(expr, envir, enclos):\n",
      "\"NAs introduits lors de la conversion automatique\"\n"
     ]
    },
    {
     "data": {
      "text/plain": [
       "   taille_men      suptotculm        longitude        membre_act    \n",
       " Min.   : 2.00   Min.   : 0.0200   Min.   :-17.29   Min.   : 2.000  \n",
       " 1st Qu.: 8.00   1st Qu.: 0.7381   1st Qu.:-17.05   1st Qu.: 5.000  \n",
       " Median :10.00   Median : 1.6750   Median :-16.92   Median : 6.000  \n",
       " Mean   :11.23   Mean   : 2.5128   Mean   :-16.90   Mean   : 6.928  \n",
       " 3rd Qu.:13.00   3rd Qu.: 3.0000   3rd Qu.:-16.73   3rd Qu.: 9.000  \n",
       " Max.   :35.00   Max.   :25.8000   Max.   :-16.46   Max.   :19.000  \n",
       "    capital           cout_intra           NOM            exploit_cat       \n",
       " Min.   :       0   Min.   :     250   Length:400         Length:400        \n",
       " 1st Qu.:       0   1st Qu.:  112345   Class :character   Class :character  \n",
       " Median :  220000   Median :  343432   Mode  :character   Mode  :character  \n",
       " Mean   :  540612   Mean   : 1869141                                        \n",
       " 3rd Qu.:  679500   3rd Qu.: 1568308                                        \n",
       " Max.   :12270000   Max.   :23403500                                        \n",
       "    inter          \n",
       " Length:400        \n",
       " Class :character  \n",
       " Mode  :character  \n",
       "                   \n",
       "                   \n",
       "                   "
      ]
     },
     "metadata": {},
     "output_type": "display_data"
    },
    {
     "data": {
      "text/plain": [
       "cap2[\"NOM\"] \n",
       "\n",
       " 1  Variables      400  Observations\n",
       "--------------------------------------------------------------------------------\n",
       "NOM \n",
       "       n  missing distinct \n",
       "     400        0        6 \n",
       "\n",
       "lowest : Keur Moussa  Méouane      Ndande       Pambal       Rufisque-Est\n",
       "highest: Méouane      Ndande       Pambal       Rufisque-Est Sangalkam   \n",
       "                                                                           \n",
       "Value       Keur Moussa      Méouane       Ndande       Pambal Rufisque-Est\n",
       "Frequency            51           89          139           73            6\n",
       "Proportion        0.128        0.222        0.348        0.182        0.015\n",
       "                       \n",
       "Value         Sangalkam\n",
       "Frequency            42\n",
       "Proportion        0.105\n",
       "--------------------------------------------------------------------------------"
      ]
     },
     "metadata": {},
     "output_type": "display_data"
    },
    {
     "data": {
      "text/plain": [
       "cap2[\"exploit_cat\"] \n",
       "\n",
       " 1  Variables      400  Observations\n",
       "--------------------------------------------------------------------------------\n",
       "exploit_cat \n",
       "       n  missing distinct \n",
       "     400        0        4 \n",
       "\n",
       "2_to_6ha & irrig_non_man & marech (97, 0.242), 3_to_10ha & irrig_non_man &\n",
       "elev_verg (22, 0.055), autres (135, 0.338), inf_5_ha & irrig_man (146, 0.365)\n",
       "--------------------------------------------------------------------------------"
      ]
     },
     "metadata": {},
     "output_type": "display_data"
    }
   ],
   "source": [
    "cap1<-subset(esther,select=c(\"taille_men\",\"surface_ch\",\"surface_ir\",\"surface_to\",\"surf_culti\",\"capital_ha\",\"NOM\"))\n",
    "\n",
    "cap2<-subset(papa,select=c(\"taille_men\",\"suptotculm\",\"longitude\",\"membre_act\",\"capital\",\"cout_intra\",\"NOM\",\"exploit_cat\"))\n",
    "cap2$capital<-as.numeric(cap2$capital)\n",
    "cap2$inter<-(cut2(cap2$suptotculm, m=100.25))\n",
    "cap2$inter<-as.character(cap2$inter)\n",
    "cap2<-na.omit(cap2)\n",
    "summary(cap2)\n",
    "Hmisc::describe(cap2[\"NOM\"])\n",
    "Hmisc::describe(cap2[\"exploit_cat\"])"
   ]
  },
  {
   "cell_type": "code",
   "execution_count": 23,
   "id": "ea4fca69",
   "metadata": {},
   "outputs": [],
   "source": [
    "cap2[\"inter2\"]<-\"\"\n",
    "for (i in 1:length(cap2$suptotculm)){\n",
    "    if (cap2$suptotculm[i]<3.25){cap2$inter2[i]<-\"moins de 3.25\"}\n",
    "    if ((cap2$suptotculm[i]>=3.25) & (cap2$suptotculm[i]<5)){cap2$inter2[i]<-\"[3.25, 5[\"}\n",
    "    if ((cap2$suptotculm[i]>=5) & (cap2$suptotculm[i]<10)){cap2$inter2[i]<-\"[5, 10[\"}\n",
    "    if ((cap2$suptotculm[i]>=10) & (cap2$suptotculm[i]<=15)){cap2$inter2[i]<-\"[10, 15]\"}\n",
    "    if (cap2$suptotculm[i]>15){cap2$inter2[i]<-\"plus de 15\"}\n",
    "}"
   ]
  },
  {
   "cell_type": "code",
   "execution_count": 24,
   "id": "c348619a",
   "metadata": {},
   "outputs": [
    {
     "data": {
      "text/html": [
       "<strong>$corr</strong> = <table class=\"dataframe\">\n",
       "<caption>A matrix: 6 × 6 of type dbl</caption>\n",
       "<thead>\n",
       "\t<tr><th></th><th scope=col>longitude</th><th scope=col>capital</th><th scope=col>taille_men</th><th scope=col>membre_act</th><th scope=col>suptotculm</th><th scope=col>cout_intra</th></tr>\n",
       "</thead>\n",
       "<tbody>\n",
       "\t<tr><th scope=row>longitude</th><td> 1.00000000</td><td>-0.09505415</td><td>0.02412498</td><td>-0.04034107</td><td>-0.2253772</td><td>-0.2099505</td></tr>\n",
       "\t<tr><th scope=row>capital</th><td>-0.09505415</td><td> 1.00000000</td><td>0.16627631</td><td> 0.23477938</td><td> 0.2935761</td><td> 0.2314103</td></tr>\n",
       "\t<tr><th scope=row>taille_men</th><td> 0.02412498</td><td> 0.16627631</td><td>1.00000000</td><td> 0.75544959</td><td> 0.3238665</td><td> 0.4498332</td></tr>\n",
       "\t<tr><th scope=row>membre_act</th><td>-0.04034107</td><td> 0.23477938</td><td>0.75544959</td><td> 1.00000000</td><td> 0.3083235</td><td> 0.2739590</td></tr>\n",
       "\t<tr><th scope=row>suptotculm</th><td>-0.22537722</td><td> 0.29357609</td><td>0.32386650</td><td> 0.30832350</td><td> 1.0000000</td><td> 0.5770527</td></tr>\n",
       "\t<tr><th scope=row>cout_intra</th><td>-0.20995048</td><td> 0.23141034</td><td>0.44983320</td><td> 0.27395896</td><td> 0.5770527</td><td> 1.0000000</td></tr>\n",
       "</tbody>\n",
       "</table>\n"
      ],
      "text/latex": [
       "\\textbf{\\$corr} = A matrix: 6 × 6 of type dbl\n",
       "\\begin{tabular}{r|llllll}\n",
       "  & longitude & capital & taille\\_men & membre\\_act & suptotculm & cout\\_intra\\\\\n",
       "\\hline\n",
       "\tlongitude &  1.00000000 & -0.09505415 & 0.02412498 & -0.04034107 & -0.2253772 & -0.2099505\\\\\n",
       "\tcapital & -0.09505415 &  1.00000000 & 0.16627631 &  0.23477938 &  0.2935761 &  0.2314103\\\\\n",
       "\ttaille\\_men &  0.02412498 &  0.16627631 & 1.00000000 &  0.75544959 &  0.3238665 &  0.4498332\\\\\n",
       "\tmembre\\_act & -0.04034107 &  0.23477938 & 0.75544959 &  1.00000000 &  0.3083235 &  0.2739590\\\\\n",
       "\tsuptotculm & -0.22537722 &  0.29357609 & 0.32386650 &  0.30832350 &  1.0000000 &  0.5770527\\\\\n",
       "\tcout\\_intra & -0.20995048 &  0.23141034 & 0.44983320 &  0.27395896 &  0.5770527 &  1.0000000\\\\\n",
       "\\end{tabular}\n"
      ],
      "text/markdown": [
       "**$corr** = \n",
       "A matrix: 6 × 6 of type dbl\n",
       "\n",
       "| <!--/--> | longitude | capital | taille_men | membre_act | suptotculm | cout_intra |\n",
       "|---|---|---|---|---|---|---|\n",
       "| longitude |  1.00000000 | -0.09505415 | 0.02412498 | -0.04034107 | -0.2253772 | -0.2099505 |\n",
       "| capital | -0.09505415 |  1.00000000 | 0.16627631 |  0.23477938 |  0.2935761 |  0.2314103 |\n",
       "| taille_men |  0.02412498 |  0.16627631 | 1.00000000 |  0.75544959 |  0.3238665 |  0.4498332 |\n",
       "| membre_act | -0.04034107 |  0.23477938 | 0.75544959 |  1.00000000 |  0.3083235 |  0.2739590 |\n",
       "| suptotculm | -0.22537722 |  0.29357609 | 0.32386650 |  0.30832350 |  1.0000000 |  0.5770527 |\n",
       "| cout_intra | -0.20995048 |  0.23141034 | 0.44983320 |  0.27395896 |  0.5770527 |  1.0000000 |\n",
       "\n"
      ],
      "text/plain": [
       "$corr\n",
       "             longitude     capital taille_men  membre_act suptotculm cout_intra\n",
       "longitude   1.00000000 -0.09505415 0.02412498 -0.04034107 -0.2253772 -0.2099505\n",
       "capital    -0.09505415  1.00000000 0.16627631  0.23477938  0.2935761  0.2314103\n",
       "taille_men  0.02412498  0.16627631 1.00000000  0.75544959  0.3238665  0.4498332\n",
       "membre_act -0.04034107  0.23477938 0.75544959  1.00000000  0.3083235  0.2739590\n",
       "suptotculm -0.22537722  0.29357609 0.32386650  0.30832350  1.0000000  0.5770527\n",
       "cout_intra -0.20995048  0.23141034 0.44983320  0.27395896  0.5770527  1.0000000\n"
      ]
     },
     "metadata": {},
     "output_type": "display_data"
    },
    {
     "data": {
      "image/png": "[encoded data removed]",
      "text/plain": [
       "Plot with title \"\""
      ]
     },
     "metadata": {
      "image/png": {
       "height": 420,
       "width": 420
      }
     },
     "output_type": "display_data"
    }
   ],
   "source": [
    "library(corrplot)\n",
    "mcor2 <- cor(cap2[,1:6])\n",
    "corrplot(mcor2, type=\"upper\", order=\"hclust\", tl.col=\"black\", tl.srt=45)[1]"
   ]
  },
  {
   "cell_type": "code",
   "execution_count": 25,
   "id": "ac297e91",
   "metadata": {},
   "outputs": [
    {
     "data": {
      "image/png": "[encoded data removed]",
      "text/plain": [
       "plot without title"
      ]
     },
     "metadata": {
      "image/png": {
       "height": 420,
       "width": 420
      }
     },
     "output_type": "display_data"
    }
   ],
   "source": [
    "pairs(cap2[,1:6])"
   ]
  },
  {
   "cell_type": "code",
   "execution_count": 54,
   "id": "115b708f",
   "metadata": {},
   "outputs": [
    {
     "name": "stderr",
     "output_type": "stream",
     "text": [
      "Warning message:\n",
      "\"Unknown or uninitialised column: `court_intra`.\"\n"
     ]
    },
    {
     "data": {
      "image/png": "[encoded data removed]",
      "text/plain": [
       "plot without title"
      ]
     },
     "metadata": {
      "image/png": {
       "height": 420,
       "width": 420
      }
     },
     "output_type": "display_data"
    }
   ],
   "source": [
    "plot(cap2$suptotculm,cap2$court_intra)"
   ]
  },
  {
   "cell_type": "code",
   "execution_count": 57,
   "id": "b6dc71f8",
   "metadata": {},
   "outputs": [
    {
     "data": {
      "text/plain": [
       "cap2$exploit_cat: 2_to_6ha & irrig_non_man & marech\n",
       "[1] 0.08598094\n",
       "------------------------------------------------------------ \n",
       "cap2$exploit_cat: 3_to_10ha & irrig_non_man & elev_verg\n",
       "[1] 0.2082743\n",
       "------------------------------------------------------------ \n",
       "cap2$exploit_cat: autres\n",
       "[1] 0.2621947\n",
       "------------------------------------------------------------ \n",
       "cap2$exploit_cat: inf_5_ha & irrig_man\n",
       "[1] 0.2335731"
      ]
     },
     "metadata": {},
     "output_type": "display_data"
    }
   ],
   "source": [
    "by(cap2, cap2$exploit_cat, FUN = function(X) cor(X$capital,\n",
    "        X$cout_intra, method = \"spearman\"))"
   ]
  },
  {
   "cell_type": "code",
   "execution_count": 40,
   "id": "cb3b8420",
   "metadata": {},
   "outputs": [
    {
     "data": {
      "text/html": [
       "<table class=\"dataframe\">\n",
       "<caption>A data.frame: 4 × 2</caption>\n",
       "<thead>\n",
       "\t<tr><th scope=col>Var1</th><th scope=col>Freq</th></tr>\n",
       "\t<tr><th scope=col>&lt;fct&gt;</th><th scope=col>&lt;int&gt;</th></tr>\n",
       "</thead>\n",
       "<tbody>\n",
       "\t<tr><td><span style=white-space:pre-wrap>2_to_6ha &amp; irrig_non_man &amp; marech    </span></td><td> 97</td></tr>\n",
       "\t<tr><td>3_to_10ha &amp; irrig_non_man &amp; elev_verg</td><td> 22</td></tr>\n",
       "\t<tr><td>autres                               </td><td>135</td></tr>\n",
       "\t<tr><td><span style=white-space:pre-wrap>inf_5_ha &amp; irrig_man                 </span></td><td>147</td></tr>\n",
       "</tbody>\n",
       "</table>\n"
      ],
      "text/latex": [
       "A data.frame: 4 × 2\n",
       "\\begin{tabular}{ll}\n",
       " Var1 & Freq\\\\\n",
       " <fct> & <int>\\\\\n",
       "\\hline\n",
       "\t 2\\_to\\_6ha \\& irrig\\_non\\_man \\& marech     &  97\\\\\n",
       "\t 3\\_to\\_10ha \\& irrig\\_non\\_man \\& elev\\_verg &  22\\\\\n",
       "\t autres                                & 135\\\\\n",
       "\t inf\\_5\\_ha \\& irrig\\_man                  & 147\\\\\n",
       "\\end{tabular}\n"
      ],
      "text/markdown": [
       "\n",
       "A data.frame: 4 × 2\n",
       "\n",
       "| Var1 &lt;fct&gt; | Freq &lt;int&gt; |\n",
       "|---|---|\n",
       "| 2_to_6ha &amp; irrig_non_man &amp; marech     |  97 |\n",
       "| 3_to_10ha &amp; irrig_non_man &amp; elev_verg |  22 |\n",
       "| autres                                | 135 |\n",
       "| inf_5_ha &amp; irrig_man                  | 147 |\n",
       "\n"
      ],
      "text/plain": [
       "  Var1                                  Freq\n",
       "1 2_to_6ha & irrig_non_man & marech      97 \n",
       "2 3_to_10ha & irrig_non_man & elev_verg  22 \n",
       "3 autres                                135 \n",
       "4 inf_5_ha & irrig_man                  147 "
      ]
     },
     "metadata": {},
     "output_type": "display_data"
    }
   ],
   "source": [
    "data.frame(table(cap2$exploit_cat))"
   ]
  },
  {
   "cell_type": "markdown",
   "id": "902426bb",
   "metadata": {},
   "source": [
    "#### "
   ]
  },
  {
   "cell_type": "code",
   "execution_count": null,
   "id": "20b791cc",
   "metadata": {},
   "outputs": [],
   "source": []
  },
  {
   "cell_type": "code",
   "execution_count": null,
   "id": "bcb185d8",
   "metadata": {},
   "outputs": [],
   "source": []
  },
  {
   "cell_type": "code",
   "execution_count": null,
   "id": "6864f83d",
   "metadata": {},
   "outputs": [],
   "source": []
  },
  {
   "cell_type": "markdown",
   "id": "a90738e6",
   "metadata": {},
   "source": [
    "## AUTRES ANALYSES"
   ]
  },
  {
   "cell_type": "raw",
   "id": "3c7b9333",
   "metadata": {},
   "source": [
    "taille_men"
   ]
  },
  {
   "cell_type": "raw",
   "id": "cf1b265e",
   "metadata": {},
   "source": [
    "papa$suptotculm"
   ]
  },
  {
   "cell_type": "raw",
   "id": "89bb34b7",
   "metadata": {},
   "source": [
    "distribution\n",
    "suptotculm"
   ]
  },
  {
   "cell_type": "code",
   "execution_count": 33,
   "id": "06f5343b",
   "metadata": {},
   "outputs": [
    {
     "data": {
      "image/png": "[encoded data removed]",
      "text/plain": [
       "plot without title"
      ]
     },
     "metadata": {
      "image/png": {
       "height": 420,
       "width": 420
      }
     },
     "output_type": "display_data"
    },
    {
     "data": {
      "image/png": "[encoded data removed]",
      "text/plain": [
       "plot without title"
      ]
     },
     "metadata": {
      "image/png": {
       "height": 420,
       "width": 420
      }
     },
     "output_type": "display_data"
    }
   ],
   "source": [
    "library(ggplot2)\n",
    "# Graphe basique\n",
    "p <- ggplot(papa, aes(x=taille_men)) + \n",
    "  geom_density()\n",
    "p\n",
    "# Ajouter la ligne de la moyenne\n",
    "p+ geom_vline(aes(xintercept=mean(taille_men)),\n",
    "            color=\"blue\", linetype=\"dashed\", size=1)"
   ]
  },
  {
   "cell_type": "raw",
   "id": "a4b362a1",
   "metadata": {},
   "source": [
    "create intervalles on menage size\n",
    "quartile on graph\n",
    "quartile by density"
   ]
  },
  {
   "cell_type": "code",
   "execution_count": 34,
   "id": "1b3c4237",
   "metadata": {},
   "outputs": [
    {
     "ename": "ERROR",
     "evalue": "Error in eval(expr, envir, enclos): objet 'suptotculm' introuvable\n",
     "output_type": "error",
     "traceback": [
      "Error in eval(expr, envir, enclos): objet 'suptotculm' introuvable\nTraceback:\n"
     ]
    }
   ],
   "source": [
    "suptotculm"
   ]
  },
  {
   "cell_type": "code",
   "execution_count": 35,
   "id": "ba82840f",
   "metadata": {},
   "outputs": [
    {
     "data": {
      "image/png": "[encoded data removed]",
      "text/plain": [
       "plot without title"
      ]
     },
     "metadata": {
      "image/png": {
       "height": 420,
       "width": 420
      }
     },
     "output_type": "display_data"
    }
   ],
   "source": [
    "a <- ggplot(papa, aes(x = taille_men))\n",
    "\n",
    "a + geom_histogram(bins = 30, color = \"black\", fill = \"gray\") +\n",
    "  geom_vline(aes(xintercept = mean(taille_men)), \n",
    "             linetype = \"dashed\", size = 0.6)"
   ]
  },
  {
   "cell_type": "raw",
   "id": "c3311674",
   "metadata": {},
   "source": [
    "ggplot(iris, aes(x = Sepal.Length, y = Species)) +\n",
    "  geom_density_ridges(aes(fill = Species)) +\n",
    "  scale_fill_manual(values = c(\"#00AFBB\", \"#E7B800\", \"#FC4E07\"))"
   ]
  },
  {
   "cell_type": "code",
   "execution_count": 36,
   "id": "c2856192",
   "metadata": {},
   "outputs": [
    {
     "data": {
      "text/html": [
       "<style>\n",
       ".list-inline {list-style: none; margin:0; padding: 0}\n",
       ".list-inline>li {display: inline-block}\n",
       ".list-inline>li:not(:last-child)::after {content: \"\\00b7\"; padding: 0 .5ex}\n",
       "</style>\n",
       "<ol class=list-inline><li>[ 9,11)</li><li>[11,14)</li><li>[ 2, 9)</li><li>[14,35]</li></ol>\n",
       "\n",
       "<details>\n",
       "\t<summary style=display:list-item;cursor:pointer>\n",
       "\t\t<strong>Levels</strong>:\n",
       "\t</summary>\n",
       "\t<style>\n",
       "\t.list-inline {list-style: none; margin:0; padding: 0}\n",
       "\t.list-inline>li {display: inline-block}\n",
       "\t.list-inline>li:not(:last-child)::after {content: \"\\00b7\"; padding: 0 .5ex}\n",
       "\t</style>\n",
       "\t<ol class=list-inline><li>'[ 2, 9)'</li><li>'[ 9,11)'</li><li>'[11,14)'</li><li>'[14,35]'</li></ol>\n",
       "</details>"
      ],
      "text/latex": [
       "\\begin{enumerate*}\n",
       "\\item {[} 9,11)\n",
       "\\item {[}11,14)\n",
       "\\item {[} 2, 9)\n",
       "\\item {[}14,35{]}\n",
       "\\end{enumerate*}\n",
       "\n",
       "\\emph{Levels}: \\begin{enumerate*}\n",
       "\\item '{[} 2, 9)'\n",
       "\\item '{[} 9,11)'\n",
       "\\item '{[}11,14)'\n",
       "\\item '{[}14,35{]}'\n",
       "\\end{enumerate*}\n"
      ],
      "text/markdown": [
       "1. [ 9,11)\n",
       "2. [11,14)\n",
       "3. [ 2, 9)\n",
       "4. [14,35]\n",
       "\n",
       "\n",
       "\n",
       "**Levels**: 1. '[ 2, 9)'\n",
       "2. '[ 9,11)'\n",
       "3. '[11,14)'\n",
       "4. '[14,35]'\n",
       "\n",
       "\n"
      ],
      "text/plain": [
       "[1] [ 9,11) [11,14) [ 2, 9) [14,35]\n",
       "Levels: [ 2, 9) [ 9,11) [11,14) [14,35]"
      ]
     },
     "metadata": {},
     "output_type": "display_data"
    }
   ],
   "source": [
    "unique(cut2(papa$taille_men, m=100.25))"
   ]
  },
  {
   "cell_type": "code",
   "execution_count": 37,
   "id": "394a9382",
   "metadata": {},
   "outputs": [
    {
     "data": {
      "text/html": [
       "<table class=\"dataframe\">\n",
       "<caption>A tibble: 6 × 4</caption>\n",
       "<thead>\n",
       "\t<tr><th scope=col>taille_men</th><th scope=col>suptotculm</th><th scope=col>NOM</th><th scope=col>inter</th></tr>\n",
       "\t<tr><th scope=col>&lt;dbl&gt;</th><th scope=col>&lt;dbl&gt;</th><th scope=col>&lt;chr&gt;</th><th scope=col>&lt;chr&gt;</th></tr>\n",
       "</thead>\n",
       "<tbody>\n",
       "\t<tr><td> 9</td><td>0.10000</td><td>Sangalkam</td><td>[0.02, 0.75)</td></tr>\n",
       "\t<tr><td>11</td><td>1.25000</td><td>Méouane  </td><td>[0.75, 1.70)</td></tr>\n",
       "\t<tr><td> 5</td><td>0.18000</td><td>Ndande   </td><td>[0.02, 0.75)</td></tr>\n",
       "\t<tr><td>15</td><td>3.50000</td><td>Pambal   </td><td>[3.25,25.80]</td></tr>\n",
       "\t<tr><td>10</td><td>1.00000</td><td>Ndande   </td><td>[0.75, 1.70)</td></tr>\n",
       "\t<tr><td>14</td><td>9.17515</td><td>Méouane  </td><td>[3.25,25.80]</td></tr>\n",
       "</tbody>\n",
       "</table>\n"
      ],
      "text/latex": [
       "A tibble: 6 × 4\n",
       "\\begin{tabular}{llll}\n",
       " taille\\_men & suptotculm & NOM & inter\\\\\n",
       " <dbl> & <dbl> & <chr> & <chr>\\\\\n",
       "\\hline\n",
       "\t  9 & 0.10000 & Sangalkam & {[}0.02, 0.75)\\\\\n",
       "\t 11 & 1.25000 & Méouane   & {[}0.75, 1.70)\\\\\n",
       "\t  5 & 0.18000 & Ndande    & {[}0.02, 0.75)\\\\\n",
       "\t 15 & 3.50000 & Pambal    & {[}3.25,25.80{]}\\\\\n",
       "\t 10 & 1.00000 & Ndande    & {[}0.75, 1.70)\\\\\n",
       "\t 14 & 9.17515 & Méouane   & {[}3.25,25.80{]}\\\\\n",
       "\\end{tabular}\n"
      ],
      "text/markdown": [
       "\n",
       "A tibble: 6 × 4\n",
       "\n",
       "| taille_men &lt;dbl&gt; | suptotculm &lt;dbl&gt; | NOM &lt;chr&gt; | inter &lt;chr&gt; |\n",
       "|---|---|---|---|\n",
       "|  9 | 0.10000 | Sangalkam | [0.02, 0.75) |\n",
       "| 11 | 1.25000 | Méouane   | [0.75, 1.70) |\n",
       "|  5 | 0.18000 | Ndande    | [0.02, 0.75) |\n",
       "| 15 | 3.50000 | Pambal    | [3.25,25.80] |\n",
       "| 10 | 1.00000 | Ndande    | [0.75, 1.70) |\n",
       "| 14 | 9.17515 | Méouane   | [3.25,25.80] |\n",
       "\n"
      ],
      "text/plain": [
       "  taille_men suptotculm NOM       inter       \n",
       "1  9         0.10000    Sangalkam [0.02, 0.75)\n",
       "2 11         1.25000    Méouane   [0.75, 1.70)\n",
       "3  5         0.18000    Ndande    [0.02, 0.75)\n",
       "4 15         3.50000    Pambal    [3.25,25.80]\n",
       "5 10         1.00000    Ndande    [0.75, 1.70)\n",
       "6 14         9.17515    Méouane   [3.25,25.80]"
      ]
     },
     "metadata": {},
     "output_type": "display_data"
    }
   ],
   "source": [
    "surfp<-subset(papa,select=c(\"taille_men\",\"suptotculm\",\"NOM\"))\n",
    "surfp$inter<-(cut2(surfp$suptotculm, m=100.25))\n",
    "surfp$inter<-as.character(surfp$inter)\n",
    "head(surfp)"
   ]
  },
  {
   "cell_type": "code",
   "execution_count": 38,
   "id": "f9c26490",
   "metadata": {},
   "outputs": [],
   "source": [
    "surfp[\"inter2\"]<-\"\"\n",
    "for (i in 1:length(surfp$suptotculm)){\n",
    "    if (surfp$suptotculm[i]<3.25){surfp$inter2[i]<-\"moins de 3.25\"}\n",
    "    if ((surfp$suptotculm[i]>=3.25) & (surfp$suptotculm[i]<5)){surfp$inter2[i]<-\"[3.25, 5[\"}\n",
    "    if ((surfp$suptotculm[i]>=5) & (surfp$suptotculm[i]<10)){surfp$inter2[i]<-\"[5, 10[\"}\n",
    "    if ((surfp$suptotculm[i]>=10) & (surfp$suptotculm[i]<=15)){surfp$inter2[i]<-\"[10, 15]\"}\n",
    "    if (surfp$suptotculm[i]>15){surfp$inter2[i]<-\"plus de 15\"}\n",
    "}"
   ]
  },
  {
   "cell_type": "code",
   "execution_count": 39,
   "id": "c3aaee37",
   "metadata": {},
   "outputs": [
    {
     "data": {
      "text/plain": [
       "surfp$NOM \n",
       "       n  missing distinct \n",
       "     401        0        6 \n",
       "\n",
       "lowest : Keur Moussa  Méouane      Ndande       Pambal       Rufisque-Est\n",
       "highest: Méouane      Ndande       Pambal       Rufisque-Est Sangalkam   \n",
       "                                                                           \n",
       "Value       Keur Moussa      Méouane       Ndande       Pambal Rufisque-Est\n",
       "Frequency            51           89          140           73            6\n",
       "Proportion        0.127        0.222        0.349        0.182        0.015\n",
       "                       \n",
       "Value         Sangalkam\n",
       "Frequency            42\n",
       "Proportion        0.105"
      ]
     },
     "metadata": {},
     "output_type": "display_data"
    }
   ],
   "source": [
    "Hmisc::describe(surfp$NOM)"
   ]
  },
  {
   "cell_type": "code",
   "execution_count": 40,
   "id": "b4492275",
   "metadata": {},
   "outputs": [
    {
     "data": {
      "text/plain": [
       "\n",
       " Keur Moussa      Méouane       Ndande       Pambal Rufisque-Est    Sangalkam \n",
       "          51           89          140           73            6           42 "
      ]
     },
     "metadata": {},
     "output_type": "display_data"
    }
   ],
   "source": [
    "table(surfp$NOM)"
   ]
  },
  {
   "cell_type": "code",
   "execution_count": 41,
   "id": "8f26c1d1",
   "metadata": {},
   "outputs": [
    {
     "ename": "ERROR",
     "evalue": "Error in library(ggridges): aucun package nommé 'ggridges' n'est trouvé\n",
     "output_type": "error",
     "traceback": [
      "Error in library(ggridges): aucun package nommé 'ggridges' n'est trouvé\nTraceback:\n",
      "1. library(ggridges)"
     ]
    }
   ],
   "source": [
    "library(ggplot2)\n",
    "library(ggridges)\n",
    "theme_set(theme_ridges())\n",
    "\n",
    "ggplot(surfp, aes(x = taille_men, y = NOM)) +\n",
    "  geom_density_ridges(aes(fill = NOM)) +\n",
    "  scale_fill_manual(values = c(\"#00AFBB\", \"#E7B800\",\"#A0A0A0A0\",\n",
    "                               \"#0000FFA0\",\"#FC4E07\",\"#0000FF\"))"
   ]
  },
  {
   "cell_type": "code",
   "execution_count": 42,
   "id": "064c6f84",
   "metadata": {},
   "outputs": [
    {
     "data": {
      "image/png": "[encoded data removed]",
      "text/plain": [
       "plot without title"
      ]
     },
     "metadata": {
      "image/png": {
       "height": 420,
       "width": 420
      }
     },
     "output_type": "display_data"
    }
   ],
   "source": [
    "ggplot(surfp, aes(x = factor(1), y = taille_men)) +\n",
    "  geom_boxplot(width = 0.4, fill = \"white\") +\n",
    "  geom_jitter(aes(color = inter, shape = NOM), \n",
    "              width = 0.1, size = 1) +\n",
    "  scale_color_manual(values = c(\"#00AFBB\", \"#E7B800\",\"#A0A0A0A0\",\n",
    "                                \"#0000FFA0\",\"#FC4E07\",\"#0000FF\")) + \n",
    "  labs(x = NULL)   # Remove x axis label"
   ]
  },
  {
   "cell_type": "code",
   "execution_count": 43,
   "id": "2f00a868",
   "metadata": {},
   "outputs": [
    {
     "ename": "ERROR",
     "evalue": "Error in geom_density_ridges(aes(fill = inter2)): impossible de trouver la fonction \"geom_density_ridges\"\n",
     "output_type": "error",
     "traceback": [
      "Error in geom_density_ridges(aes(fill = inter2)): impossible de trouver la fonction \"geom_density_ridges\"\nTraceback:\n"
     ]
    }
   ],
   "source": [
    "ggplot(surfp, aes(x = taille_men, y = inter2)) +\n",
    "  geom_density_ridges(aes(fill = inter2)) +\n",
    "  scale_fill_manual(values = c(\"#00AFBB\", \"#E7B800\",\"#A0A0A0A0\", \"#0000FFA0\",\"#FC4E07\",\"#0000FF\"))+\n",
    "stat_summary(fun = \"quantile\", fun.args = list(probs = seq(.1, .9, by = .1)), \n",
    "             geom = \"hline\", aes(yintercept = ..y..))"
   ]
  },
  {
   "cell_type": "code",
   "execution_count": 52,
   "id": "7561ae7c",
   "metadata": {},
   "outputs": [
    {
     "data": {
      "image/png": "[encoded data removed]",
      "text/plain": [
       "plot without title"
      ]
     },
     "metadata": {
      "image/png": {
       "height": 420,
       "width": 420
      }
     },
     "output_type": "display_data"
    }
   ],
   "source": [
    "# Change line color by commune\n",
    "a <- ggplot(papa, aes(x =taille_men))\n",
    "\n",
    "a+ geom_density(aes(color = NOM)) +\n",
    "  scale_color_manual(values = c(\"#00AFBB\", \"#E7B800\",\"#A0A0A0A0\", \"#0000FFA0\",\"#FC4E07\",\"#0000FF\"))"
   ]
  },
  {
   "cell_type": "raw",
   "id": "cc34a353",
   "metadata": {},
   "source": [
    "boxplot(surfp$suptotculm)\n",
    "abline(h=quantile(surfp$suptotculm,0.1),col=\"red\",lty=2)\n",
    "abline(h=quantile(surfp$suptotculm,0.2),col=\"red\",lty=2)\n",
    "abline(h=quantile(surfp$suptotculm,0.3),col=\"red\",lty=2)\n",
    "abline(h=quantile(surfp$suptotculm,0.4),col=\"red\",lty=2)\n",
    "abline(h=quantile(surfp$suptotculm,0.5),col=\"red\",lty=2)\n",
    "abline(h=quantile(surfp$suptotculm,0.6),col=\"red\",lty=2)\n",
    "abline(h=quantile(surfp$suptotculm,0.7),col=\"red\",lty=2)\n",
    "abline(h=quantile(surfp$suptotculm,0.8),col=\"red\",lty=2)\n",
    "abline(h=quantile(surfp$suptotculm,0.90),col=\"red\",lty=2)"
   ]
  },
  {
   "cell_type": "code",
   "execution_count": 101,
   "id": "1ad2a02e",
   "metadata": {},
   "outputs": [
    {
     "data": {
      "text/html": [
       "<table class=\"dataframe\">\n",
       "<caption>A data.frame: 6 × 10</caption>\n",
       "<thead>\n",
       "\t<tr><th></th><th scope=col>NOM</th><th scope=col>q1</th><th scope=col>q2</th><th scope=col>q3</th><th scope=col>q4</th><th scope=col>q5</th><th scope=col>q6</th><th scope=col>q7</th><th scope=col>q8</th><th scope=col>q9</th></tr>\n",
       "\t<tr><th></th><th scope=col>&lt;chr&gt;</th><th scope=col>&lt;dbl&gt;</th><th scope=col>&lt;dbl&gt;</th><th scope=col>&lt;dbl&gt;</th><th scope=col>&lt;dbl&gt;</th><th scope=col>&lt;dbl&gt;</th><th scope=col>&lt;dbl&gt;</th><th scope=col>&lt;dbl&gt;</th><th scope=col>&lt;dbl&gt;</th><th scope=col>&lt;dbl&gt;</th></tr>\n",
       "</thead>\n",
       "<tbody>\n",
       "\t<tr><th scope=row>1</th><td>Keur Moussa </td><td>6.0</td><td> 6.0</td><td> 7.0</td><td> 7.0</td><td> 8.0</td><td> 9.0</td><td>10.0</td><td>11.0</td><td>13.0</td></tr>\n",
       "\t<tr><th scope=row>2</th><td>Méouane     </td><td>8.0</td><td> 9.0</td><td>10.0</td><td>10.2</td><td>11.0</td><td>12.0</td><td>13.0</td><td>14.0</td><td>16.0</td></tr>\n",
       "\t<tr><th scope=row>3</th><td>Ndande      </td><td>6.0</td><td> 7.0</td><td> 8.0</td><td> 9.0</td><td>10.0</td><td>11.0</td><td>12.0</td><td>14.0</td><td>18.1</td></tr>\n",
       "\t<tr><th scope=row>4</th><td>Pambal      </td><td>7.0</td><td> 8.0</td><td> 9.6</td><td>11.0</td><td>13.0</td><td>15.2</td><td>17.0</td><td>19.6</td><td>23.8</td></tr>\n",
       "\t<tr><th scope=row>5</th><td>Rufisque-Est</td><td>9.5</td><td>10.0</td><td>11.5</td><td>13.0</td><td>13.5</td><td>14.0</td><td>15.5</td><td>17.0</td><td>26.0</td></tr>\n",
       "\t<tr><th scope=row>6</th><td>Sangalkam   </td><td>6.0</td><td> 7.2</td><td> 8.3</td><td> 9.0</td><td> 9.0</td><td>10.0</td><td>10.0</td><td>10.8</td><td>12.0</td></tr>\n",
       "</tbody>\n",
       "</table>\n"
      ],
      "text/latex": [
       "A data.frame: 6 × 10\n",
       "\\begin{tabular}{r|llllllllll}\n",
       "  & NOM & q1 & q2 & q3 & q4 & q5 & q6 & q7 & q8 & q9\\\\\n",
       "  & <chr> & <dbl> & <dbl> & <dbl> & <dbl> & <dbl> & <dbl> & <dbl> & <dbl> & <dbl>\\\\\n",
       "\\hline\n",
       "\t1 & Keur Moussa  & 6.0 &  6.0 &  7.0 &  7.0 &  8.0 &  9.0 & 10.0 & 11.0 & 13.0\\\\\n",
       "\t2 & Méouane      & 8.0 &  9.0 & 10.0 & 10.2 & 11.0 & 12.0 & 13.0 & 14.0 & 16.0\\\\\n",
       "\t3 & Ndande       & 6.0 &  7.0 &  8.0 &  9.0 & 10.0 & 11.0 & 12.0 & 14.0 & 18.1\\\\\n",
       "\t4 & Pambal       & 7.0 &  8.0 &  9.6 & 11.0 & 13.0 & 15.2 & 17.0 & 19.6 & 23.8\\\\\n",
       "\t5 & Rufisque-Est & 9.5 & 10.0 & 11.5 & 13.0 & 13.5 & 14.0 & 15.5 & 17.0 & 26.0\\\\\n",
       "\t6 & Sangalkam    & 6.0 &  7.2 &  8.3 &  9.0 &  9.0 & 10.0 & 10.0 & 10.8 & 12.0\\\\\n",
       "\\end{tabular}\n"
      ],
      "text/markdown": [
       "\n",
       "A data.frame: 6 × 10\n",
       "\n",
       "| <!--/--> | NOM &lt;chr&gt; | q1 &lt;dbl&gt; | q2 &lt;dbl&gt; | q3 &lt;dbl&gt; | q4 &lt;dbl&gt; | q5 &lt;dbl&gt; | q6 &lt;dbl&gt; | q7 &lt;dbl&gt; | q8 &lt;dbl&gt; | q9 &lt;dbl&gt; |\n",
       "|---|---|---|---|---|---|---|---|---|---|---|\n",
       "| 1 | Keur Moussa  | 6.0 |  6.0 |  7.0 |  7.0 |  8.0 |  9.0 | 10.0 | 11.0 | 13.0 |\n",
       "| 2 | Méouane      | 8.0 |  9.0 | 10.0 | 10.2 | 11.0 | 12.0 | 13.0 | 14.0 | 16.0 |\n",
       "| 3 | Ndande       | 6.0 |  7.0 |  8.0 |  9.0 | 10.0 | 11.0 | 12.0 | 14.0 | 18.1 |\n",
       "| 4 | Pambal       | 7.0 |  8.0 |  9.6 | 11.0 | 13.0 | 15.2 | 17.0 | 19.6 | 23.8 |\n",
       "| 5 | Rufisque-Est | 9.5 | 10.0 | 11.5 | 13.0 | 13.5 | 14.0 | 15.5 | 17.0 | 26.0 |\n",
       "| 6 | Sangalkam    | 6.0 |  7.2 |  8.3 |  9.0 |  9.0 | 10.0 | 10.0 | 10.8 | 12.0 |\n",
       "\n"
      ],
      "text/plain": [
       "  NOM          q1  q2   q3   q4   q5   q6   q7   q8   q9  \n",
       "1 Keur Moussa  6.0  6.0  7.0  7.0  8.0  9.0 10.0 11.0 13.0\n",
       "2 Méouane      8.0  9.0 10.0 10.2 11.0 12.0 13.0 14.0 16.0\n",
       "3 Ndande       6.0  7.0  8.0  9.0 10.0 11.0 12.0 14.0 18.1\n",
       "4 Pambal       7.0  8.0  9.6 11.0 13.0 15.2 17.0 19.6 23.8\n",
       "5 Rufisque-Est 9.5 10.0 11.5 13.0 13.5 14.0 15.5 17.0 26.0\n",
       "6 Sangalkam    6.0  7.2  8.3  9.0  9.0 10.0 10.0 10.8 12.0"
      ]
     },
     "metadata": {},
     "output_type": "display_data"
    }
   ],
   "source": [
    "library(plyr)\n",
    "mu <- ddply(surfp, \"NOM\", summarise, \n",
    "            q1=round(quantile(taille_men,0.1),2), \n",
    "            q2=round(quantile(taille_men,0.2),2), \n",
    "            q3=round(quantile(taille_men,0.3),2), \n",
    "            q4=round(quantile(taille_men,0.4),2), \n",
    "            q5=round(quantile(taille_men,0.5),2), \n",
    "            q6=round(quantile(taille_men,0.6),2), \n",
    "            q7=round(quantile(taille_men,0.7),2), \n",
    "            q8=round(quantile(taille_men,0.8),2), \n",
    "            q9=round(quantile(taille_men,0.9),2))\n",
    "mu[,1]<-as.character(mu[,1])\n",
    "head(mu)"
   ]
  },
  {
   "cell_type": "code",
   "execution_count": 102,
   "id": "0ae2d59b",
   "metadata": {},
   "outputs": [
    {
     "data": {
      "image/png": "[encoded data removed]",
      "text/plain": [
       "plot without title"
      ]
     },
     "metadata": {
      "image/png": {
       "height": 420,
       "width": 420
      }
     },
     "output_type": "display_data"
    }
   ],
   "source": [
    "p<-ggplot(surfp, aes(x=taille_men))+\n",
    "  geom_density()+facet_grid(NOM ~ .) +\n",
    "      geom_vline(aes(xintercept = q1, color = NOM),\n",
    "             data = mu, linetype = \"dashed\") +\n",
    "      geom_vline(aes(xintercept = q2, color = NOM),\n",
    "             data = mu, linetype = \"dashed\") +\n",
    "      geom_vline(aes(xintercept = q3, color = NOM),\n",
    "             data = mu, linetype = \"dashed\") +\n",
    "      geom_vline(aes(xintercept = q4, color = NOM),\n",
    "             data = mu, linetype = \"dashed\") +\n",
    "      geom_vline(aes(xintercept = q5, color = NOM),\n",
    "             data = mu, linetype = \"dashed\") +\n",
    "      geom_vline(aes(xintercept = q6, color = NOM),\n",
    "             data = mu, linetype = \"dashed\") +\n",
    "      geom_vline(aes(xintercept = q7, color = NOM),\n",
    "             data = mu, linetype = \"dashed\") +\n",
    "      geom_vline(aes(xintercept = q8, color = NOM),\n",
    "             data = mu, linetype = \"dashed\") +\n",
    "      geom_vline(aes(xintercept = q9, color = NOM),\n",
    "             data = mu, linetype = \"dashed\")+\n",
    "scale_x_discrete(name =\"D\", limits=c((unlist(mu[1,])),unlist(mu[1,])))\n",
    "p"
   ]
  },
  {
   "cell_type": "code",
   "execution_count": 85,
   "id": "11c09db2",
   "metadata": {},
   "outputs": [],
   "source": [
    "mu1<-mu\n"
   ]
  },
  {
   "cell_type": "code",
   "execution_count": 104,
   "id": "5ccfc03e",
   "metadata": {},
   "outputs": [],
   "source": [
    "for (i in 2:dim(mu)[2]){\n",
    "    \n",
    "    for (j in 1:dim(mu)[1]){\n",
    "        mu[6+j,i]<-dim(surfp[which((surfp[\"NOM\"]==mu[j,1]) & (surfp[\"taille_men\"]<mu[j,i])), ])[1]\n",
    "        mu[6+j,1]<-paste(\"nb_lower_q\",\"_\",mu[j,1])\n",
    "    }\n",
    "}\n"
   ]
  },
  {
   "cell_type": "code",
   "execution_count": 106,
   "id": "dda13f11",
   "metadata": {},
   "outputs": [
    {
     "data": {
      "text/html": [
       "<table class=\"dataframe\">\n",
       "<caption>A data.frame: 13 × 10</caption>\n",
       "<thead>\n",
       "\t<tr><th></th><th scope=col>NOM</th><th scope=col>q1</th><th scope=col>q2</th><th scope=col>q3</th><th scope=col>q4</th><th scope=col>q5</th><th scope=col>q6</th><th scope=col>q7</th><th scope=col>q8</th><th scope=col>q9</th></tr>\n",
       "\t<tr><th></th><th scope=col>&lt;chr&gt;</th><th scope=col>&lt;chr&gt;</th><th scope=col>&lt;chr&gt;</th><th scope=col>&lt;chr&gt;</th><th scope=col>&lt;chr&gt;</th><th scope=col>&lt;chr&gt;</th><th scope=col>&lt;chr&gt;</th><th scope=col>&lt;chr&gt;</th><th scope=col>&lt;chr&gt;</th><th scope=col>&lt;chr&gt;</th></tr>\n",
       "</thead>\n",
       "<tbody>\n",
       "\t<tr><th scope=row>1</th><td>Keur Moussa              </td><td>6  </td><td>6  </td><td>7   </td><td>7   </td><td>8   </td><td>9   </td><td>10  </td><td>11  </td><td>13  </td></tr>\n",
       "\t<tr><th scope=row>2</th><td>Méouane                  </td><td>8  </td><td>9  </td><td>10  </td><td>10.2</td><td>11  </td><td>12  </td><td>13  </td><td>14  </td><td>16  </td></tr>\n",
       "\t<tr><th scope=row>3</th><td>Ndande                   </td><td>6  </td><td>7  </td><td>8   </td><td>9   </td><td>10  </td><td>11  </td><td>12  </td><td>14  </td><td>18.1</td></tr>\n",
       "\t<tr><th scope=row>4</th><td>Pambal                   </td><td>7  </td><td>8  </td><td>9.6 </td><td>11  </td><td>13  </td><td>15.2</td><td>17  </td><td>19.6</td><td>23.8</td></tr>\n",
       "\t<tr><th scope=row>5</th><td>Rufisque-Est             </td><td>9.5</td><td>10 </td><td>11.5</td><td>13  </td><td>13.5</td><td>14  </td><td>15.5</td><td>17  </td><td>26  </td></tr>\n",
       "\t<tr><th scope=row>6</th><td>Sangalkam                </td><td>6  </td><td>7.2</td><td>8.3 </td><td>9   </td><td>9   </td><td>10  </td><td>10  </td><td>10.8</td><td>12  </td></tr>\n",
       "\t<tr><th scope=row>7</th><td>nb_lower_q _ Keur Moussa </td><td>5  </td><td>5  </td><td>12  </td><td>12  </td><td>22  </td><td>30  </td><td>35  </td><td>40  </td><td>43  </td></tr>\n",
       "\t<tr><th scope=row>8</th><td>nb_lower_q _ Méouane     </td><td>8  </td><td>16 </td><td>25  </td><td>36  </td><td>36  </td><td>51  </td><td>60  </td><td>68  </td><td>78  </td></tr>\n",
       "\t<tr><th scope=row>9</th><td>nb_lower_q _ Ndande      </td><td>9  </td><td>21 </td><td>35  </td><td>52  </td><td>64  </td><td>81  </td><td>92  </td><td>109 </td><td>126 </td></tr>\n",
       "\t<tr><th scope=row>10</th><td>nb_lower_q _ Pambal      </td><td>6  </td><td>11 </td><td>22  </td><td>26  </td><td>35  </td><td>44  </td><td>49  </td><td>58  </td><td>65  </td></tr>\n",
       "\t<tr><th scope=row>11</th><td>nb_lower_q _ Rufisque-Est</td><td>1  </td><td>1  </td><td>2   </td><td>2   </td><td>3   </td><td>3   </td><td>4   </td><td>4   </td><td>5   </td></tr>\n",
       "\t<tr><th scope=row>12</th><td>nb_lower_q _ Sangalkam   </td><td>4  </td><td>9  </td><td>13  </td><td>13  </td><td>13  </td><td>22  </td><td>22  </td><td>33  </td><td>36  </td></tr>\n",
       "\t<tr><th scope=row>13</th><td>q_probs                  </td><td>10%</td><td>20%</td><td>30% </td><td>40% </td><td>50% </td><td>60% </td><td>70% </td><td>80% </td><td>90% </td></tr>\n",
       "</tbody>\n",
       "</table>\n"
      ],
      "text/latex": [
       "A data.frame: 13 × 10\n",
       "\\begin{tabular}{r|llllllllll}\n",
       "  & NOM & q1 & q2 & q3 & q4 & q5 & q6 & q7 & q8 & q9\\\\\n",
       "  & <chr> & <chr> & <chr> & <chr> & <chr> & <chr> & <chr> & <chr> & <chr> & <chr>\\\\\n",
       "\\hline\n",
       "\t1 & Keur Moussa               & 6   & 6   & 7    & 7    & 8    & 9    & 10   & 11   & 13  \\\\\n",
       "\t2 & Méouane                   & 8   & 9   & 10   & 10.2 & 11   & 12   & 13   & 14   & 16  \\\\\n",
       "\t3 & Ndande                    & 6   & 7   & 8    & 9    & 10   & 11   & 12   & 14   & 18.1\\\\\n",
       "\t4 & Pambal                    & 7   & 8   & 9.6  & 11   & 13   & 15.2 & 17   & 19.6 & 23.8\\\\\n",
       "\t5 & Rufisque-Est              & 9.5 & 10  & 11.5 & 13   & 13.5 & 14   & 15.5 & 17   & 26  \\\\\n",
       "\t6 & Sangalkam                 & 6   & 7.2 & 8.3  & 9    & 9    & 10   & 10   & 10.8 & 12  \\\\\n",
       "\t7 & nb\\_lower\\_q \\_ Keur Moussa  & 5   & 5   & 12   & 12   & 22   & 30   & 35   & 40   & 43  \\\\\n",
       "\t8 & nb\\_lower\\_q \\_ Méouane      & 8   & 16  & 25   & 36   & 36   & 51   & 60   & 68   & 78  \\\\\n",
       "\t9 & nb\\_lower\\_q \\_ Ndande       & 9   & 21  & 35   & 52   & 64   & 81   & 92   & 109  & 126 \\\\\n",
       "\t10 & nb\\_lower\\_q \\_ Pambal       & 6   & 11  & 22   & 26   & 35   & 44   & 49   & 58   & 65  \\\\\n",
       "\t11 & nb\\_lower\\_q \\_ Rufisque-Est & 1   & 1   & 2    & 2    & 3    & 3    & 4    & 4    & 5   \\\\\n",
       "\t12 & nb\\_lower\\_q \\_ Sangalkam    & 4   & 9   & 13   & 13   & 13   & 22   & 22   & 33   & 36  \\\\\n",
       "\t13 & q\\_probs                   & 10\\% & 20\\% & 30\\%  & 40\\%  & 50\\%  & 60\\%  & 70\\%  & 80\\%  & 90\\% \\\\\n",
       "\\end{tabular}\n"
      ],
      "text/markdown": [
       "\n",
       "A data.frame: 13 × 10\n",
       "\n",
       "| <!--/--> | NOM &lt;chr&gt; | q1 &lt;chr&gt; | q2 &lt;chr&gt; | q3 &lt;chr&gt; | q4 &lt;chr&gt; | q5 &lt;chr&gt; | q6 &lt;chr&gt; | q7 &lt;chr&gt; | q8 &lt;chr&gt; | q9 &lt;chr&gt; |\n",
       "|---|---|---|---|---|---|---|---|---|---|---|\n",
       "| 1 | Keur Moussa               | 6   | 6   | 7    | 7    | 8    | 9    | 10   | 11   | 13   |\n",
       "| 2 | Méouane                   | 8   | 9   | 10   | 10.2 | 11   | 12   | 13   | 14   | 16   |\n",
       "| 3 | Ndande                    | 6   | 7   | 8    | 9    | 10   | 11   | 12   | 14   | 18.1 |\n",
       "| 4 | Pambal                    | 7   | 8   | 9.6  | 11   | 13   | 15.2 | 17   | 19.6 | 23.8 |\n",
       "| 5 | Rufisque-Est              | 9.5 | 10  | 11.5 | 13   | 13.5 | 14   | 15.5 | 17   | 26   |\n",
       "| 6 | Sangalkam                 | 6   | 7.2 | 8.3  | 9    | 9    | 10   | 10   | 10.8 | 12   |\n",
       "| 7 | nb_lower_q _ Keur Moussa  | 5   | 5   | 12   | 12   | 22   | 30   | 35   | 40   | 43   |\n",
       "| 8 | nb_lower_q _ Méouane      | 8   | 16  | 25   | 36   | 36   | 51   | 60   | 68   | 78   |\n",
       "| 9 | nb_lower_q _ Ndande       | 9   | 21  | 35   | 52   | 64   | 81   | 92   | 109  | 126  |\n",
       "| 10 | nb_lower_q _ Pambal       | 6   | 11  | 22   | 26   | 35   | 44   | 49   | 58   | 65   |\n",
       "| 11 | nb_lower_q _ Rufisque-Est | 1   | 1   | 2    | 2    | 3    | 3    | 4    | 4    | 5    |\n",
       "| 12 | nb_lower_q _ Sangalkam    | 4   | 9   | 13   | 13   | 13   | 22   | 22   | 33   | 36   |\n",
       "| 13 | q_probs                   | 10% | 20% | 30%  | 40%  | 50%  | 60%  | 70%  | 80%  | 90%  |\n",
       "\n"
      ],
      "text/plain": [
       "   NOM                       q1  q2  q3   q4   q5   q6   q7   q8   q9  \n",
       "1  Keur Moussa               6   6   7    7    8    9    10   11   13  \n",
       "2  Méouane                   8   9   10   10.2 11   12   13   14   16  \n",
       "3  Ndande                    6   7   8    9    10   11   12   14   18.1\n",
       "4  Pambal                    7   8   9.6  11   13   15.2 17   19.6 23.8\n",
       "5  Rufisque-Est              9.5 10  11.5 13   13.5 14   15.5 17   26  \n",
       "6  Sangalkam                 6   7.2 8.3  9    9    10   10   10.8 12  \n",
       "7  nb_lower_q _ Keur Moussa  5   5   12   12   22   30   35   40   43  \n",
       "8  nb_lower_q _ Méouane      8   16  25   36   36   51   60   68   78  \n",
       "9  nb_lower_q _ Ndande       9   21  35   52   64   81   92   109  126 \n",
       "10 nb_lower_q _ Pambal       6   11  22   26   35   44   49   58   65  \n",
       "11 nb_lower_q _ Rufisque-Est 1   1   2    2    3    3    4    4    5   \n",
       "12 nb_lower_q _ Sangalkam    4   9   13   13   13   22   22   33   36  \n",
       "13 q_probs                   10% 20% 30%  40%  50%  60%  70%  80%  90% "
      ]
     },
     "metadata": {},
     "output_type": "display_data"
    }
   ],
   "source": [
    "mu<-mu[1:12,]\n",
    "mu[13,]<-c(\"q_probs\",\"10%\",\"20%\",\"30%\",\"40%\",\"50%\",\"60%\",\"70%\",\"80%\",\"90%\")\n",
    "mu"
   ]
  },
  {
   "cell_type": "code",
   "execution_count": null,
   "id": "fdcd03de",
   "metadata": {},
   "outputs": [],
   "source": []
  }
 ],
 "metadata": {
  "kernelspec": {
   "display_name": "R",
   "language": "R",
   "name": "ir"
  },
  "language_info": {
   "codemirror_mode": "r",
   "file_extension": ".r",
   "mimetype": "text/x-r-source",
   "name": "R",
   "pygments_lexer": "r",
   "version": "4.1.1"
  }
 },
 "nbformat": 4,
 "nbformat_minor": 5
}
